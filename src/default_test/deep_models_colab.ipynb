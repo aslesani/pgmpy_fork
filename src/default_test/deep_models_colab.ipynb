{
  "nbformat": 4,
  "nbformat_minor": 0,
  "metadata": {
    "colab": {
      "name": "deep_models_colab.ipynb",
      "provenance": [],
      "collapsed_sections": [],
      "machine_shape": "hm",
      "include_colab_link": true
    },
    "kernelspec": {
      "display_name": "Python 3",
      "language": "python",
      "name": "python3"
    },
    "language_info": {
      "codemirror_mode": {
        "name": "ipython",
        "version": 3
      },
      "file_extension": ".py",
      "mimetype": "text/x-python",
      "name": "python",
      "nbconvert_exporter": "python",
      "pygments_lexer": "ipython3",
      "version": "3.7.2"
    }
  },
  "cells": [
    {
      "cell_type": "markdown",
      "metadata": {
        "id": "view-in-github",
        "colab_type": "text"
      },
      "source": [
        "<a href=\"https://colab.research.google.com/github/aslesani/pgmpy_fork/blob/master/src/default_test/deep_models_colab.ipynb\" target=\"_parent\"><img src=\"https://colab.research.google.com/assets/colab-badge.svg\" alt=\"Open In Colab\"/></a>"
      ]
    },
    {
      "cell_type": "markdown",
      "metadata": {
        "id": "IiUG5_4gS-t6",
        "colab_type": "text"
      },
      "source": [
        "This file is old. the new one is saved in \n",
        "https://github.com/aslesani/pgmpy_fork.git\n",
        "with name deep_modes_colab\n",
        "\n",
        "\n",
        "---\n",
        "\n"
      ]
    },
    {
      "cell_type": "code",
      "metadata": {
        "id": "jZjjjjmtvAiQ",
        "colab_type": "code",
        "outputId": "cd33609f-1e2b-4476-e316-0bd743cd7e0e",
        "colab": {
          "base_uri": "https://localhost:8080/",
          "height": 136
        }
      },
      "source": [
        "!git clone https://github.com/aslesani/pgmpy_fork.git\n",
        "#ls\n",
        "#!git clone https://github.com/aslesani/created_dataset2.git\n",
        "#!rm -r pgmpy_fork  \n"
      ],
      "execution_count": 0,
      "outputs": [
        {
          "output_type": "stream",
          "text": [
            "Cloning into 'pgmpy_fork'...\n",
            "remote: Enumerating objects: 303, done.\u001b[K\n",
            "remote: Counting objects:   0% (1/303)\u001b[K\rremote: Counting objects:   1% (4/303)\u001b[K\rremote: Counting objects:   2% (7/303)\u001b[K\rremote: Counting objects:   3% (10/303)\u001b[K\rremote: Counting objects:   4% (13/303)\u001b[K\rremote: Counting objects:   5% (16/303)\u001b[K\rremote: Counting objects:   6% (19/303)\u001b[K\rremote: Counting objects:   7% (22/303)\u001b[K\rremote: Counting objects:   8% (25/303)\u001b[K\rremote: Counting objects:   9% (28/303)\u001b[K\rremote: Counting objects:  10% (31/303)\u001b[K\rremote: Counting objects:  11% (34/303)\u001b[K\rremote: Counting objects:  12% (37/303)\u001b[K\rremote: Counting objects:  13% (40/303)\u001b[K\rremote: Counting objects:  14% (43/303)\u001b[K\rremote: Counting objects:  15% (46/303)\u001b[K\rremote: Counting objects:  16% (49/303)\u001b[K\rremote: Counting objects:  17% (52/303)\u001b[K\rremote: Counting objects:  18% (55/303)\u001b[K\rremote: Counting objects:  19% (58/303)\u001b[K\rremote: Counting objects:  20% (61/303)\u001b[K\rremote: Counting objects:  21% (64/303)\u001b[K\rremote: Counting objects:  22% (67/303)\u001b[K\rremote: Counting objects:  23% (70/303)\u001b[K\rremote: Counting objects:  24% (73/303)\u001b[K\rremote: Counting objects:  25% (76/303)\u001b[K\rremote: Counting objects:  26% (79/303)\u001b[K\rremote: Counting objects:  27% (82/303)\u001b[K\rremote: Counting objects:  28% (85/303)\u001b[K\rremote: Counting objects:  29% (88/303)\u001b[K\rremote: Counting objects:  30% (91/303)\u001b[K\rremote: Counting objects:  31% (94/303)\u001b[K\rremote: Counting objects:  32% (97/303)\u001b[K\rremote: Counting objects:  33% (100/303)\u001b[K\rremote: Counting objects:  34% (104/303)\u001b[K\rremote: Counting objects:  35% (107/303)\u001b[K\rremote: Counting objects:  36% (110/303)\u001b[K\rremote: Counting objects:  37% (113/303)\u001b[K\rremote: Counting objects:  38% (116/303)\u001b[K\rremote: Counting objects:  39% (119/303)\u001b[K\rremote: Counting objects:  40% (122/303)\u001b[K\rremote: Counting objects:  41% (125/303)\u001b[K\rremote: Counting objects:  42% (128/303)\u001b[K\rremote: Counting objects:  43% (131/303)\u001b[K\rremote: Counting objects:  44% (134/303)\u001b[K\rremote: Counting objects:  45% (137/303)\u001b[K\rremote: Counting objects:  46% (140/303)\u001b[K\rremote: Counting objects:  47% (143/303)\u001b[K\rremote: Counting objects:  48% (146/303)\u001b[K\rremote: Counting objects:  49% (149/303)\u001b[K\rremote: Counting objects:  50% (152/303)\u001b[K\rremote: Counting objects:  51% (155/303)\u001b[K\rremote: Counting objects:  52% (158/303)\u001b[K\rremote: Counting objects:  53% (161/303)\u001b[K\rremote: Counting objects:  54% (164/303)\u001b[K\rremote: Counting objects:  55% (167/303)\u001b[K\rremote: Counting objects:  56% (170/303)\u001b[K\rremote: Counting objects:  57% (173/303)\u001b[K\rremote: Counting objects:  58% (176/303)\u001b[K\rremote: Counting objects:  59% (179/303)\u001b[K\rremote: Counting objects:  60% (182/303)\u001b[K\rremote: Counting objects:  61% (185/303)\u001b[K\rremote: Counting objects:  62% (188/303)\u001b[K\rremote: Counting objects:  63% (191/303)\u001b[K\rremote: Counting objects:  64% (194/303)\u001b[K\rremote: Counting objects:  65% (197/303)\u001b[K\rremote: Counting objects:  66% (200/303)\u001b[K\rremote: Counting objects:  67% (204/303)\u001b[K\rremote: Counting objects:  68% (207/303)\u001b[K\rremote: Counting objects:  69% (210/303)\u001b[K\rremote: Counting objects:  70% (213/303)\u001b[K\rremote: Counting objects:  71% (216/303)\u001b[K\rremote: Counting objects:  72% (219/303)\u001b[K\rremote: Counting objects:  73% (222/303)\u001b[K\rremote: Counting objects:  74% (225/303)\u001b[K\rremote: Counting objects:  75% (228/303)\u001b[K\rremote: Counting objects:  76% (231/303)\u001b[K\rremote: Counting objects:  77% (234/303)\u001b[K\rremote: Counting objects:  78% (237/303)\u001b[K\rremote: Counting objects:  79% (240/303)\u001b[K\rremote: Counting objects:  80% (243/303)\u001b[K\rremote: Counting objects:  81% (246/303)\u001b[K\rremote: Counting objects:  82% (249/303)\u001b[K\rremote: Counting objects:  83% (252/303)\u001b[K\rremote: Counting objects:  84% (255/303)\u001b[K\rremote: Counting objects:  85% (258/303)\u001b[K\rremote: Counting objects:  86% (261/303)\u001b[K\rremote: Counting objects:  87% (264/303)\u001b[K\rremote: Counting objects:  88% (267/303)\u001b[K\rremote: Counting objects:  89% (270/303)\u001b[K\rremote: Counting objects:  90% (273/303)\u001b[K\rremote: Counting objects:  91% (276/303)\u001b[K\rremote: Counting objects:  92% (279/303)\u001b[K\rremote: Counting objects:  93% (282/303)\u001b[K\rremote: Counting objects:  94% (285/303)\u001b[K\rremote: Counting objects:  95% (288/303)\u001b[K\rremote: Counting objects:  96% (291/303)\u001b[K\rremote: Counting objects:  97% (294/303)\u001b[K\rremote: Counting objects:  98% (297/303)\u001b[K\rremote: Counting objects:  99% (300/303)\u001b[K\rremote: Counting objects: 100% (303/303)\u001b[K\rremote: Counting objects: 100% (303/303), done.\u001b[K\n",
            "remote: Compressing objects:   0% (1/121)\u001b[K\rremote: Compressing objects:   1% (2/121)\u001b[K\rremote: Compressing objects:   2% (3/121)\u001b[K\rremote: Compressing objects:   3% (4/121)\u001b[K\rremote: Compressing objects:   4% (5/121)\u001b[K\rremote: Compressing objects:   5% (7/121)\u001b[K\rremote: Compressing objects:   6% (8/121)\u001b[K\rremote: Compressing objects:   7% (9/121)\u001b[K\rremote: Compressing objects:   8% (10/121)\u001b[K\rremote: Compressing objects:   9% (11/121)\u001b[K\rremote: Compressing objects:  10% (13/121)\u001b[K\rremote: Compressing objects:  11% (14/121)\u001b[K\rremote: Compressing objects:  12% (15/121)\u001b[K\rremote: Compressing objects:  13% (16/121)\u001b[K\rremote: Compressing objects:  14% (17/121)\u001b[K\rremote: Compressing objects:  15% (19/121)\u001b[K\rremote: Compressing objects:  16% (20/121)\u001b[K\rremote: Compressing objects:  17% (21/121)\u001b[K\rremote: Compressing objects:  18% (22/121)\u001b[K\rremote: Compressing objects:  19% (23/121)\u001b[K\rremote: Compressing objects:  20% (25/121)\u001b[K\rremote: Compressing objects:  21% (26/121)\u001b[K\rremote: Compressing objects:  22% (27/121)\u001b[K\rremote: Compressing objects:  23% (28/121)\u001b[K\rremote: Compressing objects:  24% (30/121)\u001b[K\rremote: Compressing objects:  25% (31/121)\u001b[K\rremote: Compressing objects:  26% (32/121)\u001b[K\rremote: Compressing objects:  27% (33/121)\u001b[K\rremote: Compressing objects:  28% (34/121)\u001b[K\rremote: Compressing objects:  29% (36/121)\u001b[K\rremote: Compressing objects:  30% (37/121)\u001b[K\rremote: Compressing objects:  31% (38/121)\u001b[K\rremote: Compressing objects:  32% (39/121)\u001b[K\rremote: Compressing objects:  33% (40/121)\u001b[K\rremote: Compressing objects:  34% (42/121)\u001b[K\rremote: Compressing objects:  35% (43/121)\u001b[K\rremote: Compressing objects:  36% (44/121)\u001b[K\rremote: Compressing objects:  37% (45/121)\u001b[K\rremote: Compressing objects:  38% (46/121)\u001b[K\rremote: Compressing objects:  39% (48/121)\u001b[K\rremote: Compressing objects:  40% (49/121)\u001b[K\rremote: Compressing objects:  41% (50/121)\u001b[K\rremote: Compressing objects:  42% (51/121)\u001b[K\rremote: Compressing objects:  43% (53/121)\u001b[K\rremote: Compressing objects:  44% (54/121)\u001b[K\rremote: Compressing objects:  45% (55/121)\u001b[K\rremote: Compressing objects:  46% (56/121)\u001b[K\rremote: Compressing objects:  47% (57/121)\u001b[K\rremote: Compressing objects:  48% (59/121)\u001b[K\rremote: Compressing objects:  49% (60/121)\u001b[K\rremote: Compressing objects:  50% (61/121)\u001b[K\rremote: Compressing objects:  51% (62/121)\u001b[K\rremote: Compressing objects:  52% (63/121)\u001b[K\rremote: Compressing objects:  53% (65/121)\u001b[K\rremote: Compressing objects:  54% (66/121)\u001b[K\rremote: Compressing objects:  55% (67/121)\u001b[K\rremote: Compressing objects:  56% (68/121)\u001b[K\rremote: Compressing objects:  57% (69/121)\u001b[K\rremote: Compressing objects:  58% (71/121)\u001b[K\rremote: Compressing objects:  59% (72/121)\u001b[K\rremote: Compressing objects:  60% (73/121)\u001b[K\rremote: Compressing objects:  61% (74/121)\u001b[K\rremote: Compressing objects:  62% (76/121)\u001b[K\rremote: Compressing objects:  63% (77/121)\u001b[K\rremote: Compressing objects:  64% (78/121)\u001b[K\rremote: Compressing objects:  65% (79/121)\u001b[K\rremote: Compressing objects:  66% (80/121)\u001b[K\rremote: Compressing objects:  67% (82/121)\u001b[K\rremote: Compressing objects:  68% (83/121)\u001b[K\rremote: Compressing objects:  69% (84/121)\u001b[K\rremote: Compressing objects:  70% (85/121)\u001b[K\rremote: Compressing objects:  71% (86/121)\u001b[K\rremote: Compressing objects:  72% (88/121)\u001b[K\rremote: Compressing objects:  73% (89/121)\u001b[K\rremote: Compressing objects:  74% (90/121)\u001b[K\rremote: Compressing objects:  75% (91/121)\u001b[K\rremote: Compressing objects:  76% (92/121)\u001b[K\rremote: Compressing objects:  77% (94/121)\u001b[K\rremote: Compressing objects:  78% (95/121)\u001b[K\rremote: Compressing objects:  79% (96/121)\u001b[K\rremote: Compressing objects:  80% (97/121)\u001b[K\rremote: Compressing objects:  81% (99/121)\u001b[K\rremote: Compressing objects:  82% (100/121)\u001b[K\rremote: Compressing objects:  83% (101/121)\u001b[K\rremote: Compressing objects:  84% (102/121)\u001b[K\rremote: Compressing objects:  85% (103/121)\u001b[K\rremote: Compressing objects:  86% (105/121)\u001b[K\rremote: Compressing objects:  87% (106/121)\u001b[K\rremote: Compressing objects:  88% (107/121)\u001b[K\rremote: Compressing objects:  89% (108/121)\u001b[K\rremote: Compressing objects:  90% (109/121)\u001b[K\rremote: Compressing objects:  91% (111/121)\u001b[K\rremote: Compressing objects:  92% (112/121)\u001b[K\rremote: Compressing objects:  93% (113/121)\u001b[K\rremote: Compressing objects:  94% (114/121)\u001b[K\rremote: Compressing objects:  95% (115/121)\u001b[K\rremote: Compressing objects:  96% (117/121)\u001b[K\rremote: Compressing objects:  97% (118/121)\u001b[K\rremote: Compressing objects:  98% (119/121)\u001b[K\rremote: Compressing objects:  99% (120/121)\u001b[K\rremote: Compressing objects: 100% (121/121)\u001b[K\rremote: Compressing objects: 100% (121/121), done.\u001b[K\n",
            "Receiving objects:   0% (1/1308)   \rReceiving objects:   1% (14/1308)   \rReceiving objects:   2% (27/1308)   \rReceiving objects:   3% (40/1308)   \rReceiving objects:   4% (53/1308)   \rReceiving objects:   5% (66/1308)   \rReceiving objects:   6% (79/1308)   \rReceiving objects:   7% (92/1308)   \rReceiving objects:   8% (105/1308)   \rReceiving objects:   9% (118/1308)   \rReceiving objects:  10% (131/1308)   \rReceiving objects:  11% (144/1308)   \rReceiving objects:  12% (157/1308)   \rReceiving objects:  13% (171/1308)   \rReceiving objects:  14% (184/1308)   \rReceiving objects:  15% (197/1308)   \rReceiving objects:  16% (210/1308)   \rReceiving objects:  17% (223/1308)   \rReceiving objects:  18% (236/1308)   \rReceiving objects:  19% (249/1308)   \rReceiving objects:  20% (262/1308)   \rReceiving objects:  21% (275/1308)   \rReceiving objects:  22% (288/1308)   \rReceiving objects:  23% (301/1308)   \rReceiving objects:  24% (314/1308)   \rReceiving objects:  25% (327/1308)   \rReceiving objects:  26% (341/1308)   \rReceiving objects:  27% (354/1308)   \rReceiving objects:  28% (367/1308)   \rReceiving objects:  29% (380/1308)   \rReceiving objects:  30% (393/1308)   \rReceiving objects:  31% (406/1308)   \rReceiving objects:  32% (419/1308)   \rReceiving objects:  33% (432/1308)   \rReceiving objects:  34% (445/1308)   \rReceiving objects:  35% (458/1308)   \rReceiving objects:  36% (471/1308)   \rReceiving objects:  37% (484/1308)   \rReceiving objects:  38% (498/1308)   \rReceiving objects:  39% (511/1308)   \rReceiving objects:  40% (524/1308)   \rReceiving objects:  41% (537/1308)   \rReceiving objects:  42% (550/1308)   \rReceiving objects:  43% (563/1308)   \rReceiving objects:  44% (576/1308)   \rReceiving objects:  45% (589/1308)   \rReceiving objects:  46% (602/1308)   \rReceiving objects:  47% (615/1308)   \rReceiving objects:  48% (628/1308)   \rReceiving objects:  49% (641/1308)   \rReceiving objects:  50% (654/1308)   \rReceiving objects:  51% (668/1308)   \rReceiving objects:  52% (681/1308)   \rReceiving objects:  53% (694/1308)   \rReceiving objects:  54% (707/1308)   \rReceiving objects:  55% (720/1308)   \rReceiving objects:  56% (733/1308)   \rReceiving objects:  57% (746/1308)   \rReceiving objects:  58% (759/1308)   \rReceiving objects:  59% (772/1308)   \rReceiving objects:  60% (785/1308)   \rReceiving objects:  61% (798/1308)   \rReceiving objects:  62% (811/1308)   \rReceiving objects:  63% (825/1308)   \rReceiving objects:  64% (838/1308)   \rReceiving objects:  65% (851/1308)   \rReceiving objects:  66% (864/1308)   \rReceiving objects:  67% (877/1308)   \rReceiving objects:  68% (890/1308)   \rReceiving objects:  69% (903/1308)   \rReceiving objects:  70% (916/1308)   \rReceiving objects:  71% (929/1308)   \rReceiving objects:  72% (942/1308)   \rReceiving objects:  73% (955/1308)   \rReceiving objects:  74% (968/1308)   \rReceiving objects:  75% (981/1308)   \rReceiving objects:  76% (995/1308)   \rReceiving objects:  77% (1008/1308)   \rReceiving objects:  78% (1021/1308)   \rReceiving objects:  79% (1034/1308)   \rReceiving objects:  80% (1047/1308)   \rReceiving objects:  81% (1060/1308)   \rReceiving objects:  82% (1073/1308)   \rReceiving objects:  83% (1086/1308)   \rReceiving objects:  84% (1099/1308)   \rReceiving objects:  85% (1112/1308)   \rremote: Total 1308 (delta 158), reused 265 (delta 122), pack-reused 1005\u001b[K\n",
            "Receiving objects:  86% (1125/1308)   \rReceiving objects:  87% (1138/1308)   \rReceiving objects:  88% (1152/1308)   \rReceiving objects:  89% (1165/1308)   \rReceiving objects:  90% (1178/1308)   \rReceiving objects:  91% (1191/1308)   \rReceiving objects:  92% (1204/1308)   \rReceiving objects:  93% (1217/1308)   \rReceiving objects:  94% (1230/1308)   \rReceiving objects:  95% (1243/1308)   \rReceiving objects:  96% (1256/1308)   \rReceiving objects:  97% (1269/1308)   \rReceiving objects:  98% (1282/1308)   \rReceiving objects:  99% (1295/1308)   \rReceiving objects: 100% (1308/1308)   \rReceiving objects: 100% (1308/1308), 704.16 KiB | 6.90 MiB/s, done.\n",
            "Resolving deltas:   0% (0/717)   \rResolving deltas:   2% (15/717)   \rResolving deltas:  21% (157/717)   \rResolving deltas:  22% (158/717)   \rResolving deltas:  24% (175/717)   \rResolving deltas:  27% (199/717)   \rResolving deltas:  32% (230/717)   \rResolving deltas:  34% (244/717)   \rResolving deltas:  35% (255/717)   \rResolving deltas:  36% (261/717)   \rResolving deltas:  37% (267/717)   \rResolving deltas:  38% (273/717)   \rResolving deltas:  47% (337/717)   \rResolving deltas:  48% (346/717)   \rResolving deltas:  51% (372/717)   \rResolving deltas:  54% (389/717)   \rResolving deltas:  55% (397/717)   \rResolving deltas:  76% (550/717)   \rResolving deltas:  77% (554/717)   \rResolving deltas:  86% (623/717)   \rResolving deltas:  87% (628/717)   \rResolving deltas:  90% (651/717)   \rResolving deltas:  91% (653/717)   \rResolving deltas:  92% (662/717)   \rResolving deltas:  93% (670/717)   \rResolving deltas:  95% (687/717)   \rResolving deltas:  96% (691/717)   \rResolving deltas:  97% (698/717)   \rResolving deltas:  98% (706/717)   \rResolving deltas:  99% (714/717)   \rResolving deltas: 100% (717/717)   \rResolving deltas: 100% (717/717), done.\n"
          ],
          "name": "stdout"
        }
      ]
    },
    {
      "cell_type": "code",
      "metadata": {
        "id": "q8Cegskbsmp2",
        "colab_type": "code",
        "outputId": "d7c58adb-cb59-4aa2-aa29-2247a0266dbc",
        "colab": {
          "base_uri": "https://localhost:8080/",
          "height": 34
        }
      },
      "source": [
        "cd pgmpy_fork/src/default_test"
      ],
      "execution_count": 0,
      "outputs": [
        {
          "output_type": "stream",
          "text": [
            "/content/pgmpy_fork/src/default_test\n"
          ],
          "name": "stdout"
        }
      ]
    },
    {
      "cell_type": "code",
      "metadata": {
        "colab_type": "code",
        "id": "OmJrgoGBTfgJ",
        "outputId": "e3caa661-9c4f-4f50-aea3-f6a689c9452c",
        "colab": {
          "base_uri": "https://localhost:8080/",
          "height": 34
        }
      },
      "source": [
        "'''Trains an LSTM model on the IMDB sentiment classification task.\n",
        "The dataset is actually too small for LSTM to be of any advantage\n",
        "compared to simpler, much faster methods such as TF-IDF + LogReg.\n",
        "# Notes\n",
        "- RNNs are tricky. Choice of batch size is important,\n",
        "choice of loss and optimizer is critical, etc.\n",
        "Some configurations won't converge.\n",
        "- LSTM loss decrease patterns during training can be quite different\n",
        "from what you see with CNNs/MLPs/etc.\n",
        "'''\n",
        "from __future__ import print_function\n",
        "\n",
        "from keras.preprocessing import sequence\n",
        "from keras.models import Sequential\n",
        "from keras.layers import Dense, Embedding\n",
        "from keras.layers import LSTM, SimpleRNN, GRU\n",
        "from keras.datasets import imdb\n",
        "import numpy as np\n",
        "\n",
        "from read_write import data_preparation_for_sequences_based_deep_models, convert_binary_classes_to_zero_and_one\n",
        "\n",
        "from sklearn.metrics import f1_score, precision_score , recall_score, accuracy_score\n"
      ],
      "execution_count": 0,
      "outputs": [
        {
          "output_type": "stream",
          "text": [
            "Using TensorFlow backend.\n"
          ],
          "name": "stderr"
        }
      ]
    },
    {
      "cell_type": "code",
      "metadata": {
        "colab_type": "code",
        "id": "WJSdFzlqcakL",
        "colab": {}
      },
      "source": [
        "import matplotlib.pyplot as plt\n",
        "\n",
        "def plot_train_val_graph(history):\n",
        "  loss = history.history['loss']\n",
        "  val_loss = history.history['val_loss']\n",
        "  epochs = range(1, len(loss) + 1)\n",
        "  print('epochs:' , epochs)\n",
        "  plt.figure()\n",
        "  plt.plot(epochs, loss, 'bo', label='Training loss')\n",
        "  plt.plot(epochs, val_loss, 'b', label='Validation loss')\n",
        "  plt.title('Training and validation loss')\n",
        "  plt.legend()\n",
        "  plt.show()\n",
        "\n",
        "  \n",
        "def get_max_len_of_sequences(list_of_sequences):\n",
        "  lengths = [len(list_of_sequences[i]) for i in range(len(list_of_sequences))]\n",
        "  return max(lengths) , min(lengths) , lengths\n",
        "\n",
        "\n",
        "def get_set_of_sensor_events(list_of_sequences):\n",
        " \n",
        "  set_of_sensor_events = set()\n",
        "  \n",
        "  for i in range(len(list_of_sequences)):\n",
        "      set_of_sensor_events = set_of_sensor_events.union(set(list_of_sequences[i]))\n",
        "  \n",
        "  return set_of_sensor_events, len(set_of_sensor_events)\n",
        "\n",
        "\n",
        "#!pip install tabulate \n",
        "\n",
        "from tabulate import tabulate\n",
        "\n",
        "#print(tabulate([['Alice', 24], ['Bob', 19]], headers=['algorithm', 'acc']))\n",
        "\n",
        "def print_list_of_lists(data , headers):\n",
        "    print(tabulate(data, headers=headers))\n",
        "\n",
        "def test_print_list_of_lists():\n",
        "    data = [['Alice', 24], ['Bob', 19]]\n",
        "    headers=['algorithm', 'acc']\n",
        "    print_list_of_lists(data , headers)\n"
      ],
      "execution_count": 0,
      "outputs": []
    },
    {
      "cell_type": "code",
      "metadata": {
        "colab_type": "code",
        "id": "Adhup5wx35Il",
        "colab": {}
      },
      "source": [
        "from keras import backend as K\n",
        "\n",
        "def mcor(y_true, y_pred):\n",
        "    #matthews_correlation\n",
        "    y_pred_pos = K.round(K.clip(y_pred, 0, 1))\n",
        "    y_pred_neg = 1 - y_pred_pos\n",
        " \n",
        " \n",
        "    y_pos = K.round(K.clip(y_true, 0, 1))\n",
        "    y_neg = 1 - y_pos\n",
        " \n",
        " \n",
        "    tp = K.sum(y_pos * y_pred_pos)\n",
        "    tn = K.sum(y_neg * y_pred_neg)\n",
        " \n",
        " \n",
        "    fp = K.sum(y_neg * y_pred_pos)\n",
        "    fn = K.sum(y_pos * y_pred_neg)\n",
        " \n",
        " \n",
        "    numerator = (tp * tn - fp * fn)\n",
        "    denominator = K.sqrt((tp + fp) * (tp + fn) * (tn + fp) * (tn + fn))\n",
        " \n",
        " \n",
        "    return numerator / (denominator + K.epsilon())\n",
        "\n",
        "\n",
        "def precision(y_true, y_pred):\n",
        "    \"\"\"Precision metric.\n",
        "\n",
        "    Only computes a batch-wise average of precision.\n",
        "\n",
        "    Computes the precision, a metric for multi-label classification of\n",
        "    how many selected items are relevant.\n",
        "    \"\"\"\n",
        "    true_positives = K.sum(K.round(K.clip(y_true * y_pred, 0, 1)))\n",
        "    predicted_positives = K.sum(K.round(K.clip(y_pred, 0, 1)))\n",
        "    precision = true_positives / (predicted_positives + K.epsilon())\n",
        "    return precision\n",
        "\n",
        "def recall(y_true, y_pred):\n",
        "    \"\"\"Recall metric.\n",
        "\n",
        "    Only computes a batch-wise average of recall.\n",
        "\n",
        "    Computes the recall, a metric for multi-label classification of\n",
        "    how many relevant items are selected.\n",
        "    \"\"\"\n",
        "    true_positives = K.sum(K.round(K.clip(y_true * y_pred, 0, 1)))\n",
        "    possible_positives = K.sum(K.round(K.clip(y_true, 0, 1)))\n",
        "    recall = true_positives / (possible_positives + K.epsilon())\n",
        "    return recall\n",
        "\n",
        "\n",
        "def f1(y_true, y_pred):\n",
        "    def recall(y_true, y_pred):\n",
        "        \"\"\"Recall metric.\n",
        "\n",
        "        Only computes a batch-wise average of recall.\n",
        "\n",
        "        Computes the recall, a metric for multi-label classification of\n",
        "        how many relevant items are selected.\n",
        "        \"\"\"\n",
        "        true_positives = K.sum(K.round(K.clip(y_true * y_pred, 0, 1)))\n",
        "        possible_positives = K.sum(K.round(K.clip(y_true, 0, 1)))\n",
        "        recall = true_positives / (possible_positives + K.epsilon())\n",
        "        return recall\n",
        "\n",
        "    def precision(y_true, y_pred):\n",
        "        \"\"\"Precision metric.\n",
        "\n",
        "        Only computes a batch-wise average of precision.\n",
        "\n",
        "        Computes the precision, a metric for multi-label classification of\n",
        "        how many selected items are relevant.\n",
        "        \"\"\"\n",
        "        true_positives = K.sum(K.round(K.clip(y_true * y_pred, 0, 1)))\n",
        "        predicted_positives = K.sum(K.round(K.clip(y_pred, 0, 1)))\n",
        "        precision = true_positives / (predicted_positives + K.epsilon())\n",
        "        return precision\n",
        "    #print(\"y_true:\", y_true)\n",
        "    #print(\"y_pred:\",y_pred)\n",
        "    precision = precision(y_true, y_pred)\n",
        "    recall = recall(y_true, y_pred)\n",
        "    #print(\"precision:\", precision)\n",
        "    #print(\"recall:\", recall)\n",
        "    return 2*((precision*recall)/(precision+recall+K.epsilon()))\n",
        "\n",
        "def f1_skl(y_true, y_pred):\n",
        "    f1_score_micro = f1_score(y_true, y_pred, average='micro') \n",
        "    return f1_score_micro\n",
        "\n"
      ],
      "execution_count": 0,
      "outputs": []
    },
    {
      "cell_type": "code",
      "metadata": {
        "colab_type": "code",
        "id": "Npd2VghtklVO",
        "colab": {}
      },
      "source": [
        "#! cd pgmpy_fork/src/default_test\n",
        "#!ls\n",
        "#!git clone https://github.com/pgmpy/pgmpy \n",
        "#cd ..\n",
        "#!ls\n",
        "#!cd pgmpy/\n",
        "#pip install -r requirements.txt\n",
        "#!python setup.py install\n"
      ],
      "execution_count": 0,
      "outputs": []
    },
    {
      "cell_type": "code",
      "metadata": {
        "colab_type": "code",
        "id": "BsUaDYDeTx3t",
        "colab": {}
      },
      "source": [
        "def create_model_and_apply_on_data(x_train, y_train,x_test, y_test, max_features,\n",
        "                                   embedding_vector_dim = 8, batch_size = 32, epochs = 10, \n",
        "                                   loss = 'binary_crossentropy', optimizer='rmsprop', metrics=[f1], \n",
        "                                   plot_trainvalgraph = True,\n",
        "                                   number_of_lstm_layers = 1,\n",
        "                                   ID_of_layer_to_repeat = 0):\n",
        "  '''\n",
        "  Parameters:\n",
        "  ===============\n",
        "  number_of_lstm_layers (default value = 1)\n",
        "      indicate the number of layers in stack of layers\n",
        "  \n",
        "  ID_of_layer_to_repeat (default value = 0)\n",
        "     0: LSTM\n",
        "     1:RNN\n",
        "     2: GRU\n",
        "  \n",
        "  '''\n",
        "  #batch_size = 32\n",
        "\n",
        "  print('Build model...')\n",
        "  model = Sequential()\n",
        "  model.add(Embedding(max_features+1, embedding_vector_dim))\n",
        "  #model.add(SimpleRNN(64, dropout=0.2, recurrent_dropout=0.2, return_sequences=True))\n",
        "  #model.add(SimpleRNN(64, dropout=0.2, recurrent_dropout=0.2, return_sequences=True))\n",
        "  \n",
        "  layer_names = [LSTM, SimpleRNN, GRU]\n",
        "  if number_of_lstm_layers > 1:\n",
        "        for l in range(number_of_lstm_layers-1):\n",
        "            model.add(layer_names[ID_of_layer_to_repeat](64, dropout=0.2, recurrent_dropout=0.2, return_sequences = True))\n",
        "  model.add(layer_names[ID_of_layer_to_repeat](64, dropout=0.2, recurrent_dropout=0.2))\n",
        "        \n",
        "  model.add(Dense(1, activation='sigmoid'))\n",
        "\n",
        "  model.summary()\n",
        "\n",
        "  # try using different optimizers and different optimizer configs\n",
        "  model.compile(loss= loss,\n",
        "                optimizer=optimizer,\n",
        "                metrics= metrics)#, mcor,recall, f1])\n",
        "\n",
        "  print('Train...')\n",
        "  history = model.fit(x_train, y_train,\n",
        "            batch_size=batch_size,\n",
        "            epochs=epochs,\n",
        "            validation_data=(x_test, y_test))\n",
        "  score, acc = model.evaluate(x_test, y_test,\n",
        "                              batch_size=batch_size)\n",
        "  #print('Test score:', score)# i think score is loss value\n",
        "  #print('Test accuracy:', acc)\n",
        " \n",
        "  #print(model.layers[0].output)\n",
        "  if plot_trainvalgraph:\n",
        "      plot_train_val_graph(history)\n",
        "      \n",
        "  return score, acc, history, len(x_train), len(x_test)"
      ],
      "execution_count": 0,
      "outputs": []
    },
    {
      "cell_type": "code",
      "metadata": {
        "id": "fNI__qhfJ9e3",
        "colab_type": "code",
        "colab": {}
      },
      "source": [
        "def return_number_of_words_of_dataset(dataset_name):\n",
        "    if dataset_name == \"Twor2009\": \n",
        "        number_of_words = 122\n",
        "    elif dataset_name == \"Tulum2009\":\n",
        "        number_of_words = 32\n",
        "    elif dataset_name == \"Tulum2010\":\n",
        "        number_of_words = 62\n",
        "    else:\n",
        "        number_of_words = int(input(\"Enter number_of_words: Twor2009:122 Tulum2009: 32 Tulum2010: 62\\nfor\"+ address_to_read + \"\\n\"))\n",
        "    \n",
        "    return number_of_words\n",
        "\n",
        "def return_embedding_vector_dim(dataset_name):\n",
        "    if dataset_name == \"Twor2009\": \n",
        "        embedding_vector_dim = 64\n",
        "    else:\n",
        "        embedding_vector_dim = 8\n",
        "\n",
        "    return embedding_vector_dim\n",
        "\n",
        "def return_metric(dataset_name):\n",
        "   if dataset_name == \"Twor2009\": \n",
        "        metric = [f1]\n",
        "   else:\n",
        "        metric = ['accuracy']\n",
        "    \n",
        "   return metric"
      ],
      "execution_count": 0,
      "outputs": []
    },
    {
      "cell_type": "code",
      "metadata": {
        "colab_type": "code",
        "id": "jMsynyAJJCnJ",
        "colab": {}
      },
      "source": [
        "def select_hyperparameters(address_to_read, ID_of_layer_to_repeat, hasActivitycol, dataset_name ,metrics, shuffle):\n",
        "    #address_to_read= r\"E:/pgmpy/Seq of sensor events_based on activities/based_on_activities.csv\"\n",
        "    #address_to_read = r\"E:\\pgmpy\\Seq of sensor events_no overlap_based on different deltas\\delta_{}min.csv\"\n",
        "    #address_to_read = r\"E:\\pgmpy\\Seq of sensor events_based_on_activity_and_no_overlap_delta\\delta_{}min.csv\"\n",
        "    \n",
        "    number_of_words = return_number_of_words_of_dataset(dataset_name)\n",
        "    embedding_vector_dim = return_embedding_vector_dim(dataset_name)\n",
        "\n",
        "    for layers in range(1,5):\n",
        "        print(\"number_of_lstm_layers:\" , layers)\n",
        "\n",
        "        results = []\n",
        "        for delta in [75]:#[15,45,60,75,90,100, 120,150, 180,200,240,300,400,500,600,700,800,900,1000]: #list(range(1,15)) + [15, 30,45,60,75,90,100, 120,150, 180,200,240,300,400,500,600,700,800,900,1000]: \n",
        "            print(\"delta:\" , delta)\n",
        "            x_train, x_test, y_train, y_test, max_features, maxlen = data_preparation_for_sequences_based_deep_models(address_to_read = address_to_read.format(dt = dataset_name,d = delta),\n",
        "                                                                                                                  number_of_words = number_of_words, \n",
        "                                                                                                                  max_seq_len = 20,\n",
        "                                                                                                                  hasActivitycol= hasActivitycol,\n",
        "                                                                                                                  shuffle = shuffle)\n",
        "            \n",
        "            \n",
        "            #122 for twor2009, tulum2009 32, tulum2010 62\n",
        "           \n",
        "            test_score, test_acc, history, num_of_train_samples, num_of_test_sample = create_model_and_apply_on_data(x_train =x_train, \n",
        "                                                                                                y_train = y_train,\n",
        "                                                                                                x_test = x_test, \n",
        "                                                                                                y_test = y_test, \n",
        "                                                                                                max_features = max_features,\n",
        "                                                                                                number_of_lstm_layers = layers,\n",
        "                                                                                                ID_of_layer_to_repeat = ID_of_layer_to_repeat,\n",
        "                                                                                                metrics = metrics,\n",
        "                                                                                                embedding_vector_dim = embedding_vector_dim)\n",
        "            results.append([delta, \n",
        "                        num_of_train_samples, \n",
        "                        num_of_test_sample, \n",
        "                        history.history['loss'][-1], \n",
        "                        history.history['f1'][-1] ,\n",
        "                        test_score, \n",
        "                        test_acc])#, history.history\n",
        "        #print(history.history)\n",
        "        print_list_of_lists(results, ['delta(min)' ,\n",
        "                                  '#train', \n",
        "                                  '#test', \n",
        "                                  'train loss(last)', \n",
        "                                  'train_f1(last)', \n",
        "                                  'val loss ', \n",
        "                                  'val f1', ])#'history'\n",
        "        print(\"results=\", results)\n",
        "        #print(\"results[:][-1]:\", results[:][-1])\n",
        "        #best_val_acc_index = np.argmax(results[:][-1])\n",
        "        #print(\"****************************************\")\n",
        "        #print(\"best vlidation acc delta:\" , results[best_val_acc_index][0])\n",
        "    \n",
        "    return results\n",
        "    \n",
        "    "
      ],
      "execution_count": 0,
      "outputs": []
    },
    {
      "cell_type": "code",
      "metadata": {
        "id": "5UE-60hN4zGt",
        "colab_type": "code",
        "outputId": "6f8ecb3c-c0fe-404d-be69-ea897b1c48df",
        "colab": {
          "base_uri": "https://localhost:8080/",
          "height": 34
        }
      },
      "source": [
        "!git clone https://github.com/aslesani/created_dataset2.git\n"
      ],
      "execution_count": 0,
      "outputs": [
        {
          "output_type": "stream",
          "text": [
            "fatal: destination path 'created_dataset2' already exists and is not an empty directory.\n"
          ],
          "name": "stdout"
        }
      ]
    },
    {
      "cell_type": "code",
      "metadata": {
        "id": "5ibGc51ifmdA",
        "colab_type": "code",
        "outputId": "bf47621c-7202-4aff-d3ef-8495bf97da01",
        "colab": {
          "base_uri": "https://localhost:8080/",
          "height": 1000
        }
      },
      "source": [
        "dataset_name = \"Twor2009\"\n",
        "shuffle = False\n",
        "#address_to_read, hasActivitycol= r\"created_dataset2/{dt}/Seq of sensor events_based on activities/based_on_activities.csv\", True\n",
        "#address_to_read, hasActivitycol = r\"created_dataset2/{dt}/Seq of sensor events_no overlap_based on different deltas/delta_{d}min.csv\", False\n",
        "address_to_read, hasActivitycol = r\"created_dataset2/{dt}/Seq of sensor events_based_on_activity_and_no_overlap_delta/delta_{d}min.csv\", True\n",
        "#address_to_read = address_to_read.format(d, dataset_name)\n",
        "print(address_to_read)\n",
        "print(dataset_name)\n",
        "ID_of_layer_to_repeat = 1\n",
        "print(\"ID_of_layer_to_repeat:\" , ID_of_layer_to_repeat)\n",
        "metrics = return_metric(dataset_name)\n",
        "\n",
        "results = select_hyperparameters(address_to_read = address_to_read , \n",
        "                                 ID_of_layer_to_repeat = ID_of_layer_to_repeat, \n",
        "                                 hasActivitycol = hasActivitycol,\n",
        "                                 dataset_name = dataset_name,\n",
        "                                 metrics = metrics,\n",
        "                                shuffle = shuffle)"
      ],
      "execution_count": 0,
      "outputs": [
        {
          "output_type": "stream",
          "text": [
            "created_dataset2/{dt}/Seq of sensor events_based_on_activity_and_no_overlap_delta/delta_{d}min.csv\n",
            "Twor2009\n",
            "ID_of_layer_to_repeat: 1\n",
            "number_of_lstm_layers: 1\n",
            "delta: 75\n",
            "$$$$$$$$before shuffle\n",
            "$$$$$$$after shuffle\n",
            "Pad sequences (samples x time)\n",
            "x_train shape: (2976, 20)\n",
            "x_test shape: (743, 20)\n",
            "Build model...\n",
            "Model: \"sequential_14\"\n",
            "_________________________________________________________________\n",
            "Layer (type)                 Output Shape              Param #   \n",
            "=================================================================\n",
            "embedding_14 (Embedding)     (None, None, 64)          7872      \n",
            "_________________________________________________________________\n",
            "simple_rnn_28 (SimpleRNN)    (None, 64)                8256      \n",
            "_________________________________________________________________\n",
            "dense_13 (Dense)             (None, 1)                 65        \n",
            "=================================================================\n",
            "Total params: 16,193\n",
            "Trainable params: 16,193\n",
            "Non-trainable params: 0\n",
            "_________________________________________________________________\n",
            "Train...\n",
            "Train on 2976 samples, validate on 743 samples\n",
            "Epoch 1/10\n",
            "2976/2976 [==============================] - 3s 1ms/step - loss: 0.4237 - f1: 0.2532 - val_loss: 1.1818 - val_f1: 0.5552\n",
            "Epoch 2/10\n",
            "2976/2976 [==============================] - 1s 233us/step - loss: 0.2591 - f1: 0.5033 - val_loss: 0.6151 - val_f1: 0.8216\n",
            "Epoch 3/10\n",
            "2976/2976 [==============================] - 1s 232us/step - loss: 0.1595 - f1: 0.7529 - val_loss: 0.6270 - val_f1: 0.8671\n",
            "Epoch 4/10\n",
            "2976/2976 [==============================] - 1s 231us/step - loss: 0.1407 - f1: 0.8024 - val_loss: 0.6685 - val_f1: 0.8555\n",
            "Epoch 5/10\n",
            "2976/2976 [==============================] - 1s 218us/step - loss: 0.1302 - f1: 0.8172 - val_loss: 0.6565 - val_f1: 0.8617\n",
            "Epoch 6/10\n",
            "2976/2976 [==============================] - 1s 221us/step - loss: 0.1321 - f1: 0.7889 - val_loss: 0.6517 - val_f1: 0.8683\n",
            "Epoch 7/10\n",
            "2976/2976 [==============================] - 1s 219us/step - loss: 0.1308 - f1: 0.7964 - val_loss: 0.7003 - val_f1: 0.8525\n",
            "Epoch 8/10\n",
            "2976/2976 [==============================] - 1s 218us/step - loss: 0.1242 - f1: 0.8270 - val_loss: 0.7174 - val_f1: 0.8577\n",
            "Epoch 9/10\n",
            "2976/2976 [==============================] - 1s 211us/step - loss: 0.1264 - f1: 0.8173 - val_loss: 0.7586 - val_f1: 0.8560\n",
            "Epoch 10/10\n",
            "2976/2976 [==============================] - 1s 215us/step - loss: 0.1237 - f1: 0.8087 - val_loss: 0.7548 - val_f1: 0.8552\n",
            "743/743 [==============================] - 0s 61us/step\n",
            "epochs: range(1, 11)\n"
          ],
          "name": "stdout"
        },
        {
          "output_type": "display_data",
          "data": {
            "image/png": "[encoded data removed]",
            "text/plain": [
              "<Figure size 432x288 with 1 Axes>"
            ]
          },
          "metadata": {
            "tags": []
          }
        },
        {
          "output_type": "stream",
          "text": [
            "  delta(min)    #train    #test    train loss(last)    train_f1(last)    val loss     val f1\n",
            "------------  --------  -------  ------------------  ----------------  -----------  --------\n",
            "          75      2976      743            0.123685          0.808683     0.754794  0.855174\n",
            "results= [[75, 2976, 743, 0.12368479766632601, 0.8086825134933636, 0.7547941834240911, 0.8551743726871537]]\n",
            "number_of_lstm_layers: 2\n",
            "delta: 75\n",
            "$$$$$$$$before shuffle\n",
            "$$$$$$$after shuffle\n",
            "Pad sequences (samples x time)\n",
            "x_train shape: (2976, 20)\n",
            "x_test shape: (743, 20)\n",
            "Build model...\n",
            "Model: \"sequential_15\"\n",
            "_________________________________________________________________\n",
            "Layer (type)                 Output Shape              Param #   \n",
            "=================================================================\n",
            "embedding_15 (Embedding)     (None, None, 64)          7872      \n",
            "_________________________________________________________________\n",
            "simple_rnn_29 (SimpleRNN)    (None, None, 64)          8256      \n",
            "_________________________________________________________________\n",
            "simple_rnn_30 (SimpleRNN)    (None, 64)                8256      \n",
            "_________________________________________________________________\n",
            "dense_14 (Dense)             (None, 1)                 65        \n",
            "=================================================================\n",
            "Total params: 24,449\n",
            "Trainable params: 24,449\n",
            "Non-trainable params: 0\n",
            "_________________________________________________________________\n",
            "Train...\n",
            "Train on 2976 samples, validate on 743 samples\n",
            "Epoch 1/10\n",
            "2976/2976 [==============================] - 4s 1ms/step - loss: 0.4032 - f1: 0.3790 - val_loss: 1.3104 - val_f1: 0.5835\n",
            "Epoch 2/10\n",
            "2976/2976 [==============================] - 1s 346us/step - loss: 0.2863 - f1: 0.5161 - val_loss: 0.7329 - val_f1: 0.7295\n",
            "Epoch 3/10\n",
            "2976/2976 [==============================] - 1s 350us/step - loss: 0.1682 - f1: 0.7417 - val_loss: 0.5788 - val_f1: 0.8681\n",
            "Epoch 4/10\n",
            "2976/2976 [==============================] - 1s 344us/step - loss: 0.1428 - f1: 0.8084 - val_loss: 0.7344 - val_f1: 0.8442\n",
            "Epoch 5/10\n",
            "2976/2976 [==============================] - 1s 349us/step - loss: 0.1375 - f1: 0.7958 - val_loss: 0.6764 - val_f1: 0.8617\n",
            "Epoch 6/10\n",
            "2976/2976 [==============================] - 1s 350us/step - loss: 0.1311 - f1: 0.8107 - val_loss: 0.6724 - val_f1: 0.8751\n",
            "Epoch 7/10\n",
            "2976/2976 [==============================] - 1s 351us/step - loss: 0.1351 - f1: 0.8111 - val_loss: 0.7150 - val_f1: 0.8554\n",
            "Epoch 8/10\n",
            "2976/2976 [==============================] - 1s 343us/step - loss: 0.1290 - f1: 0.8402 - val_loss: 0.7181 - val_f1: 0.8632\n",
            "Epoch 9/10\n",
            "2976/2976 [==============================] - 1s 351us/step - loss: 0.1277 - f1: 0.8301 - val_loss: 0.7592 - val_f1: 0.8577\n",
            "Epoch 10/10\n",
            "2976/2976 [==============================] - 1s 345us/step - loss: 0.1248 - f1: 0.8307 - val_loss: 0.7333 - val_f1: 0.8525\n",
            "743/743 [==============================] - 0s 102us/step\n",
            "epochs: range(1, 11)\n"
          ],
          "name": "stdout"
        },
        {
          "output_type": "display_data",
          "data": {
            "image/png": "[encoded data removed]",
            "text/plain": [
              "<Figure size 432x288 with 1 Axes>"
            ]
          },
          "metadata": {
            "tags": []
          }
        },
        {
          "output_type": "stream",
          "text": [
            "  delta(min)    #train    #test    train loss(last)    train_f1(last)    val loss     val f1\n",
            "------------  --------  -------  ------------------  ----------------  -----------  --------\n",
            "          75      2976      743            0.124839          0.830655     0.733261  0.852498\n",
            "results= [[75, 2976, 743, 0.12483921493854254, 0.8306551537206096, 0.7332614574325679, 0.8524979068966605]]\n",
            "number_of_lstm_layers: 3\n",
            "delta: 75\n",
            "$$$$$$$$before shuffle\n",
            "$$$$$$$after shuffle\n",
            "Pad sequences (samples x time)\n",
            "x_train shape: (2976, 20)\n",
            "x_test shape: (743, 20)\n",
            "Build model...\n",
            "Model: \"sequential_16\"\n",
            "_________________________________________________________________\n",
            "Layer (type)                 Output Shape              Param #   \n",
            "=================================================================\n",
            "embedding_16 (Embedding)     (None, None, 64)          7872      \n",
            "_________________________________________________________________\n",
            "simple_rnn_31 (SimpleRNN)    (None, None, 64)          8256      \n",
            "_________________________________________________________________\n",
            "simple_rnn_32 (SimpleRNN)    (None, None, 64)          8256      \n",
            "_________________________________________________________________\n",
            "simple_rnn_33 (SimpleRNN)    (None, 64)                8256      \n",
            "_________________________________________________________________\n",
            "dense_15 (Dense)             (None, 1)                 65        \n",
            "=================================================================\n",
            "Total params: 32,705\n",
            "Trainable params: 32,705\n",
            "Non-trainable params: 0\n",
            "_________________________________________________________________\n",
            "Train...\n",
            "Train on 2976 samples, validate on 743 samples\n",
            "Epoch 1/10\n",
            "2976/2976 [==============================] - 5s 2ms/step - loss: 0.4133 - f1: 0.3492 - val_loss: 1.5100 - val_f1: 0.5679\n",
            "Epoch 2/10\n",
            "2976/2976 [==============================] - 1s 491us/step - loss: 0.3736 - f1: 0.4256 - val_loss: 1.2754 - val_f1: 0.5726\n",
            "Epoch 3/10\n",
            "2976/2976 [==============================] - 1s 476us/step - loss: 0.2864 - f1: 0.5196 - val_loss: 0.4599 - val_f1: 0.8971\n",
            "Epoch 4/10\n",
            "2976/2976 [==============================] - 1s 485us/step - loss: 0.1842 - f1: 0.7384 - val_loss: 0.6163 - val_f1: 0.8694\n",
            "Epoch 5/10\n",
            "2976/2976 [==============================] - 1s 476us/step - loss: 0.1544 - f1: 0.7726 - val_loss: 0.6692 - val_f1: 0.8717\n",
            "Epoch 6/10\n",
            "2976/2976 [==============================] - 1s 483us/step - loss: 0.1452 - f1: 0.8116 - val_loss: 0.7574 - val_f1: 0.8545\n",
            "Epoch 7/10\n",
            "2976/2976 [==============================] - 1s 477us/step - loss: 0.1378 - f1: 0.8262 - val_loss: 0.7272 - val_f1: 0.8525\n",
            "Epoch 8/10\n",
            "2976/2976 [==============================] - 1s 476us/step - loss: 0.1431 - f1: 0.8125 - val_loss: 0.7312 - val_f1: 0.8672\n",
            "Epoch 9/10\n",
            "2976/2976 [==============================] - 1s 478us/step - loss: 0.1298 - f1: 0.8146 - val_loss: 0.6775 - val_f1: 0.8626\n",
            "Epoch 10/10\n",
            "2976/2976 [==============================] - 1s 453us/step - loss: 0.1316 - f1: 0.8210 - val_loss: 0.7316 - val_f1: 0.8496\n",
            "743/743 [==============================] - 0s 136us/step\n",
            "epochs: range(1, 11)\n"
          ],
          "name": "stdout"
        },
        {
          "output_type": "display_data",
          "data": {
            "image/png": "[encoded data removed]",
            "text/plain": [
              "<Figure size 432x288 with 1 Axes>"
            ]
          },
          "metadata": {
            "tags": []
          }
        },
        {
          "output_type": "stream",
          "text": [
            "  delta(min)    #train    #test    train loss(last)    train_f1(last)    val loss     val f1\n",
            "------------  --------  -------  ------------------  ----------------  -----------  --------\n",
            "          75      2976      743            0.131596          0.821049     0.731609  0.849627\n",
            "results= [[75, 2976, 743, 0.13159554297485018, 0.8210490893933081, 0.7316089750118403, 0.849627182910452]]\n",
            "number_of_lstm_layers: 4\n",
            "delta: 75\n",
            "$$$$$$$$before shuffle\n",
            "$$$$$$$after shuffle\n",
            "Pad sequences (samples x time)\n",
            "x_train shape: (2976, 20)\n",
            "x_test shape: (743, 20)\n",
            "Build model...\n",
            "Model: \"sequential_17\"\n",
            "_________________________________________________________________\n",
            "Layer (type)                 Output Shape              Param #   \n",
            "=================================================================\n",
            "embedding_17 (Embedding)     (None, None, 64)          7872      \n",
            "_________________________________________________________________\n",
            "simple_rnn_34 (SimpleRNN)    (None, None, 64)          8256      \n",
            "_________________________________________________________________\n",
            "simple_rnn_35 (SimpleRNN)    (None, None, 64)          8256      \n",
            "_________________________________________________________________\n",
            "simple_rnn_36 (SimpleRNN)    (None, None, 64)          8256      \n",
            "_________________________________________________________________\n",
            "simple_rnn_37 (SimpleRNN)    (None, 64)                8256      \n",
            "_________________________________________________________________\n",
            "dense_16 (Dense)             (None, 1)                 65        \n",
            "=================================================================\n",
            "Total params: 40,961\n",
            "Trainable params: 40,961\n",
            "Non-trainable params: 0\n",
            "_________________________________________________________________\n",
            "Train...\n",
            "Train on 2976 samples, validate on 743 samples\n",
            "Epoch 1/10\n",
            "2976/2976 [==============================] - 6s 2ms/step - loss: 0.4641 - f1: 0.2437 - val_loss: 1.2378 - val_f1: 0.5913\n",
            "Epoch 2/10\n",
            "2976/2976 [==============================] - 2s 612us/step - loss: 0.3754 - f1: 0.4420 - val_loss: 1.0020 - val_f1: 0.5876\n",
            "Epoch 3/10\n",
            "2976/2976 [==============================] - 2s 594us/step - loss: 0.3606 - f1: 0.4745 - val_loss: 0.9925 - val_f1: 0.6220\n",
            "Epoch 4/10\n",
            "2976/2976 [==============================] - 2s 594us/step - loss: 0.2516 - f1: 0.6228 - val_loss: 0.4665 - val_f1: 0.8838\n",
            "Epoch 5/10\n",
            "2976/2976 [==============================] - 2s 603us/step - loss: 0.1764 - f1: 0.7375 - val_loss: 0.5582 - val_f1: 0.8729\n",
            "Epoch 6/10\n",
            "2976/2976 [==============================] - 2s 597us/step - loss: 0.1518 - f1: 0.8059 - val_loss: 0.6159 - val_f1: 0.8803\n",
            "Epoch 7/10\n",
            "2976/2976 [==============================] - 2s 601us/step - loss: 0.1525 - f1: 0.7976 - val_loss: 0.9709 - val_f1: 0.7821\n",
            "Epoch 8/10\n",
            "2976/2976 [==============================] - 2s 597us/step - loss: 0.1522 - f1: 0.7945 - val_loss: 0.6486 - val_f1: 0.8810\n",
            "Epoch 9/10\n",
            "2976/2976 [==============================] - 2s 619us/step - loss: 0.1493 - f1: 0.7912 - val_loss: 0.7267 - val_f1: 0.8652\n",
            "Epoch 10/10\n",
            "2976/2976 [==============================] - 2s 601us/step - loss: 0.1425 - f1: 0.8231 - val_loss: 0.8064 - val_f1: 0.8322\n",
            "743/743 [==============================] - 0s 191us/step\n",
            "epochs: range(1, 11)\n"
          ],
          "name": "stdout"
        },
        {
          "output_type": "display_data",
          "data": {
            "image/png": "[encoded data removed]",
            "text/plain": [
              "<Figure size 432x288 with 1 Axes>"
            ]
          },
          "metadata": {
            "tags": []
          }
        },
        {
          "output_type": "stream",
          "text": [
            "  delta(min)    #train    #test    train loss(last)    train_f1(last)    val loss     val f1\n",
            "------------  --------  -------  ------------------  ----------------  -----------  --------\n",
            "          75      2976      743            0.142536           0.82307     0.806405  0.832208\n",
            "results= [[75, 2976, 743, 0.14253622353557618, 0.823070321031796, 0.8064049097457412, 0.8322084704125714]]\n"
          ],
          "name": "stdout"
        }
      ]
    },
    {
      "cell_type": "code",
      "metadata": {
        "id": "SYHx_Jt5fmdD",
        "colab_type": "code",
        "colab": {}
      },
      "source": [
        "print(results[:][-1])\n",
        "print(np.argmax(results[:][-1]))"
      ],
      "execution_count": 0,
      "outputs": []
    },
    {
      "cell_type": "code",
      "metadata": {
        "id": "WWs67_ZbfmdG",
        "colab_type": "code",
        "outputId": "0ae093a6-30f2-42f7-8fa1-638eaf4e5f8d",
        "colab": {
          "base_uri": "https://localhost:8080/",
          "height": 408
        }
      },
      "source": [
        "dataset_name = \"Tulum2010\"\n",
        "shuffle = True\n",
        "\n",
        "address_to_read= r\"created_dataset2/{}/Seq of sensor events_based on activities/based_on_activities.csv\".format(dataset_name)\n",
        "\n",
        "number_of_words = return_number_of_words_of_dataset(dataset_name)\n",
        "\n",
        "\n",
        "x_train, x_test, y_train, y_test, max_features, maxlen = data_preparation_for_sequences_based_deep_models(address_to_read,\n",
        "                                                                                                         number_of_words = number_of_words, \n",
        "                                                                                                        max_seq_len = 20,\n",
        "                                                                                                         hasActivitycol = True,\n",
        "                                                                                                         shuffle = shuffle)\n",
        "ID_of_layer_to_repeat = 0\n",
        "embedding_vector_dim = return_embedding_vector_dim(dataset_name)\n",
        "\n",
        "metric = return_metric(dataset_name)\n",
        "for layers in range(1,5):\n",
        "    print(\"number_of_layers:\" , layers)\n",
        "\n",
        "    test_score, test_f1, history, num_of_train_samples, num_of_test_sample = create_model_and_apply_on_data(x_train, \n",
        "                                                                                                        y_train,\n",
        "                                                                                                        x_test, \n",
        "                                                                                                        y_test, \n",
        "                                                                                                        max_features,\n",
        "                                                                                                        number_of_lstm_layers = layers,\n",
        "                                                                                                        ID_of_layer_to_repeat = ID_of_layer_to_repeat,\n",
        "                                                                                                        embedding_vector_dim = embedding_vector_dim,\n",
        "                                                                                                        metrics = metric)\n",
        "    print(\"test_score:\",test_score)\n",
        "    print(\"test_f1:\" , test_f1)\n",
        "    print(\"history:\" , history.history)\n",
        "    print(\"num_of_train_samples:\" , num_of_train_samples)\n",
        "    print(\"num_of_test_sample:\" , num_of_test_sample)\n"
      ],
      "execution_count": 0,
      "outputs": [
        {
          "output_type": "stream",
          "text": [
            "$$$$$$$$before shuffle\n",
            "> /content/pgmpy_fork/src/default_test/shuffle_data.py(8)unison_shuffled_copies()\n",
            "-> changed_type = False\n",
            "(Pdb) type(a)\n",
            "<class 'list'>\n",
            "(Pdb) type(b)\n",
            "<class 'list'>\n",
            "(Pdb) len(a)\n",
            "343012\n",
            "(Pdb) len(b)\n",
            "343012\n",
            "(Pdb) n\n",
            "> /content/pgmpy_fork/src/default_test/shuffle_data.py(9)unison_shuffled_copies()\n",
            "-> if type(a) == list:\n",
            "(Pdb) n\n",
            "> /content/pgmpy_fork/src/default_test/shuffle_data.py(10)unison_shuffled_copies()\n",
            "-> changed_type = True\n",
            "(Pdb) n\n",
            "> /content/pgmpy_fork/src/default_test/shuffle_data.py(11)unison_shuffled_copies()\n",
            "-> a = np.array(a)\n",
            "(Pdb) type(a)\n",
            "<class 'list'>\n",
            "(Pdb) n\n"
          ],
          "name": "stdout"
        }
      ]
    },
    {
      "cell_type": "code",
      "metadata": {
        "colab_type": "code",
        "id": "bUbyz1O5TtEV",
        "colab": {}
      },
      "source": [
        "x_train, x_test, y_train, y_test, max_features, maxlen = imdb_lstm_data_preparation(maxlen=10)\n",
        "#my_x_train, my_x_test, my_y_train, my_y_test, my_max_features, my_maxlen = data_preparation_for_sequences_based_deep_models(address_to_read)\n",
        "#x_train, x_test, y_train, y_test, max_features, maxlen = data_preparation_for_sequences_based_deep_models(address_to_read)#imdb_lstm_data_preparation(maxlen=10)\n",
        "create_model_and_apply_on_data(x_train, y_train,x_test, y_test, max_features,embedding_vector_dim = maxlen)"
      ],
      "execution_count": 0,
      "outputs": []
    },
    {
      "cell_type": "code",
      "metadata": {
        "colab_type": "code",
        "id": "Rhnw6Y4kQbIz",
        "colab": {}
      },
      "source": [
        "embeddings = model.layers[0].get_weights()[0]\n",
        "print(embeddings)"
      ],
      "execution_count": 0,
      "outputs": []
    },
    {
      "cell_type": "code",
      "metadata": {
        "colab_type": "code",
        "id": "HPT1K2r9RsFo",
        "colab": {}
      },
      "source": [
        "# `word_to_index` is a mapping (i.e. dict) from words to their index, e.g. `love`: 69\n",
        "words_embeddings = {w:embeddings[idx] for w, idx in word_to_index.items()}\n",
        "\n",
        "# now you can use it like this for example\n",
        "print(words_embeddings['love'])  # possible output: [0.21, 0.56, ..., 0.65, 0.10]\n"
      ],
      "execution_count": 0,
      "outputs": []
    },
    {
      "cell_type": "code",
      "metadata": {
        "colab_type": "code",
        "id": "yhQ1x75KbI19",
        "colab": {}
      },
      "source": [
        "print(type(score) , type(acc))"
      ],
      "execution_count": 0,
      "outputs": []
    },
    {
      "cell_type": "code",
      "metadata": {
        "colab_type": "code",
        "id": "cM2IkLSSM458",
        "colab": {}
      },
      "source": [
        "def imdb_lstm_data_preparation(max_features = 20000, maxlen = 80):\n",
        "  #max_features = 20000#number_of_events\n",
        "  # cut texts after this number of words (among top max_features most common words)\n",
        "  #maxlen = 10#max_seq_len\n",
        "\n",
        "  print('Loading data...')\n",
        "  (x_train, y_train), (x_test, y_test) = imdb.load_data(num_words=max_features)\n",
        "  print(len(x_train), 'train sequences')\n",
        "  print(len(x_test), 'test sequences')\n",
        "\n",
        "  #print('before apply pad_sequence, x_train[0]:' , x_train[0])\n",
        "\n",
        "  print('Pad sequences (samples x time)')\n",
        "  x_train = sequence.pad_sequences(x_train, maxlen=maxlen)\n",
        "  x_test = sequence.pad_sequences(x_test, maxlen=maxlen)\n",
        "  print('x_train shape:', x_train.shape)\n",
        "  print('x_test shape:', x_test.shape)\n",
        "  \n",
        "  return x_train, x_test, y_train, y_test, max_features, maxlen\n",
        "\n",
        "\n",
        "\n",
        "def make_lstm_without_embedding(x_train, y_train,x_test, y_test, max_features,embedding_vector_dim = 64, batch_size = 32, epochs = 5, \n",
        "                                   loss = 'binary_crossentropy', optimizer='rmsprop', metrics=['accuracy'], plot_train_val_graph = False):\n",
        "  \n",
        "  #batch_size = 32\n",
        "\n",
        "  print('Build model...')\n",
        "  model = Sequential()\n",
        "  #model.add(Embedding(max_features+1, embedding_vector_dim))\n",
        "  #model.add(SimpleRNN(64, dropout=0.2, recurrent_dropout=0.2, return_sequences=True))\n",
        "  #model.add(SimpleRNN(64, dropout=0.2, recurrent_dropout=0.2, return_sequences=True))\n",
        "  model.add(LSTM(64, dropout=0.2, recurrent_dropout=0.2))\n",
        "  model.add(Dense(1, activation='sigmoid'))\n",
        "\n",
        "  model.summary()\n",
        "\n",
        "  # try using different optimizers and different optimizer configs\n",
        "  model.compile(loss= loss,\n",
        "                optimizer=optimizer,\n",
        "                metrics= metrics)#, mcor,recall, f1])\n",
        "\n",
        "  print('Train...')\n",
        "  history = model.fit(x_train, y_train,\n",
        "            batch_size=batch_size,\n",
        "            epochs=epochs,\n",
        "            validation_data=(x_test, y_test))\n",
        "  score, acc = model.evaluate(x_test, y_test,\n",
        "                              batch_size=batch_size)\n",
        "  print('Test score:', score)# i think score is loss value\n",
        "  print('Test accuracy:', acc)\n",
        " \n",
        "  if plot_train_val_graph:\n",
        "      plot_train_val_graph(history)\n",
        "      \n",
        "  return score, acc, history, len(x_train), len(x_test)"
      ],
      "execution_count": 0,
      "outputs": []
    }
  ]
}