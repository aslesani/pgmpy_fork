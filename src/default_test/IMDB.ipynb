{
 "cells": [
  {
   "cell_type": "code",
   "execution_count": 10,
   "metadata": {},
   "outputs": [],
   "source": [
    "from keras.datasets import imdb\n",
    "from keras.preprocessing import sequence\n",
    "from keras.layers import LSTM, Dense\n",
    "from keras.models import Sequential\n",
    "from keras.layers import Embedding, SimpleRNN"
   ]
  },
  {
   "cell_type": "code",
   "execution_count": 2,
   "metadata": {},
   "outputs": [],
   "source": [
    "max_features = 10000\n",
    "maxlen = 500\n",
    "batch_size = 32"
   ]
  },
  {
   "cell_type": "code",
   "execution_count": 3,
   "metadata": {},
   "outputs": [
    {
     "name": "stdout",
     "output_type": "stream",
     "text": [
      "Downloading data from https://s3.amazonaws.com/text-datasets/imdb.npz\n",
      "17465344/17464789 [==============================] - 36s 2us/step\n",
      "25000 train sequences\n",
      "25000 test sequences\n"
     ]
    }
   ],
   "source": [
    "(input_train, y_train), (input_test, y_test) = imdb.load_data(num_words=max_features)\n",
    "print(len(input_train), 'train sequences')\n",
    "print(len(input_test), 'test sequences')"
   ]
  },
  {
   "cell_type": "code",
   "execution_count": 4,
   "metadata": {},
   "outputs": [
    {
     "name": "stdout",
     "output_type": "stream",
     "text": [
      "Pad sequences (samples x time)\n",
      "input_train shape: (25000, 500)\n",
      "input_test shape: (25000, 500)\n"
     ]
    }
   ],
   "source": [
    "print('Pad sequences (samples x time)')\n",
    "input_train = sequence.pad_sequences(input_train, maxlen=maxlen)\n",
    "input_test = sequence.pad_sequences(input_test, maxlen=maxlen)\n",
    "print('input_train shape:', input_train.shape)\n",
    "print('input_test shape:', input_test.shape)"
   ]
  },
  {
   "cell_type": "code",
   "execution_count": 11,
   "metadata": {
    "scrolled": true
   },
   "outputs": [
    {
     "name": "stdout",
     "output_type": "stream",
     "text": [
      "Train on 20000 samples, validate on 5000 samples\n",
      "Epoch 1/10\n",
      "20000/20000 [==============================] - 100s 5ms/step - loss: 0.5115 - acc: 0.7459 - val_loss: 0.3787 - val_acc: 0.8326\n",
      "Epoch 2/10\n",
      "20000/20000 [==============================] - 99s 5ms/step - loss: 0.3054 - acc: 0.8783 - val_loss: 0.2803 - val_acc: 0.8858\n",
      "Epoch 3/10\n",
      "20000/20000 [==============================] - 112s 6ms/step - loss: 0.2370 - acc: 0.9110 - val_loss: 0.3299 - val_acc: 0.8640\n",
      "Epoch 4/10\n",
      "20000/20000 [==============================] - 126s 6ms/step - loss: 0.2019 - acc: 0.9236 - val_loss: 0.2773 - val_acc: 0.8928\n",
      "Epoch 5/10\n",
      "20000/20000 [==============================] - 126s 6ms/step - loss: 0.1784 - acc: 0.9380 - val_loss: 0.2921 - val_acc: 0.8808\n",
      "Epoch 6/10\n",
      "20000/20000 [==============================] - 121s 6ms/step - loss: 0.1629 - acc: 0.9411 - val_loss: 0.2931 - val_acc: 0.8846\n",
      "Epoch 7/10\n",
      "20000/20000 [==============================] - 124s 6ms/step - loss: 0.1443 - acc: 0.9482 - val_loss: 0.4655 - val_acc: 0.8254\n",
      "Epoch 8/10\n",
      "20000/20000 [==============================] - 120s 6ms/step - loss: 0.1324 - acc: 0.9530 - val_loss: 0.5049 - val_acc: 0.8530\n",
      "Epoch 9/10\n",
      "20000/20000 [==============================] - 110s 5ms/step - loss: 0.1251 - acc: 0.9564 - val_loss: 0.3335 - val_acc: 0.8788\n",
      "Epoch 10/10\n",
      "20000/20000 [==============================] - 110s 6ms/step - loss: 0.1093 - acc: 0.9621 - val_loss: 0.4774 - val_acc: 0.8474\n"
     ]
    }
   ],
   "source": [
    "model = Sequential()\n",
    "model.add(Embedding(max_features, 32))\n",
    "model.add(LSTM(32))\n",
    "model.add(Dense(1, activation='sigmoid'))\n",
    "\n",
    "model.compile(optimizer='rmsprop',loss='binary_crossentropy',metrics=['acc'])\n",
    "history = model.fit(input_train, y_train,epochs=10, batch_size=128,validation_split=0.2)"
   ]
  },
  {
   "cell_type": "code",
   "execution_count": 15,
   "metadata": {},
   "outputs": [
    {
     "name": "stdout",
     "output_type": "stream",
     "text": [
      "{'loss': [0.51149139394760135, 0.30539141104221346, 0.23702574887275696, 0.20188154945373535, 0.17837168469429016, 0.16294008684158326, 0.14428127636909485, 0.13241773631572723, 0.12507689954042434, 0.10928021681308746], 'val_acc': [0.83260000000000001, 0.88580000000000003, 0.86399999999999999, 0.89280000000000004, 0.88080000000000003, 0.88460000000000005, 0.82540000000000002, 0.85299999999999998, 0.87880000000000003, 0.84740000000000004], 'val_loss': [0.37872021131515504, 0.280292510676384, 0.32993087835311891, 0.27733323962688444, 0.29210689566135406, 0.29309439749717714, 0.46551266260147095, 0.50485357933044439, 0.33350613126754763, 0.47739777644872666], 'acc': [0.74585000000000001, 0.87829999999999997, 0.91100000000000003, 0.92364999999999997, 0.93799999999999994, 0.94105000000000005, 0.94820000000000004, 0.95304999999999995, 0.95640000000000003, 0.96209999999999996]}\n"
     ]
    }
   ],
   "source": [
    "print(history.)"
   ]
  },
  {
   "cell_type": "code",
   "execution_count": 13,
   "metadata": {},
   "outputs": [
    {
     "name": "stdout",
     "output_type": "stream",
     "text": [
      "_________________________________________________________________\n",
      "Layer (type)                 Output Shape              Param #   \n",
      "=================================================================\n",
      "embedding_2 (Embedding)      (None, None, 32)          320000    \n",
      "_________________________________________________________________\n",
      "lstm_2 (LSTM)                (None, 32)                8320      \n",
      "_________________________________________________________________\n",
      "dense_1 (Dense)              (None, 1)                 33        \n",
      "=================================================================\n",
      "Total params: 328,353\n",
      "Trainable params: 328,353\n",
      "Non-trainable params: 0\n",
      "_________________________________________________________________\n"
     ]
    }
   ],
   "source": [
    "model.summary()"
   ]
  }
 ],
 "metadata": {
  "kernelspec": {
   "display_name": "Python 3",
   "language": "python",
   "name": "python3"
  },
  "language_info": {
   "codemirror_mode": {
    "name": "ipython",
    "version": 3
   },
   "file_extension": ".py",
   "mimetype": "text/x-python",
   "name": "python",
   "nbconvert_exporter": "python",
   "pygments_lexer": "ipython3",
   "version": "3.5.2"
  }
 },
 "nbformat": 4,
 "nbformat_minor": 2
}
