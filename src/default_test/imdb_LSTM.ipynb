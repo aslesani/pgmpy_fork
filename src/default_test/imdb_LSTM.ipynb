{
  "nbformat": 4,
  "nbformat_minor": 0,
  "metadata": {
    "colab": {
      "name": "imdb_LSTM.ipynb",
      "version": "0.3.2",
      "provenance": [],
      "collapsed_sections": [],
      "include_colab_link": true
    },
    "kernelspec": {
      "name": "python3",
      "display_name": "Python 3"
    }
  },
  "cells": [
    {
      "cell_type": "markdown",
      "metadata": {
        "id": "view-in-github",
        "colab_type": "text"
      },
      "source": [
        "<a href=\"https://colab.research.google.com/github/aslesani/pgmpy_fork/blob/master/src/default_test/imdb_LSTM.ipynb\" target=\"_parent\"><img src=\"https://colab.research.google.com/assets/colab-badge.svg\" alt=\"Open In Colab\"/></a>"
      ]
    },
    {
      "metadata": {
        "id": "OmJrgoGBTfgJ",
        "colab_type": "code",
        "colab": {
          "base_uri": "https://localhost:8080/",
          "height": 34
        },
        "outputId": "65072ce5-5318-4161-fc28-ac60b53c9fbf"
      },
      "cell_type": "code",
      "source": [
        "'''Trains an LSTM model on the IMDB sentiment classification task.\n",
        "The dataset is actually too small for LSTM to be of any advantage\n",
        "compared to simpler, much faster methods such as TF-IDF + LogReg.\n",
        "# Notes\n",
        "- RNNs are tricky. Choice of batch size is important,\n",
        "choice of loss and optimizer is critical, etc.\n",
        "Some configurations won't converge.\n",
        "- LSTM loss decrease patterns during training can be quite different\n",
        "from what you see with CNNs/MLPs/etc.\n",
        "'''\n",
        "from __future__ import print_function\n",
        "\n",
        "from keras.preprocessing import sequence\n",
        "from keras.models import Sequential\n",
        "from keras.layers import Dense, Embedding\n",
        "from keras.layers import LSTM, SimpleRNN\n",
        "from keras.datasets import imdb"
      ],
      "execution_count": 1,
      "outputs": [
        {
          "output_type": "stream",
          "text": [
            "Using TensorFlow backend.\n"
          ],
          "name": "stderr"
        }
      ]
    },
    {
      "metadata": {
        "id": "WJSdFzlqcakL",
        "colab_type": "code",
        "colab": {}
      },
      "cell_type": "code",
      "source": [
        "import matplotlib.pyplot as plt\n",
        "\n",
        "def plot_train_val_graph(history):\n",
        "  loss = history.history['loss']\n",
        "  val_loss = history.history['val_loss']\n",
        "  epochs = range(1, len(loss) + 1)\n",
        "  print('epochs:' , epochs)\n",
        "  plt.figure()\n",
        "  plt.plot(epochs, loss, 'bo', label='Training loss')\n",
        "  plt.plot(epochs, val_loss, 'b', label='Validation loss')\n",
        "  plt.title('Training and validation loss')\n",
        "  plt.legend()\n",
        "  plt.show()\n"
      ],
      "execution_count": 0,
      "outputs": []
    },
    {
      "metadata": {
        "id": "ChXfRjq4jJko",
        "colab_type": "code",
        "colab": {}
      },
      "cell_type": "code",
      "source": [
        "def get_max_len_of_sequences(list_of_sequences):\n",
        "  lengths = [len(list_of_sequences[i]) for i in range(len(list_of_sequences))]\n",
        "  return max(lengths) , min(lengths) , lengths"
      ],
      "execution_count": 0,
      "outputs": []
    },
    {
      "metadata": {
        "id": "P_zUyBhXljmq",
        "colab_type": "code",
        "colab": {}
      },
      "cell_type": "code",
      "source": [
        "def get_set_of_sensor_events(list_of_sequences):\n",
        " \n",
        "  set_of_sensor_events = set()\n",
        "  \n",
        "  for i in range(len(list_of_sequences)):\n",
        "      set_of_sensor_events = set_of_sensor_events.union(set(list_of_sequences[i]))\n",
        "  \n",
        "  return set_of_sensor_events, len(set_of_sensor_events)\n",
        "  "
      ],
      "execution_count": 0,
      "outputs": []
    },
    {
      "metadata": {
        "id": "4WTRhBH_XQim",
        "colab_type": "code",
        "colab": {}
      },
      "cell_type": "code",
      "source": [
        "def read_data_from_CSV_file(dest_file , data_type ,  has_header = False , return_as_pandas_data_frame = False , remove_date_and_time = False , return_header_separately = False , convert_int_columns_to_int = False):\n",
        "    '''\n",
        "    this function is a replacement for read_data_from_PCA_output_file and read_data_from_PCA_digitized_file\n",
        "    with more capabalities.\n",
        "    \n",
        "    Parameters:\n",
        "    ==========\n",
        "    dest_file: \n",
        "    data_type: type of data that should be read  \n",
        "    has_header = if the file has header, it is set to True. The header is the first line that starts whit '#' character \n",
        "    return_as_pandas_data_frame = if True, the return_value is pandas Dataframe, else numpy ndaaray\n",
        "    \n",
        "    convert_int_columns_to_int: if the user want to keep date and time columns, then she should \n",
        "                                specify data_type as object and then set convert_int_columns_to_int to True\n",
        "    \n",
        "    Returns:\n",
        "    ========\n",
        "    return_value: type of it is pandas Dataframe or numpy ndaaray\n",
        "    \n",
        "    '''\n",
        "    header = \"\"\n",
        "    with open(dest_file,'r') as dest_f:\n",
        "        data_iter = csv.reader(dest_f, \n",
        "                               delimiter = ',')#quotechar = '\"')\n",
        "    \n",
        "        if has_header:\n",
        "            header = next(data_iter)\n",
        "            header[0] = header[0].split('# ')[1] # remove # from first element\n",
        "        \n",
        "        \n",
        "        data = [data for data in data_iter]\n",
        "    \n",
        "    if remove_date_and_time:\n",
        "        data = np.delete(np.delete(data, -1, 1), -1 , 1)\n",
        "\n",
        "    return_value= np.asarray(data, dtype = data_type)\n",
        "    \n",
        "    if convert_int_columns_to_int:\n",
        "        rows , cols_to_convert = np.shape(return_value)\n",
        "        \n",
        "        if remove_date_and_time == False:\n",
        "            cols_to_convert -=2\n",
        "        \n",
        "        for r in range(rows):\n",
        "            for c in range(cols_to_convert):\n",
        "                return_value[r,c] = int(return_value[r,c])\n",
        "        \n",
        "    \n",
        "    if return_as_pandas_data_frame:\n",
        "        return_value = pd.DataFrame(return_value , columns = header)\n",
        "        \n",
        "    if return_header_separately:\n",
        "        return header , return_value\n",
        "    \n",
        "    else:   \n",
        "        return return_value\n",
        "\n"
      ],
      "execution_count": 0,
      "outputs": []
    },
    {
      "metadata": {
        "id": "PSnIdgbbWlm6",
        "colab_type": "code",
        "outputId": "d252346b-fff5-4af9-a9a7-293d1f880968",
        "colab": {
          "base_uri": "https://localhost:8080/",
          "height": 136
        }
      },
      "cell_type": "code",
      "source": [
        "!git clone https://github.com/aslesani/pgmpy_fork.git\n"
      ],
      "execution_count": 78,
      "outputs": [
        {
          "output_type": "stream",
          "text": [
            "Cloning into 'pgmpy_fork'...\n",
            "remote: Enumerating objects: 197, done.\u001b[K\n",
            "remote: Counting objects:   0% (1/197)   \u001b[K\rremote: Counting objects:   1% (2/197)   \u001b[K\rremote: Counting objects:   2% (4/197)   \u001b[K\rremote: Counting objects:   3% (6/197)   \u001b[K\rremote: Counting objects:   4% (8/197)   \u001b[K\rremote: Counting objects:   5% (10/197)   \u001b[K\rremote: Counting objects:   6% (12/197)   \u001b[K\rremote: Counting objects:   7% (14/197)   \u001b[K\rremote: Counting objects:   8% (16/197)   \u001b[K\rremote: Counting objects:   9% (18/197)   \u001b[K\rremote: Counting objects:  10% (20/197)   \u001b[K\rremote: Counting objects:  11% (22/197)   \u001b[K\rremote: Counting objects:  12% (24/197)   \u001b[K\rremote: Counting objects:  13% (26/197)   \u001b[K\rremote: Counting objects:  14% (28/197)   \u001b[K\rremote: Counting objects:  15% (30/197)   \u001b[K\rremote: Counting objects:  16% (32/197)   \u001b[K\rremote: Counting objects:  17% (34/197)   \u001b[K\rremote: Counting objects:  18% (36/197)   \u001b[K\rremote: Counting objects:  19% (38/197)   \u001b[K\rremote: Counting objects:  20% (40/197)   \u001b[K\rremote: Counting objects:  21% (42/197)   \u001b[K\rremote: Counting objects:  22% (44/197)   \u001b[K\rremote: Counting objects:  23% (46/197)   \u001b[K\rremote: Counting objects:  24% (48/197)   \u001b[K\rremote: Counting objects:  25% (50/197)   \u001b[K\rremote: Counting objects:  26% (52/197)   \u001b[K\rremote: Counting objects:  27% (54/197)   \u001b[K\rremote: Counting objects:  28% (56/197)   \u001b[K\rremote: Counting objects:  29% (58/197)   \u001b[K\rremote: Counting objects:  30% (60/197)   \u001b[K\rremote: Counting objects:  31% (62/197)   \u001b[K\rremote: Counting objects:  32% (64/197)   \u001b[K\rremote: Counting objects:  33% (66/197)   \u001b[K\rremote: Counting objects:  34% (67/197)   \u001b[K\rremote: Counting objects:  35% (69/197)   \u001b[K\rremote: Counting objects:  36% (71/197)   \u001b[K\rremote: Counting objects:  37% (73/197)   \u001b[K\rremote: Counting objects:  38% (75/197)   \u001b[K\rremote: Counting objects:  39% (77/197)   \u001b[K\rremote: Counting objects:  40% (79/197)   \u001b[K\rremote: Counting objects:  41% (81/197)   \u001b[K\rremote: Counting objects:  42% (83/197)   \u001b[K\rremote: Counting objects:  43% (85/197)   \u001b[K\rremote: Counting objects:  44% (87/197)   \u001b[K\rremote: Counting objects:  45% (89/197)   \u001b[K\rremote: Counting objects:  46% (91/197)   \u001b[K\rremote: Counting objects:  47% (93/197)   \u001b[K\rremote: Counting objects:  48% (95/197)   \u001b[K\rremote: Counting objects:  49% (97/197)   \u001b[K\rremote: Counting objects:  50% (99/197)   \u001b[K\rremote: Counting objects:  51% (101/197)   \u001b[K\rremote: Counting objects:  52% (103/197)   \u001b[K\rremote: Counting objects:  53% (105/197)   \u001b[K\rremote: Counting objects:  54% (107/197)   \u001b[K\rremote: Counting objects:  55% (109/197)   \u001b[K\rremote: Counting objects:  56% (111/197)   \u001b[K\rremote: Counting objects:  57% (113/197)   \u001b[K\rremote: Counting objects:  58% (115/197)   \u001b[K\rremote: Counting objects:  59% (117/197)   \u001b[K\rremote: Counting objects:  60% (119/197)   \u001b[K\rremote: Counting objects:  61% (121/197)   \u001b[K\rremote: Counting objects:  62% (123/197)   \u001b[K\rremote: Counting objects:  63% (125/197)   \u001b[K\rremote: Counting objects:  64% (127/197)   \u001b[K\rremote: Counting objects:  65% (129/197)   \u001b[K\rremote: Counting objects:  66% (131/197)   \u001b[K\rremote: Counting objects:  67% (132/197)   \u001b[K\rremote: Counting objects:  68% (134/197)   \u001b[K\rremote: Counting objects:  69% (136/197)   \u001b[K\rremote: Counting objects:  70% (138/197)   \u001b[K\rremote: Counting objects:  71% (140/197)   \u001b[K\rremote: Counting objects:  72% (142/197)   \u001b[K\rremote: Counting objects:  73% (144/197)   \u001b[K\rremote: Counting objects:  74% (146/197)   \u001b[K\rremote: Counting objects:  75% (148/197)   \u001b[K\rremote: Counting objects:  76% (150/197)   \u001b[K\rremote: Counting objects:  77% (152/197)   \u001b[K\rremote: Counting objects:  78% (154/197)   \u001b[K\rremote: Counting objects:  79% (156/197)   \u001b[K\rremote: Counting objects:  80% (158/197)   \u001b[K\rremote: Counting objects:  81% (160/197)   \u001b[K\rremote: Counting objects:  82% (162/197)   \u001b[K\rremote: Counting objects:  83% (164/197)   \u001b[K\rremote: Counting objects:  84% (166/197)   \u001b[K\rremote: Counting objects:  85% (168/197)   \u001b[K\rremote: Counting objects:  86% (170/197)   \u001b[K\rremote: Counting objects:  87% (172/197)   \u001b[K\rremote: Counting objects:  88% (174/197)   \u001b[K\rremote: Counting objects:  89% (176/197)   \u001b[K\rremote: Counting objects:  90% (178/197)   \u001b[K\rremote: Counting objects:  91% (180/197)   \u001b[K\rremote: Counting objects:  92% (182/197)   \u001b[K\rremote: Counting objects:  93% (184/197)   \u001b[K\rremote: Counting objects:  94% (186/197)   \u001b[K\rremote: Counting objects:  95% (188/197)   \u001b[K\rremote: Counting objects:  96% (190/197)   \u001b[K\rremote: Counting objects:  97% (192/197)   \u001b[K\rremote: Counting objects:  98% (194/197)   \u001b[K\rremote: Counting objects:  99% (196/197)   \u001b[K\rremote: Counting objects: 100% (197/197)   \u001b[K\rremote: Counting objects: 100% (197/197), done.\u001b[K\n",
            "remote: Compressing objects: 100% (100/100), done.\u001b[K\n",
            "remote: Total 966 (delta 94), reused 147 (delta 63), pack-reused 769\u001b[K\n",
            "Receiving objects: 100% (966/966), 558.92 KiB | 2.61 MiB/s, done.\n",
            "Resolving deltas: 100% (524/524), done.\n"
          ],
          "name": "stdout"
        }
      ]
    },
    {
      "metadata": {
        "id": "Zie8KaEFZ48Y",
        "colab_type": "code",
        "outputId": "246c5710-9e66-49b0-a74a-5b4e1d874c34",
        "colab": {
          "base_uri": "https://localhost:8080/",
          "height": 119
        }
      },
      "cell_type": "code",
      "source": [
        "!git clone https://github.com/aslesani/created_dataset.git"
      ],
      "execution_count": 7,
      "outputs": [
        {
          "output_type": "stream",
          "text": [
            "Cloning into 'created_dataset'...\n",
            "remote: Enumerating objects: 87, done.\u001b[K\n",
            "remote: Counting objects:   1% (1/87)   \u001b[K\rremote: Counting objects:   2% (2/87)   \u001b[K\rremote: Counting objects:   3% (3/87)   \u001b[K\rremote: Counting objects:   4% (4/87)   \u001b[K\rremote: Counting objects:   5% (5/87)   \u001b[K\rremote: Counting objects:   6% (6/87)   \u001b[K\rremote: Counting objects:   8% (7/87)   \u001b[K\rremote: Counting objects:   9% (8/87)   \u001b[K\rremote: Counting objects:  10% (9/87)   \u001b[K\rremote: Counting objects:  11% (10/87)   \u001b[K\rremote: Counting objects:  12% (11/87)   \u001b[K\rremote: Counting objects:  13% (12/87)   \u001b[K\rremote: Counting objects:  14% (13/87)   \u001b[K\rremote: Counting objects:  16% (14/87)   \u001b[K\rremote: Counting objects:  17% (15/87)   \u001b[K\rremote: Counting objects:  18% (16/87)   \u001b[K\rremote: Counting objects:  19% (17/87)   \u001b[K\rremote: Counting objects:  20% (18/87)   \u001b[K\rremote: Counting objects:  21% (19/87)   \u001b[K\rremote: Counting objects:  22% (20/87)   \u001b[K\rremote: Counting objects:  24% (21/87)   \u001b[K\rremote: Counting objects:  25% (22/87)   \u001b[K\rremote: Counting objects:  26% (23/87)   \u001b[K\rremote: Counting objects:  27% (24/87)   \u001b[K\rremote: Counting objects:  28% (25/87)   \u001b[K\rremote: Counting objects:  29% (26/87)   \u001b[K\rremote: Counting objects:  31% (27/87)   \u001b[K\rremote: Counting objects:  32% (28/87)   \u001b[K\rremote: Counting objects:  33% (29/87)   \u001b[K\rremote: Counting objects:  34% (30/87)   \u001b[K\rremote: Counting objects:  35% (31/87)   \u001b[K\rremote: Counting objects:  36% (32/87)   \u001b[K\rremote: Counting objects:  37% (33/87)   \u001b[K\rremote: Counting objects:  39% (34/87)   \u001b[K\rremote: Counting objects:  40% (35/87)   \u001b[K\rremote: Counting objects:  41% (36/87)   \u001b[K\rremote: Counting objects:  42% (37/87)   \u001b[K\rremote: Counting objects:  43% (38/87)   \u001b[K\rremote: Counting objects:  44% (39/87)   \u001b[K\rremote: Counting objects:  45% (40/87)   \u001b[K\rremote: Counting objects:  47% (41/87)   \u001b[K\rremote: Counting objects:  48% (42/87)   \u001b[K\rremote: Counting objects:  49% (43/87)   \u001b[K\rremote: Counting objects:  50% (44/87)   \u001b[K\rremote: Counting objects:  51% (45/87)   \u001b[K\rremote: Counting objects:  52% (46/87)   \u001b[K\rremote: Counting objects:  54% (47/87)   \u001b[K\rremote: Counting objects:  55% (48/87)   \u001b[K\rremote: Counting objects:  56% (49/87)   \u001b[K\rremote: Counting objects:  57% (50/87)   \u001b[K\rremote: Counting objects:  58% (51/87)   \u001b[K\rremote: Counting objects:  59% (52/87)   \u001b[K\rremote: Counting objects:  60% (53/87)   \u001b[K\rremote: Counting objects:  62% (54/87)   \u001b[K\rremote: Counting objects:  63% (55/87)   \u001b[K\rremote: Counting objects:  64% (56/87)   \u001b[K\rremote: Counting objects:  65% (57/87)   \u001b[K\rremote: Counting objects:  66% (58/87)   \u001b[K\rremote: Counting objects:  67% (59/87)   \u001b[K\rremote: Counting objects:  68% (60/87)   \u001b[K\rremote: Counting objects:  70% (61/87)   \u001b[K\rremote: Counting objects:  71% (62/87)   \u001b[K\rremote: Counting objects:  72% (63/87)   \u001b[K\rremote: Counting objects:  73% (64/87)   \u001b[K\rremote: Counting objects:  74% (65/87)   \u001b[K\rremote: Counting objects:  75% (66/87)   \u001b[K\rremote: Counting objects:  77% (67/87)   \u001b[K\rremote: Counting objects:  78% (68/87)   \u001b[K\rremote: Counting objects:  79% (69/87)   \u001b[K\rremote: Counting objects:  80% (70/87)   \u001b[K\rremote: Counting objects:  81% (71/87)   \u001b[K\rremote: Counting objects:  82% (72/87)   \u001b[K\rremote: Counting objects:  83% (73/87)   \u001b[K\rremote: Counting objects:  85% (74/87)   \u001b[K\rremote: Counting objects:  86% (75/87)   \u001b[K\rremote: Counting objects:  87% (76/87)   \u001b[K\rremote: Counting objects:  88% (77/87)   \u001b[K\rremote: Counting objects:  89% (78/87)   \u001b[K\rremote: Counting objects:  90% (79/87)   \u001b[K\rremote: Counting objects:  91% (80/87)   \u001b[K\rremote: Counting objects:  93% (81/87)   \u001b[K\rremote: Counting objects:  94% (82/87)   \u001b[K\rremote: Counting objects:  95% (83/87)   \u001b[K\rremote: Counting objects:  96% (84/87)   \u001b[K\rremote: Counting objects:  97% (85/87)   \u001b[K\rremote: Counting objects:  98% (86/87)   \u001b[K\rremote: Counting objects: 100% (87/87)   \u001b[K\rremote: Counting objects: 100% (87/87), done.\u001b[K\n",
            "remote: Compressing objects: 100% (13/13), done.\u001b[K\n",
            "remote: Total 87 (delta 74), reused 87 (delta 74), pack-reused 0\u001b[K\n",
            "Unpacking objects: 100% (87/87), done.\n"
          ],
          "name": "stdout"
        }
      ]
    },
    {
      "metadata": {
        "id": "9RLVnu1PzZYL",
        "colab_type": "code",
        "colab": {}
      },
      "cell_type": "code",
      "source": [
        "!rm -r pgmpy_fork  "
      ],
      "execution_count": 0,
      "outputs": []
    },
    {
      "metadata": {
        "id": "sRITYv2ydN4l",
        "colab_type": "code",
        "outputId": "3813d0ea-83b9-4556-8362-303713435197",
        "colab": {
          "base_uri": "https://localhost:8080/",
          "height": 34
        }
      },
      "cell_type": "code",
      "source": [
        "cd pgmpy_fork/src/default_test"
      ],
      "execution_count": 79,
      "outputs": [
        {
          "output_type": "stream",
          "text": [
            "/content/pgmpy_fork/src/default_test\n"
          ],
          "name": "stdout"
        }
      ]
    },
    {
      "metadata": {
        "id": "NTlOaB_q0Q4d",
        "colab_type": "code",
        "outputId": "bd9685aa-05e6-4f6f-bedf-53adad9f9c3c",
        "colab": {
          "base_uri": "https://localhost:8080/",
          "height": 34
        }
      },
      "cell_type": "code",
      "source": [
        "cd .."
      ],
      "execution_count": 21,
      "outputs": [
        {
          "output_type": "stream",
          "text": [
            "/content\n"
          ],
          "name": "stdout"
        }
      ]
    },
    {
      "metadata": {
        "id": "sEOEuH82dXy6",
        "colab_type": "code",
        "colab": {}
      },
      "cell_type": "code",
      "source": [
        "ls"
      ],
      "execution_count": 0,
      "outputs": []
    },
    {
      "metadata": {
        "id": "Npd2VghtklVO",
        "colab_type": "code",
        "colab": {}
      },
      "cell_type": "code",
      "source": [
        "#! cd pgmpy_fork/src/default_test\n",
        "#!ls\n",
        "from  read_write import read_sequence_of_bags_CSV_file_with_activity, read_sequence_based_CSV_file_with_activity\n",
        "address_to_read= r\"created_dataset/Seq of sensor events_based on activities/based_on_activities.csv\"\n",
        "list_of_data , list_of_persons , _ = read_sequence_based_CSV_file_with_activity(file_address = address_to_read, has_header = True , separate_data_based_on_persons = False, separate_words= False)\n"
      ],
      "execution_count": 0,
      "outputs": []
    },
    {
      "metadata": {
        "id": "uLKUwGxKwHPy",
        "colab_type": "code",
        "colab": {}
      },
      "cell_type": "code",
      "source": [
        "from keras.preprocessing.text import Tokenizer\n",
        "tokenizer = Tokenizer(num_words = 122, filters='!\"#$%&()*+,-./:;<=>?@[\\]^`{|}~')\n",
        "#list_of_data = [r'salam man', r\"'M38_off' , 'M38_on'\"]\n",
        "tokenizer.fit_on_texts(list_of_data)\n",
        "sequences = tokenizer.texts_to_sequences(list_of_data)\n"
      ],
      "execution_count": 0,
      "outputs": []
    },
    {
      "metadata": {
        "id": "jzNNJ1TiJSJ8",
        "colab_type": "code",
        "colab": {}
      },
      "cell_type": "code",
      "source": [
        "#!git clone https://github.com/pgmpy/pgmpy \n",
        "cd ..\n",
        "#!ls\n",
        "#!cd pgmpy/\n",
        "#pip install -r requirements.txt\n",
        "#!python setup.py install"
      ],
      "execution_count": 0,
      "outputs": []
    },
    {
      "metadata": {
        "id": "jMsynyAJJCnJ",
        "colab_type": "code",
        "colab": {}
      },
      "cell_type": "code",
      "source": [
        "from read_write import read_data_from_CSV_file"
      ],
      "execution_count": 0,
      "outputs": []
    },
    {
      "metadata": {
        "id": "d3slldw0XXSC",
        "colab_type": "code",
        "colab": {}
      },
      "cell_type": "code",
      "source": [
        "mydata = read_data_from_CSV_file(dest_file = address_to_save , data_type = int ,  has_header = False , return_as_pandas_data_frame = False , remove_date_and_time = True , return_header_separately = False , convert_int_columns_to_int = True)\n",
        "    "
      ],
      "execution_count": 0,
      "outputs": []
    },
    {
      "metadata": {
        "id": "vqyPCcvJ1J7O",
        "colab_type": "code",
        "outputId": "6f8e6568-4488-477e-8742-85b6275b8c99",
        "colab": {
          "base_uri": "https://localhost:8080/",
          "height": 71
        }
      },
      "cell_type": "code",
      "source": [
        "sensor_events , number_of_events = get_set_of_sensor_events(sequences)\n",
        "print(sensor_events)\n",
        "print(number_of_events)"
      ],
      "execution_count": 0,
      "outputs": [
        {
          "output_type": "stream",
          "text": [
            "{1, 2, 3, 4, 5, 6, 7, 8, 9, 10, 11, 12, 13, 14, 15, 16, 17, 18, 19, 20, 21, 22, 23, 24, 25, 26, 27, 28, 29, 30, 31, 32, 33, 34, 35, 36, 37, 38, 39, 40, 41, 42, 43, 44, 45, 46, 47, 48, 49, 50, 51, 52, 53, 54, 55, 56, 57, 58, 59, 60, 61, 62, 63, 64, 65, 66, 67, 68, 69, 70, 71, 72, 73, 74, 75, 76, 77, 78, 79, 80, 81, 82, 83, 84, 85, 86, 87, 88, 89, 90, 91, 92, 93, 94, 95, 96, 97, 98, 99, 100, 101, 102, 103, 104, 105, 106, 107, 108, 109, 110, 111, 112, 113, 114, 115, 116, 117, 118, 119, 120, 121}\n",
            "121\n"
          ],
          "name": "stdout"
        }
      ]
    },
    {
      "metadata": {
        "id": "kkeyggg72BTi",
        "colab_type": "code",
        "colab": {}
      },
      "cell_type": "code",
      "source": [
        "for i in range(len(sequences)):\n",
        "    print(list_of_data[i])\n",
        "    print(sequences[i])\n",
        "    print('_____________________________')"
      ],
      "execution_count": 0,
      "outputs": []
    },
    {
      "metadata": {
        "id": "gFSdJslP4bJQ",
        "colab_type": "code",
        "outputId": "b6eb0ce9-d3da-46c8-c486-5a20639a3cb8",
        "colab": {
          "base_uri": "https://localhost:8080/",
          "height": 34
        }
      },
      "cell_type": "code",
      "source": [
        "max_seq_len, min_seq_len , lens = get_max_len_of_sequences(sequences)\n",
        "print(max_seq_len, min_seq_len)"
      ],
      "execution_count": 0,
      "outputs": [
        {
          "output_type": "stream",
          "text": [
            "2216 1\n"
          ],
          "name": "stdout"
        }
      ]
    },
    {
      "metadata": {
        "id": "bUbyz1O5TtEV",
        "colab_type": "code",
        "outputId": "f795e478-0e2b-4b98-a0d4-0a9209e4029a",
        "colab": {
          "base_uri": "https://localhost:8080/",
          "height": 119
        }
      },
      "cell_type": "code",
      "source": [
        "max_features = number_of_events\n",
        "# cut texts after this number of words (among top max_features most common words)\n",
        "maxlen = max_seq_len\n",
        "\n",
        "print('Loading data...')\n",
        "(x_train, y_train), (x_test, y_test) = imdb.load_data(num_words=max_features)\n",
        "#print(len(x_train), 'train sequences')\n",
        "#print(len(x_test), 'test sequences')\n",
        "\n",
        "#print('before apply pad_sequence, x_train[0]:' , x_train[0])\n",
        "\n",
        "#80% of data for train and 20% for test\n",
        "#train_numbers = 2560 #int(0.8 * len(sequences))\n",
        "#x_train, y_train = sequences[0: train_numbers] , list_of_persons[0:train_numbers]\n",
        "#x_test, y_test = sequences[train_numbers+1:train_numbers + 641] , list_of_persons[train_numbers+1:train_numbers + 641]\n",
        "\n",
        "print('Pad sequences (samples x time)')\n",
        "x_train = sequence.pad_sequences(x_train, maxlen=maxlen)\n",
        "x_test = sequence.pad_sequences(x_test, maxlen=maxlen)\n",
        "print('x_train shape:', x_train.shape)\n",
        "print('x_test shape:', x_test.shape)"
      ],
      "execution_count": 0,
      "outputs": [
        {
          "output_type": "stream",
          "text": [
            "Loading data...\n",
            "Downloading data from https://s3.amazonaws.com/text-datasets/imdb.npz\n",
            "17465344/17464789 [==============================] - 1s 0us/step\n",
            "Pad sequences (samples x time)\n",
            "x_train shape: (25000, 2216)\n",
            "x_test shape: (25000, 2216)\n"
          ],
          "name": "stdout"
        }
      ]
    },
    {
      "metadata": {
        "id": "ZaeKy5XuUss0",
        "colab_type": "code",
        "outputId": "724f476d-1d3c-4843-909c-2a4f4a933eba",
        "colab": {
          "base_uri": "https://localhost:8080/",
          "height": 71
        }
      },
      "cell_type": "code",
      "source": [
        "print(x_train[0])\n",
        "print(sequences[0])"
      ],
      "execution_count": 0,
      "outputs": [
        {
          "output_type": "stream",
          "text": [
            "[ 0  0  0 ... 41 31 46]\n",
            "[7, 8, 7, 10, 11, 8, 11, 8, 7, 11, 8, 7, 10, 11, 8, 7, 8, 7, 10, 8, 8, 7, 33, 11, 11, 11, 8, 86, 85, 86, 85, 7, 10, 11, 11, 62, 8, 65, 7, 86, 8, 85, 7, 34, 8, 8, 8, 8, 7, 8, 7, 62, 61, 8, 65, 62, 57, 65, 66, 66, 29, 58, 9, 30, 31, 43, 41, 13, 32, 42, 46, 43, 41, 42, 46, 43, 41, 31, 46]\n"
          ],
          "name": "stdout"
        }
      ]
    },
    {
      "metadata": {
        "id": "BsUaDYDeTx3t",
        "colab_type": "code",
        "outputId": "62485865-1fd9-46ad-daac-4303e2f0d35b",
        "colab": {
          "base_uri": "https://localhost:8080/",
          "height": 323
        }
      },
      "cell_type": "code",
      "source": [
        "batch_size = 32\n",
        "\n",
        "print('Build model...')\n",
        "model = Sequential()\n",
        "model.add(Embedding(max_features+1, 64))\n",
        "model.add(SimpleRNN(64, dropout=0.2, recurrent_dropout=0.2))#LSTM\n",
        "model.add(Dense(1, activation='sigmoid'))\n",
        "\n",
        "model.summary()\n",
        "\n",
        "# try using different optimizers and different optimizer configs\n",
        "model.compile(loss='binary_crossentropy',\n",
        "              optimizer='rmsprop',\n",
        "              metrics=['accuracy'])\n",
        "\n",
        "print('Train...')\n",
        "history = model.fit(x_train, y_train,\n",
        "          batch_size=batch_size,\n",
        "          epochs=5,\n",
        "          validation_data=(x_test, y_test))\n",
        "score, acc = model.evaluate(x_test, y_test,\n",
        "                            batch_size=batch_size)\n",
        "print('Test score:', score)# i think score is loss value\n",
        "print('Test accuracy:', acc)"
      ],
      "execution_count": 0,
      "outputs": [
        {
          "output_type": "stream",
          "text": [
            "Build model...\n",
            "_________________________________________________________________\n",
            "Layer (type)                 Output Shape              Param #   \n",
            "=================================================================\n",
            "embedding_7 (Embedding)      (None, None, 64)          7808      \n",
            "_________________________________________________________________\n",
            "simple_rnn_2 (SimpleRNN)     (None, 64)                8256      \n",
            "_________________________________________________________________\n",
            "dense_4 (Dense)              (None, 1)                 65        \n",
            "=================================================================\n",
            "Total params: 16,129\n",
            "Trainable params: 16,129\n",
            "Non-trainable params: 0\n",
            "_________________________________________________________________\n",
            "Train...\n",
            "Train on 25000 samples, validate on 25000 samples\n",
            "Epoch 1/5\n",
            "24992/25000 [============================>.] - ETA: 0s - loss: 0.7059 - acc: 0.5066"
          ],
          "name": "stdout"
        }
      ]
    },
    {
      "metadata": {
        "id": "Rhnw6Y4kQbIz",
        "colab_type": "code",
        "colab": {}
      },
      "cell_type": "code",
      "source": [
        "embeddings = model.layers[0].get_weights()[0]\n",
        "print(embeddings)"
      ],
      "execution_count": 0,
      "outputs": []
    },
    {
      "metadata": {
        "id": "HPT1K2r9RsFo",
        "colab_type": "code",
        "colab": {}
      },
      "cell_type": "code",
      "source": [
        "# `word_to_index` is a mapping (i.e. dict) from words to their index, e.g. `love`: 69\n",
        "words_embeddings = {w:embeddings[idx] for w, idx in word_to_index.items()}\n",
        "\n",
        "# now you can use it like this for example\n",
        "print(words_embeddings['love'])  # possible output: [0.21, 0.56, ..., 0.65, 0.10]\n"
      ],
      "execution_count": 0,
      "outputs": []
    },
    {
      "metadata": {
        "id": "yhQ1x75KbI19",
        "colab_type": "code",
        "colab": {}
      },
      "cell_type": "code",
      "source": [
        "print(type(score) , type(acc))"
      ],
      "execution_count": 0,
      "outputs": []
    },
    {
      "metadata": {
        "id": "au02di-ubMqE",
        "colab_type": "code",
        "outputId": "dcb92358-3e14-4100-8d38-001ed94a6ed8",
        "colab": {
          "base_uri": "https://localhost:8080/",
          "height": 379
        }
      },
      "cell_type": "code",
      "source": [
        "plot_train_val_graph(history)"
      ],
      "execution_count": 0,
      "outputs": [
        {
          "output_type": "stream",
          "text": [
            "epochs: range(1, 6)\n"
          ],
          "name": "stdout"
        },
        {
          "output_type": "display_data",
          "data": {
            "image/png": "[encoded data removed]",
            "text/plain": [
              "<matplotlib.figure.Figure at 0x7f809526b780>"
            ]
          },
          "metadata": {
            "tags": []
          }
        }
      ]
    },
    {
      "metadata": {
        "id": "v6qlruTYcrfl",
        "colab_type": "code",
        "colab": {}
      },
      "cell_type": "code",
      "source": [
        ""
      ],
      "execution_count": 0,
      "outputs": []
    }
  ]
}