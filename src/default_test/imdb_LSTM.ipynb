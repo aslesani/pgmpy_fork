{
  "nbformat": 4,
  "nbformat_minor": 0,
  "metadata": {
    "colab": {
      "name": "imdb_LSTM.ipynb",
      "version": "0.3.2",
      "provenance": [],
      "collapsed_sections": [],
      "include_colab_link": true
    },
    "kernelspec": {
      "name": "python3",
      "display_name": "Python 3"
    }
  },
  "cells": [
    {
      "cell_type": "markdown",
      "metadata": {
        "id": "view-in-github",
        "colab_type": "text"
      },
      "source": [
        "<a href=\"https://colab.research.google.com/github/aslesani/pgmpy_fork/blob/master/src/default_test/imdb_LSTM.ipynb\" target=\"_parent\"><img src=\"https://colab.research.google.com/assets/colab-badge.svg\" alt=\"Open In Colab\"/></a>"
      ]
    },
    {
      "metadata": {
        "id": "OmJrgoGBTfgJ",
        "colab_type": "code",
        "outputId": "39d708de-ab42-4288-bee6-7bcc5970b9b4",
        "colab": {
          "base_uri": "https://localhost:8080/",
          "height": 34
        }
      },
      "cell_type": "code",
      "source": [
        "'''Trains an LSTM model on the IMDB sentiment classification task.\n",
        "The dataset is actually too small for LSTM to be of any advantage\n",
        "compared to simpler, much faster methods such as TF-IDF + LogReg.\n",
        "# Notes\n",
        "- RNNs are tricky. Choice of batch size is important,\n",
        "choice of loss and optimizer is critical, etc.\n",
        "Some configurations won't converge.\n",
        "- LSTM loss decrease patterns during training can be quite different\n",
        "from what you see with CNNs/MLPs/etc.\n",
        "'''\n",
        "from __future__ import print_function\n",
        "\n",
        "from keras.preprocessing import sequence\n",
        "from keras.models import Sequential\n",
        "from keras.layers import Dense, Embedding\n",
        "from keras.layers import LSTM, SimpleRNN\n",
        "from keras.datasets import imdb"
      ],
      "execution_count": 2,
      "outputs": [
        {
          "output_type": "stream",
          "text": [
            "Using TensorFlow backend.\n"
          ],
          "name": "stderr"
        }
      ]
    },
    {
      "metadata": {
        "id": "WJSdFzlqcakL",
        "colab_type": "code",
        "colab": {}
      },
      "cell_type": "code",
      "source": [
        "import matplotlib.pyplot as plt\n",
        "\n",
        "def plot_train_val_graph(history):\n",
        "  loss = history.history['loss']\n",
        "  val_loss = history.history['val_loss']\n",
        "  epochs = range(1, len(loss) + 1)\n",
        "  print('epochs:' , epochs)\n",
        "  plt.figure()\n",
        "  plt.plot(epochs, loss, 'bo', label='Training loss')\n",
        "  plt.plot(epochs, val_loss, 'b', label='Validation loss')\n",
        "  plt.title('Training and validation loss')\n",
        "  plt.legend()\n",
        "  plt.show()\n"
      ],
      "execution_count": 0,
      "outputs": []
    },
    {
      "metadata": {
        "id": "ChXfRjq4jJko",
        "colab_type": "code",
        "colab": {}
      },
      "cell_type": "code",
      "source": [
        "def get_max_len_of_sequences(list_of_sequences):\n",
        "  lengths = [len(list_of_sequences[i]) for i in range(len(list_of_sequences))]\n",
        "  return max(lengths) , min(lengths) , lengths"
      ],
      "execution_count": 0,
      "outputs": []
    },
    {
      "metadata": {
        "id": "P_zUyBhXljmq",
        "colab_type": "code",
        "colab": {}
      },
      "cell_type": "code",
      "source": [
        "def get_set_of_sensor_events(list_of_sequences):\n",
        " \n",
        "  set_of_sensor_events = set()\n",
        "  \n",
        "  for i in range(len(list_of_sequences)):\n",
        "      set_of_sensor_events = set_of_sensor_events.union(set(list_of_sequences[i]))\n",
        "  \n",
        "  return set_of_sensor_events, len(set_of_sensor_events)\n",
        "  "
      ],
      "execution_count": 0,
      "outputs": []
    },
    {
      "metadata": {
        "id": "4WTRhBH_XQim",
        "colab_type": "code",
        "colab": {}
      },
      "cell_type": "code",
      "source": [
        "def read_data_from_CSV_file(dest_file , data_type ,  has_header = False , return_as_pandas_data_frame = False , remove_date_and_time = False , return_header_separately = False , convert_int_columns_to_int = False):\n",
        "    '''\n",
        "    this function is a replacement for read_data_from_PCA_output_file and read_data_from_PCA_digitized_file\n",
        "    with more capabalities.\n",
        "    \n",
        "    Parameters:\n",
        "    ==========\n",
        "    dest_file: \n",
        "    data_type: type of data that should be read  \n",
        "    has_header = if the file has header, it is set to True. The header is the first line that starts whit '#' character \n",
        "    return_as_pandas_data_frame = if True, the return_value is pandas Dataframe, else numpy ndaaray\n",
        "    \n",
        "    convert_int_columns_to_int: if the user want to keep date and time columns, then she should \n",
        "                                specify data_type as object and then set convert_int_columns_to_int to True\n",
        "    \n",
        "    Returns:\n",
        "    ========\n",
        "    return_value: type of it is pandas Dataframe or numpy ndaaray\n",
        "    \n",
        "    '''\n",
        "    header = \"\"\n",
        "    with open(dest_file,'r') as dest_f:\n",
        "        data_iter = csv.reader(dest_f, \n",
        "                               delimiter = ',')#quotechar = '\"')\n",
        "    \n",
        "        if has_header:\n",
        "            header = next(data_iter)\n",
        "            header[0] = header[0].split('# ')[1] # remove # from first element\n",
        "        \n",
        "        \n",
        "        data = [data for data in data_iter]\n",
        "    \n",
        "    if remove_date_and_time:\n",
        "        data = np.delete(np.delete(data, -1, 1), -1 , 1)\n",
        "\n",
        "    return_value= np.asarray(data, dtype = data_type)\n",
        "    \n",
        "    if convert_int_columns_to_int:\n",
        "        rows , cols_to_convert = np.shape(return_value)\n",
        "        \n",
        "        if remove_date_and_time == False:\n",
        "            cols_to_convert -=2\n",
        "        \n",
        "        for r in range(rows):\n",
        "            for c in range(cols_to_convert):\n",
        "                return_value[r,c] = int(return_value[r,c])\n",
        "        \n",
        "    \n",
        "    if return_as_pandas_data_frame:\n",
        "        return_value = pd.DataFrame(return_value , columns = header)\n",
        "        \n",
        "    if return_header_separately:\n",
        "        return header , return_value\n",
        "    \n",
        "    else:   \n",
        "        return return_value\n",
        "\n"
      ],
      "execution_count": 0,
      "outputs": []
    },
    {
      "metadata": {
        "id": "PSnIdgbbWlm6",
        "colab_type": "code",
        "outputId": "fafa8eb3-bf07-40db-c168-948bf988ded0",
        "colab": {
          "base_uri": "https://localhost:8080/",
          "height": 136
        }
      },
      "cell_type": "code",
      "source": [
        "!git clone https://github.com/aslesani/pgmpy_fork.git\n"
      ],
      "execution_count": 18,
      "outputs": [
        {
          "output_type": "stream",
          "text": [
            "Cloning into 'pgmpy_fork'...\n",
            "remote: Enumerating objects: 202, done.\u001b[K\n",
            "remote: Counting objects: 100% (202/202), done.\u001b[K\n",
            "remote: Compressing objects: 100% (104/104), done.\u001b[K\n",
            "remote: Total 971 (delta 97), reused 146 (delta 63), pack-reused 769\u001b[K\n",
            "Receiving objects: 100% (971/971), 562.13 KiB | 8.92 MiB/s, done.\n",
            "Resolving deltas: 100% (527/527), done.\n"
          ],
          "name": "stdout"
        }
      ]
    },
    {
      "metadata": {
        "id": "knS7nVmkLiMu",
        "colab_type": "code",
        "colab": {
          "base_uri": "https://localhost:8080/",
          "height": 34
        },
        "outputId": "820156b1-9634-40b5-a310-3d00e080f72a"
      },
      "cell_type": "code",
      "source": [
        "ls"
      ],
      "execution_count": 17,
      "outputs": [
        {
          "output_type": "stream",
          "text": [
            "\u001b[0m\u001b[01;34msample_data\u001b[0m/\n"
          ],
          "name": "stdout"
        }
      ]
    },
    {
      "metadata": {
        "id": "Zie8KaEFZ48Y",
        "colab_type": "code",
        "outputId": "3624e0b6-bfd7-40a5-a564-84a8576cd955",
        "colab": {
          "base_uri": "https://localhost:8080/",
          "height": 119
        }
      },
      "cell_type": "code",
      "source": [
        "!git clone https://github.com/aslesani/created_dataset.git"
      ],
      "execution_count": 19,
      "outputs": [
        {
          "output_type": "stream",
          "text": [
            "Cloning into 'created_dataset'...\n",
            "remote: Enumerating objects: 90, done.\u001b[K\n",
            "remote: Counting objects:   1% (1/90)   \u001b[K\rremote: Counting objects:   2% (2/90)   \u001b[K\rremote: Counting objects:   3% (3/90)   \u001b[K\rremote: Counting objects:   4% (4/90)   \u001b[K\rremote: Counting objects:   5% (5/90)   \u001b[K\rremote: Counting objects:   6% (6/90)   \u001b[K\rremote: Counting objects:   7% (7/90)   \u001b[K\rremote: Counting objects:   8% (8/90)   \u001b[K\rremote: Counting objects:  10% (9/90)   \u001b[K\rremote: Counting objects:  11% (10/90)   \u001b[K\rremote: Counting objects:  12% (11/90)   \u001b[K\rremote: Counting objects:  13% (12/90)   \u001b[K\rremote: Counting objects:  14% (13/90)   \u001b[K\rremote: Counting objects:  15% (14/90)   \u001b[K\rremote: Counting objects:  16% (15/90)   \u001b[K\rremote: Counting objects:  17% (16/90)   \u001b[K\rremote: Counting objects:  18% (17/90)   \u001b[K\rremote: Counting objects:  20% (18/90)   \u001b[K\rremote: Counting objects:  21% (19/90)   \u001b[K\rremote: Counting objects:  22% (20/90)   \u001b[K\rremote: Counting objects:  23% (21/90)   \u001b[K\rremote: Counting objects:  24% (22/90)   \u001b[K\rremote: Counting objects:  25% (23/90)   \rremote: Counting objects:  26% (24/90)   \u001b[K\rremote: Counting objects:  27% (25/90)   \u001b[K\rremote: Counting objects:  28% (26/90)   \u001b[K\rremote: Counting objects:  30% (27/90)   \u001b[K\rremote: Counting objects:  31% (28/90)   \u001b[K\rremote: Counting objects:  32% (29/90)   \u001b[K\rremote: Counting objects:  33% (30/90)   \u001b[K\rremote: Counting objects:  34% (31/90)   \u001b[K\rremote: Counting objects:  35% (32/90)   \u001b[K\rremote: Counting objects:  36% (33/90)   \u001b[K\rremote: Counting objects:  37% (34/90)   \u001b[K\rremote: Counting objects:  38% (35/90)   \u001b[K\rremote: Counting objects:  40% (36/90)   \u001b[K\rremote: Counting objects:  41% (37/90)   \u001b[K\rremote: Counting objects:  42% (38/90)   \u001b[K\rremote: Counting objects:  43% (39/90)   \u001b[K\rremote: Counting objects:  44% (40/90)   \u001b[K\rremote: Counting objects:  45% (41/90)   \u001b[K\rremote: Counting objects:  46% (42/90)   \u001b[K\rremote: Counting objects:  47% (43/90)   \u001b[K\rremote: Counting objects:  48% (44/90)   \u001b[K\rremote: Counting objects:  50% (45/90)   \u001b[K\rremote: Counting objects:  51% (46/90)   \u001b[K\rremote: Counting objects:  52% (47/90)   \u001b[K\rremote: Counting objects:  53% (48/90)   \u001b[K\rremote: Counting objects:  54% (49/90)   \u001b[K\rremote: Counting objects:  55% (50/90)   \u001b[K\rremote: Counting objects:  56% (51/90)   \u001b[K\rremote: Counting objects:  57% (52/90)   \u001b[K\rremote: Counting objects:  58% (53/90)   \u001b[K\rremote: Counting objects:  60% (54/90)   \u001b[K\rremote: Counting objects:  61% (55/90)   \u001b[K\rremote: Counting objects:  62% (56/90)   \u001b[K\rremote: Counting objects:  63% (57/90)   \u001b[K\rremote: Counting objects:  64% (58/90)   \u001b[K\rremote: Counting objects:  65% (59/90)   \u001b[K\rremote: Counting objects:  66% (60/90)   \u001b[K\rremote: Counting objects:  67% (61/90)   \u001b[K\rremote: Counting objects:  68% (62/90)   \u001b[K\rremote: Counting objects:  70% (63/90)   \u001b[K\rremote: Counting objects:  71% (64/90)   \u001b[K\rremote: Counting objects:  72% (65/90)   \u001b[K\rremote: Counting objects:  73% (66/90)   \u001b[K\rremote: Counting objects:  74% (67/90)   \u001b[K\rremote: Counting objects:  75% (68/90)   \u001b[K\rremote: Counting objects:  76% (69/90)   \u001b[K\rremote: Counting objects:  77% (70/90)   \u001b[K\rremote: Counting objects:  78% (71/90)   \u001b[K\rremote: Counting objects:  80% (72/90)   \u001b[K\rremote: Counting objects:  81% (73/90)   \u001b[K\rremote: Counting objects:  82% (74/90)   \u001b[K\rremote: Counting objects:  83% (75/90)   \u001b[K\rremote: Counting objects:  84% (76/90)   \u001b[K\rremote: Counting objects:  85% (77/90)   \u001b[K\rremote: Counting objects:  86% (78/90)   \u001b[K\rremote: Counting objects:  87% (79/90)   \u001b[K\rremote: Counting objects:  88% (80/90)   \u001b[K\rremote: Counting objects:  90% (81/90)   \u001b[K\rremote: Counting objects:  91% (82/90)   \u001b[K\rremote: Counting objects:  92% (83/90)   \u001b[K\rremote: Counting objects:  93% (84/90)   \u001b[K\rremote: Counting objects:  94% (85/90)   \u001b[K\rremote: Counting objects:  95% (86/90)   \u001b[K\rremote: Counting objects:  96% (87/90)   \u001b[K\rremote: Counting objects:  97% (88/90)   \u001b[K\rremote: Counting objects:  98% (89/90)   \u001b[K\rremote: Counting objects: 100% (90/90)   \u001b[K\rremote: Counting objects: 100% (90/90), done.\u001b[K\n",
            "remote: Compressing objects: 100% (15/15), done.\u001b[K\n",
            "remote: Total 90 (delta 75), reused 90 (delta 75), pack-reused 0\u001b[K\n",
            "Unpacking objects: 100% (90/90), done.\n"
          ],
          "name": "stdout"
        }
      ]
    },
    {
      "metadata": {
        "id": "9RLVnu1PzZYL",
        "colab_type": "code",
        "colab": {}
      },
      "cell_type": "code",
      "source": [
        "!rm -r pgmpy_fork  "
      ],
      "execution_count": 0,
      "outputs": []
    },
    {
      "metadata": {
        "id": "sRITYv2ydN4l",
        "colab_type": "code",
        "outputId": "aca9b337-74f9-429f-9d39-8bbcf2b55ed0",
        "colab": {
          "base_uri": "https://localhost:8080/",
          "height": 34
        }
      },
      "cell_type": "code",
      "source": [
        "cd pgmpy_fork/src/default_test"
      ],
      "execution_count": 20,
      "outputs": [
        {
          "output_type": "stream",
          "text": [
            "/content/pgmpy_fork/src/default_test\n"
          ],
          "name": "stdout"
        }
      ]
    },
    {
      "metadata": {
        "id": "NTlOaB_q0Q4d",
        "colab_type": "code",
        "outputId": "c1cd027f-01eb-4993-a2e6-0a0c953edefc",
        "colab": {
          "base_uri": "https://localhost:8080/",
          "height": 34
        }
      },
      "cell_type": "code",
      "source": [
        "cd .."
      ],
      "execution_count": 24,
      "outputs": [
        {
          "output_type": "stream",
          "text": [
            "/content\n"
          ],
          "name": "stdout"
        }
      ]
    },
    {
      "metadata": {
        "id": "sEOEuH82dXy6",
        "colab_type": "code",
        "colab": {}
      },
      "cell_type": "code",
      "source": [
        "ls"
      ],
      "execution_count": 0,
      "outputs": []
    },
    {
      "metadata": {
        "id": "cxg1eVsVTF6W",
        "colab_type": "code",
        "colab": {}
      },
      "cell_type": "code",
      "source": [
        "def convert_binary_classes_to_zero_and_one(data):\n",
        "  \n",
        "  values = sorted(list(set(data)))\n",
        "  for i in range(len(data)):\n",
        "    data[i] = values.index(data[i])\n",
        "\n",
        "    \n",
        "  return data"
      ],
      "execution_count": 0,
      "outputs": []
    },
    {
      "metadata": {
        "id": "E8ow8BydTfJ3",
        "colab_type": "code",
        "colab": {
          "base_uri": "https://localhost:8080/",
          "height": 34
        },
        "outputId": "735fbfee-af00-480c-dddb-5d67ad0e8911"
      },
      "cell_type": "code",
      "source": [
        "def test_convert_binary_classes_to_zero_and_one():\n",
        "  data = [2,1,1,1,2]\n",
        "  data = convert_binary_classes_to_zero_and_one(data)\n",
        "  print(data)"
      ],
      "execution_count": 67,
      "outputs": [
        {
          "output_type": "stream",
          "text": [
            "[1, 0, 0, 0, 1]\n"
          ],
          "name": "stdout"
        }
      ]
    },
    {
      "metadata": {
        "id": "Adhup5wx35Il",
        "colab_type": "code",
        "colab": {}
      },
      "cell_type": "code",
      "source": [
        "from keras import backend as K\n",
        "\n",
        "def mcor(y_true, y_pred):\n",
        "    #matthews_correlation\n",
        "    y_pred_pos = K.round(K.clip(y_pred, 0, 1))\n",
        "    y_pred_neg = 1 - y_pred_pos\n",
        " \n",
        " \n",
        "    y_pos = K.round(K.clip(y_true, 0, 1))\n",
        "    y_neg = 1 - y_pos\n",
        " \n",
        " \n",
        "    tp = K.sum(y_pos * y_pred_pos)\n",
        "    tn = K.sum(y_neg * y_pred_neg)\n",
        " \n",
        " \n",
        "    fp = K.sum(y_neg * y_pred_pos)\n",
        "    fn = K.sum(y_pos * y_pred_neg)\n",
        " \n",
        " \n",
        "    numerator = (tp * tn - fp * fn)\n",
        "    denominator = K.sqrt((tp + fp) * (tp + fn) * (tn + fp) * (tn + fn))\n",
        " \n",
        " \n",
        "    return numerator / (denominator + K.epsilon())\n",
        "\n",
        "\n",
        "def precision(y_true, y_pred):\n",
        "    \"\"\"Precision metric.\n",
        "\n",
        "    Only computes a batch-wise average of precision.\n",
        "\n",
        "    Computes the precision, a metric for multi-label classification of\n",
        "    how many selected items are relevant.\n",
        "    \"\"\"\n",
        "    true_positives = K.sum(K.round(K.clip(y_true * y_pred, 0, 1)))\n",
        "    predicted_positives = K.sum(K.round(K.clip(y_pred, 0, 1)))\n",
        "    precision = true_positives / (predicted_positives + K.epsilon())\n",
        "    return precision\n",
        "\n",
        "def recall(y_true, y_pred):\n",
        "    \"\"\"Recall metric.\n",
        "\n",
        "    Only computes a batch-wise average of recall.\n",
        "\n",
        "    Computes the recall, a metric for multi-label classification of\n",
        "    how many relevant items are selected.\n",
        "    \"\"\"\n",
        "    true_positives = K.sum(K.round(K.clip(y_true * y_pred, 0, 1)))\n",
        "    possible_positives = K.sum(K.round(K.clip(y_true, 0, 1)))\n",
        "    recall = true_positives / (possible_positives + K.epsilon())\n",
        "    return recall\n",
        "\n",
        "\n",
        "def f1(y_true, y_pred):\n",
        "    def recall(y_true, y_pred):\n",
        "        \"\"\"Recall metric.\n",
        "\n",
        "        Only computes a batch-wise average of recall.\n",
        "\n",
        "        Computes the recall, a metric for multi-label classification of\n",
        "        how many relevant items are selected.\n",
        "        \"\"\"\n",
        "        true_positives = K.sum(K.round(K.clip(y_true * y_pred, 0, 1)))\n",
        "        possible_positives = K.sum(K.round(K.clip(y_true, 0, 1)))\n",
        "        recall = true_positives / (possible_positives + K.epsilon())\n",
        "        return recall\n",
        "\n",
        "    def precision(y_true, y_pred):\n",
        "        \"\"\"Precision metric.\n",
        "\n",
        "        Only computes a batch-wise average of precision.\n",
        "\n",
        "        Computes the precision, a metric for multi-label classification of\n",
        "        how many selected items are relevant.\n",
        "        \"\"\"\n",
        "        true_positives = K.sum(K.round(K.clip(y_true * y_pred, 0, 1)))\n",
        "        predicted_positives = K.sum(K.round(K.clip(y_pred, 0, 1)))\n",
        "        precision = true_positives / (predicted_positives + K.epsilon())\n",
        "        return precision\n",
        "    precision = precision(y_true, y_pred)\n",
        "    recall = recall(y_true, y_pred)\n",
        "    return 2*((precision*recall)/(precision+recall+K.epsilon()))\n"
      ],
      "execution_count": 0,
      "outputs": []
    },
    {
      "metadata": {
        "id": "w0em365aEiF1",
        "colab_type": "code",
        "colab": {
          "base_uri": "https://localhost:8080/",
          "height": 34
        },
        "outputId": "c94c0dd6-1e9f-484d-e710-5a7a07f62720"
      },
      "cell_type": "code",
      "source": [
        "!pip install tabulate "
      ],
      "execution_count": 94,
      "outputs": [
        {
          "output_type": "stream",
          "text": [
            "Requirement already satisfied: tabulate in /usr/local/lib/python3.6/dist-packages (0.8.2)\n"
          ],
          "name": "stdout"
        }
      ]
    },
    {
      "metadata": {
        "id": "wRPxCWPzExrc",
        "colab_type": "code",
        "colab": {
          "base_uri": "https://localhost:8080/",
          "height": 85
        },
        "outputId": "a2e3e2fd-0584-40cc-ac2e-ca74216c0867"
      },
      "cell_type": "code",
      "source": [
        "from tabulate import tabulate\n",
        "print(tabulate([['Alice1111111111111111111111111111111111', 24], ['Bob', 19]], headers=['algorithm', 'acc']))\n"
      ],
      "execution_count": 97,
      "outputs": [
        {
          "output_type": "stream",
          "text": [
            "algorithm                                  acc\n",
            "---------------------------------------  -----\n",
            "Alice1111111111111111111111111111111111     24\n",
            "Bob                                         19\n"
          ],
          "name": "stdout"
        }
      ]
    },
    {
      "metadata": {
        "id": "cM2IkLSSM458",
        "colab_type": "code",
        "colab": {}
      },
      "cell_type": "code",
      "source": [
        "def imdb_lstm_data_preparation(max_features = 20000, maxlen = 80):\n",
        "  #max_features = 20000#number_of_events\n",
        "  # cut texts after this number of words (among top max_features most common words)\n",
        "  #maxlen = 10#max_seq_len\n",
        "\n",
        "  print('Loading data...')\n",
        "  (x_train, y_train), (x_test, y_test) = imdb.load_data(num_words=max_features)\n",
        "  print(len(x_train), 'train sequences')\n",
        "  print(len(x_test), 'test sequences')\n",
        "\n",
        "  #print('before apply pad_sequence, x_train[0]:' , x_train[0])\n",
        "\n",
        "  print('Pad sequences (samples x time)')\n",
        "  x_train = sequence.pad_sequences(x_train, maxlen=maxlen)\n",
        "  x_test = sequence.pad_sequences(x_test, maxlen=maxlen)\n",
        "  print('x_train shape:', x_train.shape)\n",
        "  print('x_test shape:', x_test.shape)\n",
        "  \n",
        "  return x_train, x_test, y_train, y_test, max_features, maxlen"
      ],
      "execution_count": 0,
      "outputs": []
    },
    {
      "metadata": {
        "id": "uOY7VRWGN0tY",
        "colab_type": "code",
        "colab": {}
      },
      "cell_type": "code",
      "source": [
        "from read_write import read_sequence_of_bags_CSV_file_with_activity, read_sequence_based_CSV_file_with_activity, read_data_from_CSV_file\n",
        "from keras.preprocessing.text import Tokenizer\n",
        "\n",
        "def my_data_preparation(address_to_read):\n",
        "  \n",
        "  list_of_data , list_of_persons , _ = read_sequence_based_CSV_file_with_activity(file_address = address_to_read, has_header = True , separate_data_based_on_persons = False, separate_words= False)\n",
        "  #sensor_events , number_of_events = get_set_of_sensor_events(sequences)\n",
        "  \n",
        "  list_of_persons = convert_binary_classes_to_zero_and_one(list_of_persons)\n",
        "  \n",
        "  tokenizer = Tokenizer(num_words = 122, filters='!\"#$%&()*+,-./:;<=>?@[\\]^`{|}~')\n",
        "  #list_of_data = [r'salam man', r\"'M38_off' , 'M38_on'\"]\n",
        "  tokenizer.fit_on_texts(list_of_data)\n",
        "  sequences = tokenizer.texts_to_sequences(list_of_data)\n",
        "  \n",
        "  max_features = 121#number_of_events\n",
        "  # cut texts after this number of words (among top max_features most common words)\n",
        "  maxlen = 10#80#max_seq_len\n",
        "\n",
        "  #print('before apply pad_sequence, x_train[0]:' , x_train[0])\n",
        "\n",
        "  #80% of data for train and 20% for test\n",
        "  train_numbers = int(0.8 * len(sequences))\n",
        "  x_train, y_train = sequences[0: train_numbers] , list_of_persons[0:train_numbers]\n",
        "  x_test, y_test = sequences[train_numbers+1:] , list_of_persons[train_numbers+1:]\n",
        "\n",
        "  print('Pad sequences (samples x time)')\n",
        "  x_train = sequence.pad_sequences(x_train, maxlen=maxlen)\n",
        "  x_test = sequence.pad_sequences(x_test, maxlen=maxlen)\n",
        "  print('x_train shape:', x_train.shape)\n",
        "  print('x_test shape:', x_test.shape)\n",
        "\n",
        "  return x_train, x_test, y_train, y_test, max_features, maxlen"
      ],
      "execution_count": 0,
      "outputs": []
    },
    {
      "metadata": {
        "id": "Npd2VghtklVO",
        "colab_type": "code",
        "colab": {}
      },
      "cell_type": "code",
      "source": [
        "#! cd pgmpy_fork/src/default_test\n",
        "#!ls\n"
      ],
      "execution_count": 0,
      "outputs": []
    },
    {
      "metadata": {
        "id": "jzNNJ1TiJSJ8",
        "colab_type": "code",
        "colab": {}
      },
      "cell_type": "code",
      "source": [
        "#!git clone https://github.com/pgmpy/pgmpy \n",
        "cd ..\n",
        "#!ls\n",
        "#!cd pgmpy/\n",
        "#pip install -r requirements.txt\n",
        "#!python setup.py install"
      ],
      "execution_count": 0,
      "outputs": []
    },
    {
      "metadata": {
        "id": "jMsynyAJJCnJ",
        "colab_type": "code",
        "colab": {}
      },
      "cell_type": "code",
      "source": [
        ""
      ],
      "execution_count": 0,
      "outputs": []
    },
    {
      "metadata": {
        "id": "d3slldw0XXSC",
        "colab_type": "code",
        "colab": {}
      },
      "cell_type": "code",
      "source": [
        "mydata = read_data_from_CSV_file(dest_file = address_to_save , data_type = int ,  has_header = False , return_as_pandas_data_frame = False , remove_date_and_time = True , return_header_separately = False , convert_int_columns_to_int = True)\n",
        "    "
      ],
      "execution_count": 0,
      "outputs": []
    },
    {
      "metadata": {
        "id": "gFSdJslP4bJQ",
        "colab_type": "code",
        "outputId": "b6eb0ce9-d3da-46c8-c486-5a20639a3cb8",
        "colab": {
          "base_uri": "https://localhost:8080/",
          "height": 34
        }
      },
      "cell_type": "code",
      "source": [
        "max_seq_len, min_seq_len , lens = get_max_len_of_sequences(sequences)\n",
        "print(max_seq_len, min_seq_len)"
      ],
      "execution_count": 0,
      "outputs": [
        {
          "output_type": "stream",
          "text": [
            "2216 1\n"
          ],
          "name": "stdout"
        }
      ]
    },
    {
      "metadata": {
        "id": "bUbyz1O5TtEV",
        "colab_type": "code",
        "outputId": "fe5bdddd-33a3-4b28-94f0-d6de4758ee37",
        "colab": {
          "base_uri": "https://localhost:8080/",
          "height": 68
        }
      },
      "cell_type": "code",
      "source": [
        "address_to_read= r\"created_dataset/Seq of sensor events_based on activities/based_on_activities.csv\"\n",
        "\n",
        "#x_train, x_test, y_train, y_test, max_features, maxlen = imdb_lstm_data_preparation(maxlen=10)\n",
        "#my_x_train, my_x_test, my_y_train, my_y_test, my_max_features, my_maxlen = my_data_preparation(address_to_read)\n",
        "x_train, x_test, y_train, y_test, max_features, maxlen = my_data_preparation(address_to_read)#imdb_lstm_data_preparation(maxlen=10)\n"
      ],
      "execution_count": 86,
      "outputs": [
        {
          "output_type": "stream",
          "text": [
            "Pad sequences (samples x time)\n",
            "x_train shape: (2572, 10)\n",
            "x_test shape: (643, 10)\n"
          ],
          "name": "stdout"
        }
      ]
    },
    {
      "metadata": {
        "id": "EITeYNgVRqNq",
        "colab_type": "code",
        "colab": {
          "base_uri": "https://localhost:8080/",
          "height": 34
        },
        "outputId": "40a31c91-ad62-4182-aab3-29651e83eae8"
      },
      "cell_type": "code",
      "source": [
        "print(set(y_train))"
      ],
      "execution_count": 70,
      "outputs": [
        {
          "output_type": "stream",
          "text": [
            "{0, 1}\n"
          ],
          "name": "stdout"
        }
      ]
    },
    {
      "metadata": {
        "id": "ladLQfIuRfdm",
        "colab_type": "code",
        "colab": {}
      },
      "cell_type": "code",
      "source": [
        "x_train = x_train[0:2500]\n",
        "y_train = y_train[0:2500]\n",
        "x_test = x_test[2501:3200]\n",
        "y_test = y_test[2501:3200]\n",
        "\n"
      ],
      "execution_count": 0,
      "outputs": []
    },
    {
      "metadata": {
        "id": "Y7Xg1Rd7SvYw",
        "colab_type": "code",
        "colab": {}
      },
      "cell_type": "code",
      "source": [
        "y_train = y_train.tolist()\n",
        "y_test = y_test.tolist()"
      ],
      "execution_count": 0,
      "outputs": []
    },
    {
      "metadata": {
        "id": "ZaeKy5XuUss0",
        "colab_type": "code",
        "outputId": "98be588a-f67e-486e-9e41-d7bda043b8e7",
        "colab": {
          "base_uri": "https://localhost:8080/",
          "height": 204
        }
      },
      "cell_type": "code",
      "source": [
        "print((y_train[0:10]))\n",
        "print((my_x_train[0:10]))\n"
      ],
      "execution_count": 64,
      "outputs": [
        {
          "output_type": "stream",
          "text": [
            "[1, 0, 0, 1, 0, 0, 1, 0, 1, 0]\n",
            "[[42 46 43 41 42 46 43 41 31 46]\n",
            " [ 9 29 13  9 57 61 13 58 30 62]\n",
            " [16 15 16 15 15 16 15 16 15 16]\n",
            " [ 2  2  1  2  1  2  1  2  1  2]\n",
            " [10  7 11  8  7  8  7  8  7  8]\n",
            " [30 61 13 62 66  1 33 65  2 34]\n",
            " [ 3 19  4  3  4  3 15 24 16  4]\n",
            " [ 2  2  1  2  1  2  2  1  2  1]\n",
            " [ 7  8 10  7  8 11  7  8  7  8]\n",
            " [61 13 62 58  7 66 65  8  7 62]]\n"
          ],
          "name": "stdout"
        }
      ]
    },
    {
      "metadata": {
        "id": "BsUaDYDeTx3t",
        "colab_type": "code",
        "colab": {}
      },
      "cell_type": "code",
      "source": [
        "def create_model_and_apply_on_data(x_train, y_train,x_test, y_test, max_features,embedding_vector_dim = 64, batch_size = 32, epochs = 5, \n",
        "                                   loss = 'binary_crossentropy', optimizer='rmsprop', metrics=['accuracy'], plot_train_val_graph = False):\n",
        "  \n",
        "  #batch_size = 32\n",
        "\n",
        "  print('Build model...')\n",
        "  model = Sequential()\n",
        "  model.add(Embedding(max_features+1, embedding_vector_dim))\n",
        "  model.add(SimpleRNN(64, dropout=0.2, recurrent_dropout=0.2, return_sequences=True))\n",
        "  model.add(SimpleRNN(64, dropout=0.2, recurrent_dropout=0.2, return_sequences=True))\n",
        "  model.add(SimpleRNN(64, dropout=0.2, recurrent_dropout=0.2))\n",
        "  model.add(Dense(1, activation='sigmoid'))\n",
        "\n",
        "  model.summary()\n",
        "\n",
        "  # try using different optimizers and different optimizer configs\n",
        "  model.compile(loss= loss,\n",
        "                optimizer=optimizer,\n",
        "                metrics= metrics)#, mcor,recall, f1])\n",
        "\n",
        "  print('Train...')\n",
        "  history = model.fit(x_train, y_train,\n",
        "            batch_size=batch_size,\n",
        "            epochs=epochs,\n",
        "            validation_data=(x_test, y_test))\n",
        "  score, acc = model.evaluate(x_test, y_test,\n",
        "                              batch_size=batch_size)\n",
        "  print('Test score:', score)# i think score is loss value\n",
        "  print('Test accuracy:', acc)\n",
        " \n",
        "  if plot_train_val_graph:\n",
        "      plot_train_val_graph(history)\n",
        "      \n",
        "  return score, acc, history"
      ],
      "execution_count": 0,
      "outputs": []
    },
    {
      "metadata": {
        "id": "pCbjPxvEJUD8",
        "colab_type": "code",
        "colab": {
          "base_uri": "https://localhost:8080/",
          "height": 578
        },
        "outputId": "1b98295d-9dc0-4696-994b-2b1ccaa0f461"
      },
      "cell_type": "code",
      "source": [
        "create_model_and_apply_on_data(x_train, y_train,x_test, y_test, max_features)"
      ],
      "execution_count": 100,
      "outputs": [
        {
          "output_type": "stream",
          "text": [
            "Build model...\n",
            "_________________________________________________________________\n",
            "Layer (type)                 Output Shape              Param #   \n",
            "=================================================================\n",
            "embedding_24 (Embedding)     (None, None, 64)          7808      \n",
            "_________________________________________________________________\n",
            "simple_rnn_23 (SimpleRNN)    (None, None, 64)          8256      \n",
            "_________________________________________________________________\n",
            "simple_rnn_24 (SimpleRNN)    (None, None, 64)          8256      \n",
            "_________________________________________________________________\n",
            "simple_rnn_25 (SimpleRNN)    (None, 64)                8256      \n",
            "_________________________________________________________________\n",
            "dense_22 (Dense)             (None, 1)                 65        \n",
            "=================================================================\n",
            "Total params: 32,641\n",
            "Trainable params: 32,641\n",
            "Non-trainable params: 0\n",
            "_________________________________________________________________\n",
            "Train...\n",
            "Train on 2572 samples, validate on 643 samples\n",
            "Epoch 1/5\n",
            "2572/2572 [==============================] - 5s 2ms/step - loss: 0.3826 - acc: 0.8674 - val_loss: 1.8903 - val_acc: 0.3437\n",
            "Epoch 2/5\n",
            "2572/2572 [==============================] - 1s 364us/step - loss: 0.3252 - acc: 0.8857 - val_loss: 1.1303 - val_acc: 0.3577\n",
            "Epoch 3/5\n",
            "2572/2572 [==============================] - 1s 367us/step - loss: 0.1921 - acc: 0.9172 - val_loss: 0.8259 - val_acc: 0.7232\n",
            "Epoch 4/5\n",
            "2572/2572 [==============================] - 1s 366us/step - loss: 0.1383 - acc: 0.9440 - val_loss: 1.2959 - val_acc: 0.5101\n",
            "Epoch 5/5\n",
            "2572/2572 [==============================] - 1s 366us/step - loss: 0.1337 - acc: 0.9456 - val_loss: 1.0362 - val_acc: 0.6874\n",
            "643/643 [==============================] - 0s 138us/step\n",
            "Test score: 1.0361589256378578\n",
            "Test accuracy: 0.6874027994706138\n"
          ],
          "name": "stdout"
        }
      ]
    },
    {
      "metadata": {
        "id": "Rhnw6Y4kQbIz",
        "colab_type": "code",
        "colab": {}
      },
      "cell_type": "code",
      "source": [
        "embeddings = model.layers[0].get_weights()[0]\n",
        "print(embeddings)"
      ],
      "execution_count": 0,
      "outputs": []
    },
    {
      "metadata": {
        "id": "-f6NjJlkJFod",
        "colab_type": "code",
        "colab": {}
      },
      "cell_type": "code",
      "source": [
        "model.layers[1]."
      ],
      "execution_count": 0,
      "outputs": []
    },
    {
      "metadata": {
        "id": "HPT1K2r9RsFo",
        "colab_type": "code",
        "colab": {}
      },
      "cell_type": "code",
      "source": [
        "# `word_to_index` is a mapping (i.e. dict) from words to their index, e.g. `love`: 69\n",
        "words_embeddings = {w:embeddings[idx] for w, idx in word_to_index.items()}\n",
        "\n",
        "# now you can use it like this for example\n",
        "print(words_embeddings['love'])  # possible output: [0.21, 0.56, ..., 0.65, 0.10]\n"
      ],
      "execution_count": 0,
      "outputs": []
    },
    {
      "metadata": {
        "id": "yhQ1x75KbI19",
        "colab_type": "code",
        "colab": {}
      },
      "cell_type": "code",
      "source": [
        "print(type(score) , type(acc))"
      ],
      "execution_count": 0,
      "outputs": []
    },
    {
      "metadata": {
        "id": "au02di-ubMqE",
        "colab_type": "code",
        "outputId": "a68cff59-1a0f-42a6-888b-3ef89722c2ea",
        "colab": {
          "base_uri": "https://localhost:8080/",
          "height": 379
        }
      },
      "cell_type": "code",
      "source": [
        ""
      ],
      "execution_count": 76,
      "outputs": [
        {
          "output_type": "stream",
          "text": [
            "epochs: range(1, 11)\n"
          ],
          "name": "stdout"
        },
        {
          "output_type": "display_data",
          "data": {
            "image/png": "[encoded data removed]",
            "text/plain": [
              "<Figure size 576x396 with 1 Axes>"
            ]
          },
          "metadata": {
            "tags": []
          }
        }
      ]
    },
    {
      "metadata": {
        "id": "v6qlruTYcrfl",
        "colab_type": "code",
        "colab": {}
      },
      "cell_type": "code",
      "source": [
        ""
      ],
      "execution_count": 0,
      "outputs": []
    }
  ]
}