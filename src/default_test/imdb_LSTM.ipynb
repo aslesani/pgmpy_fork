{
  "nbformat": 4,
  "nbformat_minor": 0,
  "metadata": {
    "colab": {
      "name": "imdb_LSTM.ipynb",
      "version": "0.3.2",
      "provenance": [],
      "collapsed_sections": [],
      "include_colab_link": true
    },
    "kernelspec": {
      "name": "python3",
      "display_name": "Python 3"
    }
  },
  "cells": [
    {
      "cell_type": "markdown",
      "metadata": {
        "id": "view-in-github",
        "colab_type": "text"
      },
      "source": [
        "<a href=\"https://colab.research.google.com/github/aslesani/pgmpy_fork/blob/master/src/default_test/imdb_LSTM.ipynb\" target=\"_parent\"><img src=\"https://colab.research.google.com/assets/colab-badge.svg\" alt=\"Open In Colab\"/></a>"
      ]
    },
    {
      "metadata": {
        "id": "OmJrgoGBTfgJ",
        "colab_type": "code",
        "outputId": "25e7e927-73ea-45ce-9389-9b7467090203",
        "colab": {
          "base_uri": "https://localhost:8080/",
          "height": 34
        }
      },
      "cell_type": "code",
      "source": [
        "'''Trains an LSTM model on the IMDB sentiment classification task.\n",
        "The dataset is actually too small for LSTM to be of any advantage\n",
        "compared to simpler, much faster methods such as TF-IDF + LogReg.\n",
        "# Notes\n",
        "- RNNs are tricky. Choice of batch size is important,\n",
        "choice of loss and optimizer is critical, etc.\n",
        "Some configurations won't converge.\n",
        "- LSTM loss decrease patterns during training can be quite different\n",
        "from what you see with CNNs/MLPs/etc.\n",
        "'''\n",
        "from __future__ import print_function\n",
        "\n",
        "from keras.preprocessing import sequence\n",
        "from keras.models import Sequential\n",
        "from keras.layers import Dense, Embedding\n",
        "from keras.layers import LSTM\n",
        "from keras.datasets import imdb"
      ],
      "execution_count": 2,
      "outputs": [
        {
          "output_type": "stream",
          "text": [
            "Using TensorFlow backend.\n"
          ],
          "name": "stderr"
        }
      ]
    },
    {
      "metadata": {
        "id": "HTSg_MbmUHIw",
        "colab_type": "code",
        "colab": {}
      },
      "cell_type": "code",
      "source": [
        "def print_hello():\n",
        "    print(\"hello\")\n"
      ],
      "execution_count": 0,
      "outputs": []
    },
    {
      "metadata": {
        "id": "WJSdFzlqcakL",
        "colab_type": "code",
        "colab": {}
      },
      "cell_type": "code",
      "source": [
        "import matplotlib.pyplot as plt\n",
        "\n",
        "def plot_train_val_graph(history):\n",
        "  loss = history.history['loss']\n",
        "  val_loss = history.history['val_loss']\n",
        "  epochs = range(1, len(loss) + 1)\n",
        "  print('epochs:' , epochs)\n",
        "  plt.figure()\n",
        "  plt.plot(epochs, loss, 'bo', label='Training loss')\n",
        "  plt.plot(epochs, val_loss, 'b', label='Validation loss')\n",
        "  plt.title('Training and validation loss')\n",
        "  plt.legend()\n",
        "  plt.show()\n"
      ],
      "execution_count": 0,
      "outputs": []
    },
    {
      "metadata": {
        "id": "ChXfRjq4jJko",
        "colab_type": "code",
        "colab": {}
      },
      "cell_type": "code",
      "source": [
        "def get_max_len_of_sequences(list_of_sequences):\n",
        "  lengths = [len(list_of_sequences[i]) for i in range(len(list_of_sequences))]\n",
        "  return max(lengths) , min(lengths) , lengths"
      ],
      "execution_count": 0,
      "outputs": []
    },
    {
      "metadata": {
        "id": "P_zUyBhXljmq",
        "colab_type": "code",
        "colab": {}
      },
      "cell_type": "code",
      "source": [
        "def get_set_of_sensor_events(list_of_sequences):\n",
        " \n",
        "  set_of_sensor_events = set()\n",
        "  \n",
        "  for i in range(len(list_of_sequences)):\n",
        "      set_of_sensor_events = set_of_sensor_events.union(set(list_of_sequences[i]))\n",
        "  \n",
        "  return set_of_sensor_events, len(set_of_sensor_events)\n",
        "  "
      ],
      "execution_count": 0,
      "outputs": []
    },
    {
      "metadata": {
        "id": "mEamFO9BcqWi",
        "colab_type": "code",
        "colab": {
          "base_uri": "https://localhost:8080/",
          "height": 34
        },
        "outputId": "d7d08e52-fd38-4803-ec85-09ca004cac80"
      },
      "cell_type": "code",
      "source": [
        "ls"
      ],
      "execution_count": 6,
      "outputs": [
        {
          "output_type": "stream",
          "text": [
            "\u001b[0m\u001b[01;34mcreated_dataset\u001b[0m/  \u001b[01;34mpgmpy_fork\u001b[0m/  \u001b[01;34msample_data\u001b[0m/\n"
          ],
          "name": "stdout"
        }
      ]
    },
    {
      "metadata": {
        "id": "PSnIdgbbWlm6",
        "colab_type": "code",
        "colab": {
          "base_uri": "https://localhost:8080/",
          "height": 136
        },
        "outputId": "4a1be05d-4844-4604-b769-8b37740378fa"
      },
      "cell_type": "code",
      "source": [
        "!git clone https://github.com/aslesani/pgmpy_fork.git\n"
      ],
      "execution_count": 7,
      "outputs": [
        {
          "output_type": "stream",
          "text": [
            "Cloning into 'pgmpy_fork'...\n",
            "remote: Enumerating objects: 124, done.\u001b[K\n",
            "remote: Counting objects:   0% (1/124)   \u001b[K\rremote: Counting objects:   1% (2/124)   \u001b[K\rremote: Counting objects:   2% (3/124)   \u001b[K\rremote: Counting objects:   3% (4/124)   \u001b[K\rremote: Counting objects:   4% (5/124)   \u001b[K\rremote: Counting objects:   5% (7/124)   \u001b[K\rremote: Counting objects:   6% (8/124)   \u001b[K\rremote: Counting objects:   7% (9/124)   \u001b[K\rremote: Counting objects:   8% (10/124)   \u001b[K\rremote: Counting objects:   9% (12/124)   \u001b[K\rremote: Counting objects:  10% (13/124)   \u001b[K\rremote: Counting objects:  11% (14/124)   \u001b[K\rremote: Counting objects:  12% (15/124)   \u001b[K\rremote: Counting objects:  13% (17/124)   \u001b[K\rremote: Counting objects:  14% (18/124)   \u001b[K\rremote: Counting objects:  15% (19/124)   \u001b[K\rremote: Counting objects:  16% (20/124)   \u001b[K\rremote: Counting objects:  17% (22/124)   \u001b[K\rremote: Counting objects:  18% (23/124)   \u001b[K\rremote: Counting objects:  19% (24/124)   \u001b[K\rremote: Counting objects:  20% (25/124)   \u001b[K\rremote: Counting objects:  21% (27/124)   \u001b[K\rremote: Counting objects:  22% (28/124)   \u001b[K\rremote: Counting objects:  23% (29/124)   \u001b[K\rremote: Counting objects:  24% (30/124)   \u001b[K\rremote: Counting objects:  25% (31/124)   \u001b[K\rremote: Counting objects:  26% (33/124)   \u001b[K\rremote: Counting objects:  27% (34/124)   \u001b[K\rremote: Counting objects:  28% (35/124)   \u001b[K\rremote: Counting objects:  29% (36/124)   \u001b[K\rremote: Counting objects:  30% (38/124)   \u001b[K\rremote: Counting objects:  31% (39/124)   \u001b[K\rremote: Counting objects:  32% (40/124)   \u001b[K\rremote: Counting objects:  33% (41/124)   \u001b[K\rremote: Counting objects:  34% (43/124)   \u001b[K\rremote: Counting objects:  35% (44/124)   \u001b[K\rremote: Counting objects:  36% (45/124)   \u001b[K\rremote: Counting objects:  37% (46/124)   \u001b[K\rremote: Counting objects:  38% (48/124)   \u001b[K\rremote: Counting objects:  39% (49/124)   \u001b[K\rremote: Counting objects:  40% (50/124)   \u001b[K\rremote: Counting objects:  41% (51/124)   \u001b[K\rremote: Counting objects:  42% (53/124)   \u001b[K\rremote: Counting objects:  43% (54/124)   \u001b[K\rremote: Counting objects:  44% (55/124)   \u001b[K\rremote: Counting objects:  45% (56/124)   \u001b[K\rremote: Counting objects:  46% (58/124)   \u001b[K\rremote: Counting objects:  47% (59/124)   \u001b[K\rremote: Counting objects:  48% (60/124)   \u001b[K\rremote: Counting objects:  49% (61/124)   \u001b[K\rremote: Counting objects:  50% (62/124)   \u001b[K\rremote: Counting objects:  51% (64/124)   \u001b[K\rremote: Counting objects:  52% (65/124)   \u001b[K\rremote: Counting objects:  53% (66/124)   \u001b[K\rremote: Counting objects:  54% (67/124)   \u001b[K\rremote: Counting objects:  55% (69/124)   \u001b[K\rremote: Counting objects:  56% (70/124)   \u001b[K\rremote: Counting objects:  57% (71/124)   \u001b[K\rremote: Counting objects:  58% (72/124)   \u001b[K\rremote: Counting objects:  59% (74/124)   \u001b[K\rremote: Counting objects:  60% (75/124)   \u001b[K\rremote: Counting objects:  61% (76/124)   \u001b[K\rremote: Counting objects:  62% (77/124)   \u001b[K\rremote: Counting objects:  63% (79/124)   \u001b[K\rremote: Counting objects:  64% (80/124)   \u001b[K\rremote: Counting objects:  65% (81/124)   \u001b[K\rremote: Counting objects:  66% (82/124)   \u001b[K\rremote: Counting objects:  67% (84/124)   \u001b[K\rremote: Counting objects:  68% (85/124)   \u001b[K\rremote: Counting objects:  69% (86/124)   \u001b[K\rremote: Counting objects:  70% (87/124)   \u001b[K\rremote: Counting objects:  71% (89/124)   \rremote: Counting objects:  72% (90/124)   \u001b[K\rremote: Counting objects:  73% (91/124)   \u001b[K\rremote: Counting objects:  74% (92/124)   \u001b[K\rremote: Counting objects:  75% (93/124)   \u001b[K\rremote: Counting objects:  76% (95/124)   \u001b[K\rremote: Counting objects:  77% (96/124)   \u001b[K\rremote: Counting objects:  78% (97/124)   \u001b[K\rremote: Counting objects:  79% (98/124)   \u001b[K\rremote: Counting objects:  80% (100/124)   \u001b[K\rremote: Counting objects:  81% (101/124)   \u001b[K\rremote: Counting objects:  82% (102/124)   \u001b[K\rremote: Counting objects:  83% (103/124)   \u001b[K\rremote: Counting objects:  84% (105/124)   \u001b[K\rremote: Counting objects:  85% (106/124)   \u001b[K\rremote: Counting objects:  86% (107/124)   \u001b[K\rremote: Counting objects:  87% (108/124)   \u001b[K\rremote: Counting objects:  88% (110/124)   \u001b[K\rremote: Counting objects:  89% (111/124)   \u001b[K\rremote: Counting objects:  90% (112/124)   \u001b[K\rremote: Counting objects:  91% (113/124)   \u001b[K\rremote: Counting objects:  92% (115/124)   \u001b[K\rremote: Counting objects:  93% (116/124)   \u001b[K\rremote: Counting objects:  94% (117/124)   \u001b[K\rremote: Counting objects:  95% (118/124)   \u001b[K\rremote: Counting objects:  96% (120/124)   \u001b[K\rremote: Counting objects:  97% (121/124)   \u001b[K\rremote: Counting objects:  98% (122/124)   \u001b[K\rremote: Counting objects:  99% (123/124)   \u001b[K\rremote: Counting objects: 100% (124/124)   \u001b[K\rremote: Counting objects: 100% (124/124), done.\u001b[K\n",
            "remote: Compressing objects:   1% (1/63)   \u001b[K\rremote: Compressing objects:   3% (2/63)   \u001b[K\rremote: Compressing objects:   4% (3/63)   \u001b[K\rremote: Compressing objects:   6% (4/63)   \u001b[K\rremote: Compressing objects:   7% (5/63)   \u001b[K\rremote: Compressing objects:   9% (6/63)   \u001b[K\rremote: Compressing objects:  11% (7/63)   \u001b[K\rremote: Compressing objects:  12% (8/63)   \u001b[K\rremote: Compressing objects:  14% (9/63)   \u001b[K\rremote: Compressing objects:  15% (10/63)   \u001b[K\rremote: Compressing objects:  17% (11/63)   \u001b[K\rremote: Compressing objects:  19% (12/63)   \u001b[K\rremote: Compressing objects:  20% (13/63)   \u001b[K\rremote: Compressing objects:  22% (14/63)   \u001b[K\rremote: Compressing objects:  23% (15/63)   \u001b[K\rremote: Compressing objects:  25% (16/63)   \u001b[K\rremote: Compressing objects:  26% (17/63)   \u001b[K\rremote: Compressing objects:  28% (18/63)   \u001b[K\rremote: Compressing objects:  30% (19/63)   \u001b[K\rremote: Compressing objects:  31% (20/63)   \u001b[K\rremote: Compressing objects:  33% (21/63)   \u001b[K\rremote: Compressing objects:  34% (22/63)   \u001b[K\rremote: Compressing objects:  36% (23/63)   \u001b[K\rremote: Compressing objects:  38% (24/63)   \u001b[K\rremote: Compressing objects:  39% (25/63)   \u001b[K\rremote: Compressing objects:  41% (26/63)   \u001b[K\rremote: Compressing objects:  42% (27/63)   \u001b[K\rremote: Compressing objects:  44% (28/63)   \u001b[K\rremote: Compressing objects:  46% (29/63)   \u001b[K\rremote: Compressing objects:  47% (30/63)   \u001b[K\rremote: Compressing objects:  49% (31/63)   \u001b[K\rremote: Compressing objects:  50% (32/63)   \u001b[K\rremote: Compressing objects:  52% (33/63)   \u001b[K\rremote: Compressing objects:  53% (34/63)   \u001b[K\rremote: Compressing objects:  55% (35/63)   \u001b[K\rremote: Compressing objects:  57% (36/63)   \u001b[K\rremote: Compressing objects:  58% (37/63)   \u001b[K\rremote: Compressing objects:  60% (38/63)   \u001b[K\rremote: Compressing objects:  61% (39/63)   \u001b[K\rremote: Compressing objects:  63% (40/63)   \u001b[K\rremote: Compressing objects:  65% (41/63)   \u001b[K\rremote: Compressing objects:  66% (42/63)   \u001b[K\rremote: Compressing objects:  68% (43/63)   \u001b[K\rremote: Compressing objects:  69% (44/63)   \u001b[K\rremote: Compressing objects:  71% (45/63)   \u001b[K\rremote: Compressing objects:  73% (46/63)   \u001b[K\rremote: Compressing objects:  74% (47/63)   \u001b[K\rremote: Compressing objects:  76% (48/63)   \u001b[K\rremote: Compressing objects:  77% (49/63)   \u001b[K\rremote: Compressing objects:  79% (50/63)   \u001b[K\rremote: Compressing objects:  80% (51/63)   \u001b[K\rremote: Compressing objects:  82% (52/63)   \u001b[K\rremote: Compressing objects:  84% (53/63)   \u001b[K\rremote: Compressing objects:  85% (54/63)   \u001b[K\rremote: Compressing objects:  87% (55/63)   \u001b[K\rremote: Compressing objects:  88% (56/63)   \u001b[K\rremote: Compressing objects:  90% (57/63)   \u001b[K\rremote: Compressing objects:  92% (58/63)   \u001b[K\rremote: Compressing objects:  93% (59/63)   \u001b[K\rremote: Compressing objects:  95% (60/63)   \u001b[K\rremote: Compressing objects:  96% (61/63)   \u001b[K\rremote: Compressing objects:  98% (62/63)   \u001b[K\rremote: Compressing objects: 100% (63/63)   \u001b[K\rremote: Compressing objects: 100% (63/63), done.\u001b[K\n",
            "Receiving objects:   0% (1/893)   \rReceiving objects:   1% (9/893)   \rReceiving objects:   2% (18/893)   \rReceiving objects:   3% (27/893)   \rReceiving objects:   4% (36/893)   \rReceiving objects:   5% (45/893)   \rReceiving objects:   6% (54/893)   \rReceiving objects:   7% (63/893)   \rReceiving objects:   8% (72/893)   \rReceiving objects:   9% (81/893)   \rReceiving objects:  10% (90/893)   \rReceiving objects:  11% (99/893)   \rReceiving objects:  12% (108/893)   \rReceiving objects:  13% (117/893)   \rReceiving objects:  14% (126/893)   \rReceiving objects:  15% (134/893)   \rReceiving objects:  16% (143/893)   \rReceiving objects:  17% (152/893)   \rReceiving objects:  18% (161/893)   \rReceiving objects:  19% (170/893)   \rReceiving objects:  20% (179/893)   \rReceiving objects:  21% (188/893)   \rReceiving objects:  22% (197/893)   \rReceiving objects:  23% (206/893)   \rReceiving objects:  24% (215/893)   \rReceiving objects:  25% (224/893)   \rReceiving objects:  26% (233/893)   \rReceiving objects:  27% (242/893)   \rReceiving objects:  28% (251/893)   \rReceiving objects:  29% (259/893)   \rReceiving objects:  30% (268/893)   \rReceiving objects:  31% (277/893)   \rReceiving objects:  32% (286/893)   \rReceiving objects:  33% (295/893)   \rReceiving objects:  34% (304/893)   \rReceiving objects:  35% (313/893)   \rReceiving objects:  36% (322/893)   \rReceiving objects:  37% (331/893)   \rReceiving objects:  38% (340/893)   \rReceiving objects:  39% (349/893)   \rReceiving objects:  40% (358/893)   \rReceiving objects:  41% (367/893)   \rReceiving objects:  42% (376/893)   \rReceiving objects:  43% (384/893)   \rReceiving objects:  44% (393/893)   \rReceiving objects:  45% (402/893)   \rReceiving objects:  46% (411/893)   \rReceiving objects:  47% (420/893)   \rReceiving objects:  48% (429/893)   \rReceiving objects:  49% (438/893)   \rReceiving objects:  50% (447/893)   \rReceiving objects:  51% (456/893)   \rReceiving objects:  52% (465/893)   \rReceiving objects:  53% (474/893)   \rReceiving objects:  54% (483/893)   \rReceiving objects:  55% (492/893)   \rReceiving objects:  56% (501/893)   \rReceiving objects:  57% (510/893)   \rReceiving objects:  58% (518/893)   \rReceiving objects:  59% (527/893)   \rReceiving objects:  60% (536/893)   \rReceiving objects:  61% (545/893)   \rReceiving objects:  62% (554/893)   \rReceiving objects:  63% (563/893)   \rReceiving objects:  64% (572/893)   \rReceiving objects:  65% (581/893)   \rReceiving objects:  66% (590/893)   \rReceiving objects:  67% (599/893)   \rReceiving objects:  68% (608/893)   \rReceiving objects:  69% (617/893)   \rReceiving objects:  70% (626/893)   \rReceiving objects:  71% (635/893)   \rReceiving objects:  72% (643/893)   \rReceiving objects:  73% (652/893)   \rReceiving objects:  74% (661/893)   \rReceiving objects:  75% (670/893)   \rReceiving objects:  76% (679/893)   \rReceiving objects:  77% (688/893)   \rReceiving objects:  78% (697/893)   \rReceiving objects:  79% (706/893)   \rReceiving objects:  80% (715/893)   \rReceiving objects:  81% (724/893)   \rReceiving objects:  82% (733/893)   \rReceiving objects:  83% (742/893)   \rReceiving objects:  84% (751/893)   \rReceiving objects:  85% (760/893)   \rReceiving objects:  86% (768/893)   \rReceiving objects:  87% (777/893)   \rReceiving objects:  88% (786/893)   \rReceiving objects:  89% (795/893)   \rReceiving objects:  90% (804/893)   \rremote: Total 893 (delta 56), reused 92 (delta 40), pack-reused 769\u001b[K\n",
            "Receiving objects:  91% (813/893)   \rReceiving objects:  92% (822/893)   \rReceiving objects:  93% (831/893)   \rReceiving objects:  94% (840/893)   \rReceiving objects:  95% (849/893)   \rReceiving objects:  96% (858/893)   \rReceiving objects:  97% (867/893)   \rReceiving objects:  98% (876/893)   \rReceiving objects:  99% (885/893)   \rReceiving objects: 100% (893/893)   \rReceiving objects: 100% (893/893), 476.68 KiB | 7.57 MiB/s, done.\n",
            "Resolving deltas:   0% (0/486)   \rResolving deltas:  44% (216/486)   \rResolving deltas:  56% (274/486)   \rResolving deltas:  58% (285/486)   \rResolving deltas:  70% (344/486)   \rResolving deltas:  72% (351/486)   \rResolving deltas:  74% (361/486)   \rResolving deltas:  75% (367/486)   \rResolving deltas:  76% (370/486)   \rResolving deltas:  80% (389/486)   \rResolving deltas:  81% (394/486)   \rResolving deltas:  82% (401/486)   \rResolving deltas:  83% (408/486)   \rResolving deltas:  84% (412/486)   \rResolving deltas:  85% (414/486)   \rResolving deltas:  86% (418/486)   \rResolving deltas:  90% (442/486)   \rResolving deltas:  95% (463/486)   \rResolving deltas:  96% (467/486)   \rResolving deltas:  97% (472/486)   \rResolving deltas:  98% (478/486)   \rResolving deltas:  99% (483/486)   \rResolving deltas: 100% (486/486)   \rResolving deltas: 100% (486/486), done.\n"
          ],
          "name": "stdout"
        }
      ]
    },
    {
      "metadata": {
        "id": "1jA2fYD1Wxcn",
        "colab_type": "code",
        "colab": {
          "base_uri": "https://localhost:8080/",
          "height": 34
        },
        "outputId": "105a917e-df05-4837-cb3b-322aab2bf1d0"
      },
      "cell_type": "code",
      "source": [
        "ls"
      ],
      "execution_count": 32,
      "outputs": [
        {
          "output_type": "stream",
          "text": [
            "\u001b[0m\u001b[01;34mcreated_dataset\u001b[0m/  \u001b[01;34mpgmpy_fork\u001b[0m/  \u001b[01;34msample_data\u001b[0m/\n"
          ],
          "name": "stdout"
        }
      ]
    },
    {
      "metadata": {
        "id": "Zie8KaEFZ48Y",
        "colab_type": "code",
        "colab": {
          "base_uri": "https://localhost:8080/",
          "height": 119
        },
        "outputId": "58119ff7-27bf-4dce-9a27-a6aef5405cf5"
      },
      "cell_type": "code",
      "source": [
        "!git clone https://github.com/aslesani/created_dataset.git"
      ],
      "execution_count": 8,
      "outputs": [
        {
          "output_type": "stream",
          "text": [
            "Cloning into 'created_dataset'...\n",
            "remote: Enumerating objects: 87, done.\u001b[K\n",
            "remote: Counting objects:   1% (1/87)   \u001b[K\rremote: Counting objects:   2% (2/87)   \u001b[K\rremote: Counting objects:   3% (3/87)   \u001b[K\rremote: Counting objects:   4% (4/87)   \u001b[K\rremote: Counting objects:   5% (5/87)   \u001b[K\rremote: Counting objects:   6% (6/87)   \u001b[K\rremote: Counting objects:   8% (7/87)   \u001b[K\rremote: Counting objects:   9% (8/87)   \u001b[K\rremote: Counting objects:  10% (9/87)   \u001b[K\rremote: Counting objects:  11% (10/87)   \u001b[K\rremote: Counting objects:  12% (11/87)   \u001b[K\rremote: Counting objects:  13% (12/87)   \u001b[K\rremote: Counting objects:  14% (13/87)   \u001b[K\rremote: Counting objects:  16% (14/87)   \u001b[K\rremote: Counting objects:  17% (15/87)   \u001b[K\rremote: Counting objects:  18% (16/87)   \u001b[K\rremote: Counting objects:  19% (17/87)   \u001b[K\rremote: Counting objects:  20% (18/87)   \u001b[K\rremote: Counting objects:  21% (19/87)   \u001b[K\rremote: Counting objects:  22% (20/87)   \u001b[K\rremote: Counting objects:  24% (21/87)   \u001b[K\rremote: Counting objects:  25% (22/87)   \u001b[K\rremote: Counting objects:  26% (23/87)   \u001b[K\rremote: Counting objects:  27% (24/87)   \u001b[K\rremote: Counting objects:  28% (25/87)   \u001b[K\rremote: Counting objects:  29% (26/87)   \u001b[K\rremote: Counting objects:  31% (27/87)   \u001b[K\rremote: Counting objects:  32% (28/87)   \u001b[K\rremote: Counting objects:  33% (29/87)   \u001b[K\rremote: Counting objects:  34% (30/87)   \u001b[K\rremote: Counting objects:  35% (31/87)   \u001b[K\rremote: Counting objects:  36% (32/87)   \u001b[K\rremote: Counting objects:  37% (33/87)   \u001b[K\rremote: Counting objects:  39% (34/87)   \u001b[K\rremote: Counting objects:  40% (35/87)   \u001b[K\rremote: Counting objects:  41% (36/87)   \u001b[K\rremote: Counting objects:  42% (37/87)   \u001b[K\rremote: Counting objects:  43% (38/87)   \u001b[K\rremote: Counting objects:  44% (39/87)   \u001b[K\rremote: Counting objects:  45% (40/87)   \u001b[K\rremote: Counting objects:  47% (41/87)   \u001b[K\rremote: Counting objects:  48% (42/87)   \u001b[K\rremote: Counting objects:  49% (43/87)   \u001b[K\rremote: Counting objects:  50% (44/87)   \u001b[K\rremote: Counting objects:  51% (45/87)   \u001b[K\rremote: Counting objects:  52% (46/87)   \u001b[K\rremote: Counting objects:  54% (47/87)   \u001b[K\rremote: Counting objects:  55% (48/87)   \u001b[K\rremote: Counting objects:  56% (49/87)   \u001b[K\rremote: Counting objects:  57% (50/87)   \u001b[K\rremote: Counting objects:  58% (51/87)   \u001b[K\rremote: Counting objects:  59% (52/87)   \u001b[K\rremote: Counting objects:  60% (53/87)   \u001b[K\rremote: Counting objects:  62% (54/87)   \u001b[K\rremote: Counting objects:  63% (55/87)   \u001b[K\rremote: Counting objects:  64% (56/87)   \u001b[K\rremote: Counting objects:  65% (57/87)   \u001b[K\rremote: Counting objects:  66% (58/87)   \u001b[K\rremote: Counting objects:  67% (59/87)   \u001b[K\rremote: Counting objects:  68% (60/87)   \u001b[K\rremote: Counting objects:  70% (61/87)   \u001b[K\rremote: Counting objects:  71% (62/87)   \u001b[K\rremote: Counting objects:  72% (63/87)   \u001b[K\rremote: Counting objects:  73% (64/87)   \u001b[K\rremote: Counting objects:  74% (65/87)   \u001b[K\rremote: Counting objects:  75% (66/87)   \u001b[K\rremote: Counting objects:  77% (67/87)   \u001b[K\rremote: Counting objects:  78% (68/87)   \u001b[K\rremote: Counting objects:  79% (69/87)   \u001b[K\rremote: Counting objects:  80% (70/87)   \u001b[K\rremote: Counting objects:  81% (71/87)   \u001b[K\rremote: Counting objects:  82% (72/87)   \u001b[K\rremote: Counting objects:  83% (73/87)   \u001b[K\rremote: Counting objects:  85% (74/87)   \u001b[K\rremote: Counting objects:  86% (75/87)   \u001b[K\rremote: Counting objects:  87% (76/87)   \u001b[K\rremote: Counting objects:  88% (77/87)   \u001b[K\rremote: Counting objects:  89% (78/87)   \u001b[K\rremote: Counting objects:  90% (79/87)   \u001b[K\rremote: Counting objects:  91% (80/87)   \u001b[K\rremote: Counting objects:  93% (81/87)   \u001b[K\rremote: Counting objects:  94% (82/87)   \u001b[K\rremote: Counting objects:  95% (83/87)   \u001b[K\rremote: Counting objects:  96% (84/87)   \u001b[K\rremote: Counting objects:  97% (85/87)   \u001b[K\rremote: Counting objects:  98% (86/87)   \u001b[K\rremote: Counting objects: 100% (87/87)   \u001b[K\rremote: Counting objects: 100% (87/87), done.\u001b[K\n",
            "remote: Compressing objects: 100% (13/13), done.\u001b[K\n",
            "remote: Total 87 (delta 74), reused 87 (delta 74), pack-reused 0\u001b[K\n",
            "Unpacking objects: 100% (87/87), done.\n"
          ],
          "name": "stdout"
        }
      ]
    },
    {
      "metadata": {
        "id": "gm5MvbeOaKX9",
        "colab_type": "code",
        "colab": {}
      },
      "cell_type": "code",
      "source": [
        "#cd .."
      ],
      "execution_count": 0,
      "outputs": []
    },
    {
      "metadata": {
        "id": "lxVQEHqhbAxp",
        "colab_type": "code",
        "colab": {
          "base_uri": "https://localhost:8080/",
          "height": 102
        },
        "outputId": "bb177185-a4cd-4b2d-e039-518824c8a28c"
      },
      "cell_type": "code",
      "source": [
        "ls created_dataset"
      ],
      "execution_count": 33,
      "outputs": [
        {
          "output_type": "stream",
          "text": [
            "\u001b[0m\u001b[01;34m'Seq of Bag of sensor events_based_on_activity_and_no_overlap_delta'\u001b[0m/\n",
            "\u001b[01;34m'Seq of sensor events_based on activities'\u001b[0m/\n",
            "\u001b[01;34m'Seq of sensor events_based_on_activity_and_no_overlap_delta'\u001b[0m/\n",
            "\u001b[01;34m'Seq of sensor events_based_on_number_of_events'\u001b[0m/\n",
            "\u001b[01;34m'Seq of sensor events_no overlap_based on different deltas'\u001b[0m/\n"
          ],
          "name": "stdout"
        }
      ]
    },
    {
      "metadata": {
        "id": "ZHVxnEXWcSx_",
        "colab_type": "code",
        "colab": {
          "base_uri": "https://localhost:8080/",
          "height": 34
        },
        "outputId": "ac9ef280-2115-4e84-dc7c-c23e1fbf286e"
      },
      "cell_type": "code",
      "source": [
        "ls \"created_dataset/Seq of sensor events_based on activities\""
      ],
      "execution_count": 34,
      "outputs": [
        {
          "output_type": "stream",
          "text": [
            "based_on_activities.csv\n"
          ],
          "name": "stdout"
        }
      ]
    },
    {
      "metadata": {
        "id": "gAlXpTKoaHcv",
        "colab_type": "code",
        "colab": {
          "base_uri": "https://localhost:8080/",
          "height": 34
        },
        "outputId": "d8bbf6e9-5675-4ef0-8f1b-655f7f88673d"
      },
      "cell_type": "code",
      "source": [
        "!ls"
      ],
      "execution_count": 11,
      "outputs": [
        {
          "output_type": "stream",
          "text": [
            "created_dataset  pgmpy_fork  sample_data\n"
          ],
          "name": "stdout"
        }
      ]
    },
    {
      "metadata": {
        "id": "sRITYv2ydN4l",
        "colab_type": "code",
        "colab": {
          "base_uri": "https://localhost:8080/",
          "height": 34
        },
        "outputId": "3dac5b06-eaad-452e-8a71-471b67382aaf"
      },
      "cell_type": "code",
      "source": [
        "cd pgmpy_fork"
      ],
      "execution_count": 12,
      "outputs": [
        {
          "output_type": "stream",
          "text": [
            "/content/pgmpy_fork\n"
          ],
          "name": "stdout"
        }
      ]
    },
    {
      "metadata": {
        "id": "2dOgDJTBdRSi",
        "colab_type": "code",
        "colab": {
          "base_uri": "https://localhost:8080/",
          "height": 34
        },
        "outputId": "873262bb-bb7e-4d2e-9450-5101613d2563"
      },
      "cell_type": "code",
      "source": [
        "ls"
      ],
      "execution_count": 13,
      "outputs": [
        {
          "output_type": "stream",
          "text": [
            "'pgmpy_fork - Shortcut.lnk'   \u001b[0m\u001b[01;34msrc\u001b[0m/\n"
          ],
          "name": "stdout"
        }
      ]
    },
    {
      "metadata": {
        "id": "daXQ4WE9dUtL",
        "colab_type": "code",
        "colab": {
          "base_uri": "https://localhost:8080/",
          "height": 34
        },
        "outputId": "4352979f-2305-4bf7-d2ec-00b94c57e273"
      },
      "cell_type": "code",
      "source": [
        "cd src"
      ],
      "execution_count": 14,
      "outputs": [
        {
          "output_type": "stream",
          "text": [
            "/content/pgmpy_fork/src\n"
          ],
          "name": "stdout"
        }
      ]
    },
    {
      "metadata": {
        "id": "sEOEuH82dXy6",
        "colab_type": "code",
        "colab": {
          "base_uri": "https://localhost:8080/",
          "height": 34
        },
        "outputId": "1cf72c54-4804-4c42-cde5-e80ea7c2ba01"
      },
      "cell_type": "code",
      "source": [
        "ls"
      ],
      "execution_count": 15,
      "outputs": [
        {
          "output_type": "stream",
          "text": [
            "\u001b[0m\u001b[01;34mdefault_test\u001b[0m/\n"
          ],
          "name": "stdout"
        }
      ]
    },
    {
      "metadata": {
        "id": "vBNJ5WHGdaUq",
        "colab_type": "code",
        "colab": {
          "base_uri": "https://localhost:8080/",
          "height": 34
        },
        "outputId": "6d30eba0-1452-4414-b31d-10a8290c4fb3"
      },
      "cell_type": "code",
      "source": [
        "cd default_test"
      ],
      "execution_count": 16,
      "outputs": [
        {
          "output_type": "stream",
          "text": [
            "/content/pgmpy_fork/src/default_test\n"
          ],
          "name": "stdout"
        }
      ]
    },
    {
      "metadata": {
        "id": "mJ0w31_-doeE",
        "colab_type": "code",
        "colab": {
          "base_uri": "https://localhost:8080/",
          "height": 34
        },
        "outputId": "d3bdcbf4-66de-42ba-f082-c8de865e7f03"
      },
      "cell_type": "code",
      "source": [
        "ls"
      ],
      "execution_count": 23,
      "outputs": [
        {
          "output_type": "stream",
          "text": [
            "\u001b[0m\u001b[01;34mcreated_dataset\u001b[0m/  \u001b[01;34mpgmpy_fork\u001b[0m/  \u001b[01;34msample_data\u001b[0m/\n"
          ],
          "name": "stdout"
        }
      ]
    },
    {
      "metadata": {
        "id": "Npd2VghtklVO",
        "colab_type": "code",
        "colab": {}
      },
      "cell_type": "code",
      "source": [
        "#! cd pgmpy_fork/src/default_test\n",
        "#!ls\n",
        "from  read_write import read_sequence_of_bags_CSV_file_with_activity, read_sequence_based_CSV_file_with_activity\n",
        "address_to_read= r\"created_dataset/Seq of sensor events_based on activities/based_on_activities.csv\"\n",
        "list_of_data , list_of_persons , _ = read_sequence_based_CSV_file_with_activity(file_address = address_to_read, has_header = True , separate_data_based_on_persons = False, separate_words= False)\n"
      ],
      "execution_count": 0,
      "outputs": []
    },
    {
      "metadata": {
        "id": "Z-93nwPKZU7L",
        "colab_type": "code",
        "colab": {
          "base_uri": "https://localhost:8080/",
          "height": 34
        },
        "outputId": "0a0d1280-72b3-4385-b788-c7e0f9fa56a7"
      },
      "cell_type": "code",
      "source": [
        "ls"
      ],
      "execution_count": 13,
      "outputs": [
        {
          "output_type": "stream",
          "text": [
            "\u001b[0m\u001b[01;34mcreated_dataset\u001b[0m/  \u001b[01;34mpgmpy_fork\u001b[0m/  \u001b[01;34msample_data\u001b[0m/\n"
          ],
          "name": "stdout"
        }
      ]
    },
    {
      "metadata": {
        "id": "EyU6ZdFphnBn",
        "colab_type": "code",
        "colab": {}
      },
      "cell_type": "code",
      "source": [
        "max_seq_len, min_seq_len , lens = get_max_len_of_sequences(list_of_data)"
      ],
      "execution_count": 0,
      "outputs": []
    },
    {
      "metadata": {
        "id": "u5SDRBG0kX5n",
        "colab_type": "code",
        "colab": {
          "base_uri": "https://localhost:8080/",
          "height": 34
        },
        "outputId": "f2d07ff2-5453-4c02-e770-307fb59621bd"
      },
      "cell_type": "code",
      "source": [
        "print(max_seq_len, min_seq_len)"
      ],
      "execution_count": 26,
      "outputs": [
        {
          "output_type": "stream",
          "text": [
            "2216 1\n"
          ],
          "name": "stdout"
        }
      ]
    },
    {
      "metadata": {
        "id": "6BGoFcRok3fu",
        "colab_type": "code",
        "colab": {
          "base_uri": "https://localhost:8080/",
          "height": 54
        },
        "outputId": "2eb9fc55-ffcd-46d1-eb21-ba50cd348499"
      },
      "cell_type": "code",
      "source": [
        "print(lens)"
      ],
      "execution_count": 62,
      "outputs": [
        {
          "output_type": "stream",
          "text": [
            "[79, 102, 162, 1353, 167, 68, 488, 273, 271, 59, 48, 199, 219, 798, 310, 88, 19, 1561, 51, 274, 11, 1, 1, 1, 1, 1, 2, 1, 1, 1, 1, 1, 1, 1, 1, 1, 1, 2, 1, 1, 3, 1, 1, 1, 2, 1, 2, 1, 2, 1, 1, 1, 2, 1, 1, 1, 5, 34, 1, 5, 3, 1, 1, 15, 1, 1, 1, 12, 95, 165, 1076, 1, 3, 2, 1, 1, 1, 1, 2, 6, 1, 1, 3, 27, 1, 2, 1, 11, 2, 9, 1, 3, 1, 20, 1, 1, 2, 1, 1, 8, 2, 3, 2, 4, 2, 7, 1, 39, 2, 3, 3, 1, 1, 4, 1, 1, 1, 16, 4, 15, 2, 1, 1, 1, 1, 20, 2, 1, 1, 1, 1, 9, 3, 4, 1, 2, 1, 1, 2, 2, 4, 1, 6, 1, 1, 1, 1, 5, 3, 2, 2, 6, 2, 16, 3, 4, 1, 4, 2, 5, 2, 4, 1, 3, 3, 18, 1, 1, 1, 1, 2, 1, 2, 3, 2, 1, 1, 2, 1, 1, 1, 1, 1, 1, 2, 4, 2, 1, 1, 1, 2, 2, 1, 30, 1, 1, 1, 7, 1, 1, 2, 143, 1, 1, 2, 2, 1, 1, 2, 1, 7, 1, 1, 3, 6, 2, 4, 1, 1, 1, 3, 1, 1, 1, 5, 1, 1, 1, 3, 1, 1, 2, 1, 1, 14, 2, 2, 2, 1, 1, 1, 1, 2, 1, 4, 1, 1, 1, 15, 1, 4, 1, 3, 2, 1, 2, 3, 6, 2, 1, 1, 2, 2, 2, 3, 1, 2, 1, 2, 1, 2, 1, 1, 1, 1, 2, 1, 3, 2, 2, 1, 4, 6, 2, 1, 4, 30, 3, 4, 1, 1, 1, 1, 1, 3, 6, 1, 2, 3, 2, 1, 2, 1, 2, 1, 1, 1, 1, 1, 1, 1, 4, 1, 2, 1, 2, 2, 3, 1, 1, 4, 5, 1, 1, 2, 6, 1, 3, 1, 1, 9, 1, 1, 1, 6, 7, 1, 1, 1, 2, 1, 1, 2, 3, 1, 1, 1, 2, 1, 1, 2, 4, 2, 13, 1, 1, 2, 8, 1, 3, 1, 9, 7, 1, 1, 10, 5, 1, 1, 1, 3, 2, 1, 1, 6, 3, 1, 2, 2, 1, 1, 2, 1, 2, 1, 1, 2, 1, 2, 3, 1, 4, 1, 2, 1, 1, 1, 18, 1, 2, 1, 3, 1, 4, 1, 1, 2, 2, 1, 1, 1, 7, 2, 2, 4, 1, 3, 1, 2, 1, 1, 2, 1, 1, 2, 2, 2, 1, 3, 2, 1, 1, 6, 2, 1, 3, 1, 1, 3, 4, 2, 5, 1, 1, 1, 6, 2, 1, 1, 1, 1, 1, 1, 1, 4, 2, 1, 1, 5, 1, 1, 3, 3, 1, 1, 3, 2, 1, 1, 1, 1, 2, 1, 5, 2, 5, 2, 4, 1, 2, 1, 3, 1, 1, 1, 1, 3, 1, 1, 5, 2, 3, 2, 4, 1, 1, 2, 1, 1, 1, 2, 2, 1, 1, 1, 1, 1, 1, 1, 2, 4, 2, 2, 1, 2, 5, 2, 6, 2, 6, 1, 2, 4, 2, 1, 2, 4, 2, 5, 1, 1, 1, 7, 2, 2, 2, 2, 2, 5, 6, 2, 9, 8, 2, 1, 2, 3, 12, 2, 8, 1, 2, 3, 2, 2, 2, 1, 2, 3, 11, 1, 1, 1, 6, 8, 2, 19, 1, 2, 3, 1, 2, 1, 3, 1, 1, 1, 2, 3, 1, 2, 1, 3, 1, 1, 1, 1, 2, 1, 1, 2, 2, 1, 1, 2, 1, 2, 1, 14, 2, 3, 1, 1, 1, 1, 2, 4, 1, 2, 1, 1, 3, 1, 2, 1, 1, 2, 1, 1, 3, 1, 1, 1, 5, 3, 1, 2, 5, 1, 2, 1, 3, 1, 5, 1, 2, 1, 3, 1, 1, 1, 3, 1, 3, 1, 3, 1, 3, 3, 1, 1, 2, 2, 2, 2, 1, 1, 1, 1, 3, 1, 2, 1, 1, 1, 1, 1, 2, 2, 2, 6, 2, 1, 5, 5, 3, 1, 2, 2, 1, 1, 1, 12, 2, 2, 2, 1, 1, 1, 2, 2, 1, 1, 1, 5, 2, 15, 2, 1, 1, 1, 2, 2, 1, 6, 1, 2, 1, 20, 3, 5, 1, 5, 2, 2, 2, 2, 2, 1, 1, 5, 2, 2, 4, 33, 362, 1, 1, 1, 1, 1, 2, 1, 1, 2, 2, 2, 1, 1, 1, 1, 2, 2, 1, 1, 2, 1, 1, 1, 1, 2, 2, 1, 1, 2, 2, 3, 1, 1, 1, 1, 1, 1, 1, 3, 1, 1, 1, 2, 2, 1, 50, 87, 1062, 55, 274, 46, 67, 213, 52, 204, 505, 407, 52, 849, 125, 1, 1, 1, 1, 1, 2, 1, 1, 48, 255, 34, 139, 1106, 44, 492, 44, 55, 79, 495, 416, 70, 57, 120, 259, 336, 411, 78, 206, 154, 323, 472, 256, 21, 71, 188, 55, 535, 468, 193, 46, 71, 293, 176, 291, 536, 216, 179, 251, 450, 144, 213, 858, 78, 1, 2, 1, 59, 1, 2, 1, 16, 1, 4, 1, 24, 1, 3, 1, 2, 1, 8, 1, 1, 1, 33, 17, 2, 28, 1, 1, 5, 736, 380, 156, 124, 1657, 112, 64, 960, 133, 164, 40, 220, 34, 254, 119, 203, 55, 4, 3, 3, 1, 2, 1, 2, 2, 3, 1, 2, 1, 124, 2, 2, 1, 2, 1, 53, 1, 5, 1, 10, 51, 7, 1, 2, 5, 1, 1, 1, 8, 16, 17, 6, 2, 2, 23, 2, 5, 2, 2, 1, 1, 1, 9, 10, 36, 2, 1, 10, 2, 6, 21, 2, 7, 12, 44, 4, 2, 1, 1, 2, 1, 1, 1, 3, 1, 1, 29, 1, 1, 1, 1, 8, 5, 2, 3, 8, 26, 2, 12, 1, 2, 1, 39, 2, 5, 10, 2, 4, 2, 21, 60, 671, 140, 128, 53, 2083, 215, 83, 194, 64, 1050, 347, 61, 68, 38, 634, 16, 6, 4, 24, 8, 15, 2, 2, 2, 14, 2, 1, 1, 1, 1, 14, 2, 16, 2, 76, 4, 14, 1, 1, 2, 1, 1, 4, 3, 1, 1, 3, 12, 1, 2, 25, 8, 3, 1, 1, 1, 9, 461, 95, 85, 73, 401, 264, 230, 287, 2, 133, 1, 1, 1, 4, 6, 2, 2, 5, 1, 1, 1, 2, 2, 121, 2, 229, 1, 1, 1, 10, 4, 2, 1, 1, 1, 2, 1, 1, 1, 61, 1, 1, 3, 42, 2, 2, 2, 67, 3, 15, 2, 55, 1, 1, 1, 8, 1, 1, 1, 6, 2, 50, 2, 31, 2, 34, 9, 38, 6, 1, 2, 6, 2, 12, 2, 46, 4, 259, 243, 32, 99, 613, 1, 1, 2, 2, 2, 5, 1, 1, 3, 1, 3, 2, 1, 6, 2, 12, 4, 4, 8, 1, 1, 2, 1, 1, 2, 8, 1, 1, 3, 7, 5, 1, 1, 1, 1, 1, 2, 1, 1, 4, 2, 8, 1, 1, 1, 1, 2, 2, 6, 2, 1, 1, 1, 3, 2, 2, 1, 1, 1, 3, 3, 2, 1, 10, 8, 4, 2, 7, 2, 3, 1, 1, 2, 1, 11, 3, 1, 2, 3, 1, 1, 2, 1, 3, 2, 1, 1, 1, 2, 2, 1, 1, 2, 1, 1, 1, 2, 7, 1, 1, 1, 5, 1, 1, 1, 1, 4, 2, 3, 1, 1, 1, 4, 2, 1, 1, 1, 2, 2, 4, 1, 1, 2, 1, 5, 1, 11, 2, 1, 1, 1, 1, 2, 1, 1, 1, 2, 1, 3, 2, 1, 1, 1, 3, 4, 1, 7, 2, 4, 3, 3, 1, 1, 1, 2, 1, 2, 1, 6, 1, 3, 1, 2, 1, 6, 1, 1, 1, 4, 2, 3, 1, 2, 1, 1, 1, 1, 2, 3, 1, 4, 1, 3, 3, 3, 3, 1, 1, 1, 1, 2, 1, 2, 1, 1, 1, 1, 2, 5, 2, 2, 1, 2, 1, 4, 1, 1, 1, 1, 1, 1, 1, 1, 3, 3, 1, 8, 1, 1, 1, 4, 1, 3, 4, 2, 1, 1, 1, 3, 2, 2, 2, 3, 3, 2, 2, 6, 2, 4, 2, 11, 7, 2, 2, 1, 2, 10, 1, 4, 1, 1, 6, 3, 1, 3, 1, 1, 1, 2, 1, 1, 1, 4, 1, 2, 1, 36, 1, 2, 1, 2, 2, 1, 1, 2, 4, 12, 1, 1, 1, 2, 3, 2, 1, 1, 1, 1, 5, 1, 4, 3, 3, 1, 1, 3, 2, 2, 2, 4, 1, 2, 2, 1, 1, 3, 1, 1, 1, 10, 1, 1, 1, 2, 2, 5, 1, 1, 1, 1, 1, 2, 3, 1, 1, 1, 5, 4, 4, 2, 2, 2, 6, 1, 1, 1, 4, 1, 1, 5, 1, 1, 1, 12, 5, 1, 1, 6, 1, 3, 3, 6, 2, 6, 2, 2, 4, 4, 2, 6, 2, 18, 2, 1, 1, 2, 1, 6, 1, 2, 1, 2, 1, 2, 1, 7, 1, 2, 1, 2, 2, 5, 1, 1, 1, 2, 2, 7, 3, 1, 2, 1, 1, 4, 2, 3, 2, 6, 2, 2, 4, 7, 2, 2, 1, 1, 1, 12, 4, 1, 1, 3, 1, 2, 1, 8, 1, 35, 2, 17, 1, 1, 1, 26, 2, 3, 1, 2, 3, 1, 1, 2, 3, 7, 1, 4, 1, 2, 2, 11, 1, 1, 3, 10, 4, 3, 1, 1, 1, 2, 2, 6, 6, 6, 1, 1, 1, 2, 2, 7, 4, 16, 2, 3, 3, 1, 1, 2, 1, 3, 1, 4, 1, 3, 1, 2, 1, 1, 1, 1, 1, 2, 1, 2, 2, 2, 2, 2, 4, 1, 1, 1, 1, 1, 1, 3, 1, 4, 1, 1, 13, 4, 1, 1, 2, 4, 1, 2, 1, 1, 31, 10, 1, 5, 1, 2, 1, 2, 3, 1, 1, 2, 1, 1, 1, 1, 2, 1, 1, 12, 51, 9, 1, 1, 2, 1, 1, 2, 1, 1, 1, 5, 1, 1, 2, 1, 1, 4, 2, 1, 1, 1, 1, 2, 1, 1, 1, 1, 8, 1, 2, 5, 1, 4, 1, 1, 6, 1, 2, 1, 4, 4, 1, 1, 1, 1, 1, 6, 2, 2, 1, 9, 1, 1, 1, 1, 2, 2, 1, 1, 1, 2, 1, 2, 1, 10, 12, 2, 1, 3, 1, 1, 7, 12, 4, 2, 3, 1, 1, 2, 3, 1, 2, 1, 2, 1, 3, 2, 4, 1, 4, 1, 2, 1, 2, 1, 2, 1, 2, 3, 2, 2, 3, 1, 1, 1, 3, 5, 2, 3, 2, 5, 1, 1, 5, 2, 4, 4, 1, 1, 1, 6, 2, 3, 4, 3, 1, 2, 3, 4, 2, 6, 1, 2, 8, 4, 1, 2, 1, 1, 1, 1, 2, 2, 1, 1, 1, 9, 1, 1, 1, 20, 1, 1, 1, 5, 2, 10, 1, 1, 2, 1, 2, 1, 1, 2, 1, 1, 1, 2, 7, 20, 4, 1, 1, 1, 1, 4, 5, 2, 4, 2, 21, 2, 1, 2, 1, 2, 12, 28, 6, 8, 5, 1, 5, 19, 1, 2, 5, 9, 11, 1, 1, 1, 1, 2, 3, 3, 1, 2, 2, 1, 2, 2, 1, 3, 1, 2, 1, 6, 1, 27, 521, 62, 70, 95, 2216, 493, 60, 146, 122, 116, 114, 30, 122, 110, 269, 734, 500, 8, 1, 5, 1, 6, 3, 1, 1, 1, 7, 2, 1, 3, 1, 3, 1, 2, 2, 1, 1, 1, 1, 2, 2, 1, 1, 1, 1, 3, 1, 3, 1, 4, 2, 3, 1, 3, 1, 3, 1, 1, 5, 1, 1, 1, 1, 1, 2, 3, 2, 1, 2, 3, 2, 2, 4, 1, 1, 2, 1, 1, 1, 2, 2, 3, 1, 1, 4, 4, 1, 1, 1, 2, 2, 3, 1, 1, 1, 1, 2, 2, 1, 1, 1, 1, 1, 1, 1, 26, 6, 2, 2, 1, 1, 1, 1, 1, 2, 1, 1, 2, 12, 4, 1, 2, 1, 1, 2, 1, 1, 1, 1, 2, 1, 5, 1, 1, 3, 1, 1, 1, 7, 1, 1, 1, 3, 2, 1, 1, 1, 2, 1, 1, 1, 3, 1, 2, 2, 2, 3, 1, 1, 3, 1, 1, 1, 3, 1, 1, 4, 1, 1, 1, 5, 6, 12, 16, 2, 2, 4, 6, 10, 1, 2, 2, 1, 1, 5, 1, 2, 3, 4, 6, 2, 4, 1, 1, 1, 1, 2, 2, 7, 3, 1, 1, 9, 2, 2, 2, 8, 2, 6, 6, 4, 10, 8, 2, 2, 2, 18, 6, 2, 4, 11, 2, 8, 362, 113, 49, 74, 110, 467, 46, 252, 87, 180, 16, 1, 1, 1, 5, 1, 4, 1, 14, 2, 56, 1, 3, 2, 1, 1, 2, 1, 9, 2, 1, 2, 4, 1, 2, 1, 6, 1, 1, 1, 5, 1, 1, 1, 16, 2, 4, 2, 3, 1, 1, 1, 4, 2, 4, 2, 3, 1, 1, 2, 1, 1, 2, 1, 1, 1, 5, 381, 38, 174, 172, 651, 1, 1, 6, 1, 1, 2, 1, 3, 1, 4, 1, 1, 1, 2, 2, 1, 2, 1, 2, 3, 351, 4, 206, 37, 97, 280, 230, 1341, 222, 816, 598, 43, 140, 274, 4, 1, 33, 7, 1, 1, 2, 1, 1, 5, 8, 17, 174, 546, 372, 59, 120, 469, 32, 8, 28, 2, 57, 23, 4, 118, 219, 2039, 316, 158, 22, 132, 44, 72, 583, 342, 63, 259, 142, 206, 429, 290, 47, 190, 61, 152, 102, 434, 320, 233, 70, 210, 260, 311, 230, 276, 340, 57, 164, 337, 125, 200, 56, 260, 401, 35, 62, 128, 201, 276, 173, 343, 141, 303, 206, 229, 1, 1, 1, 1, 4, 1, 9, 1, 125, 1, 1, 1, 3, 1, 1, 71, 2, 1, 101, 367, 64, 207, 6, 1, 48, 39, 235, 239, 125, 120, 3, 1, 12, 1, 4, 14, 2, 1, 12, 1, 3, 5, 1, 3, 165, 16, 21, 2, 3, 83, 3, 1, 1, 1, 1, 1, 1, 3, 1, 1, 1, 1, 1, 1, 28, 1, 1, 1, 1, 1, 1, 30, 4, 1, 49, 2, 1, 2, 3, 7, 23, 203, 188, 447, 153, 16, 1, 1, 54, 37, 1, 1, 1, 1, 26, 1, 16, 2, 1, 221, 36, 2, 1, 2, 1, 5, 412, 51, 60, 2, 1, 2, 2, 36, 1, 1, 1, 1, 1, 1, 46, 2, 1, 1, 2, 21, 2, 3, 1, 1, 11, 1, 6, 1, 25, 2, 1, 1, 1, 2, 18, 156, 49, 181, 101, 3, 2, 3, 1, 4, 2, 3, 16, 1, 4, 5, 5, 1, 42, 4, 2, 9, 1, 1, 1, 1, 1, 1, 13, 3, 1, 1, 1, 1, 3, 1, 16, 1, 3, 4, 2, 2, 32, 1, 5, 3, 1, 1, 2, 112, 33, 4, 3, 2, 2, 34, 2, 2, 1, 1, 8, 1, 1, 1, 1, 1, 1, 51, 431, 39, 104, 484, 362, 2, 2, 1, 2, 2, 21, 2, 6, 2, 4, 9, 3, 2, 2, 1, 9, 2, 2, 1, 2, 27, 6, 2, 7, 2, 3, 11, 2, 2, 2, 1, 5, 3, 1, 1, 1, 27, 3, 1, 2, 1, 17, 2, 3, 45, 2, 1, 1, 2, 20, 2, 1, 1, 2, 34, 2, 1, 1, 2, 3, 2, 1, 1, 1, 3, 2, 1, 3, 1, 1, 3, 2, 3, 1, 1, 1, 1, 4, 2, 70, 2, 3, 19, 1, 1, 34, 1, 1, 1, 1, 1, 1, 13, 1, 1, 1, 1, 26, 111, 2, 1, 2, 1, 1, 1, 1, 73, 1, 1, 1, 2, 1, 1, 1, 9, 4, 11, 100, 21, 480, 374, 44, 50, 47, 178, 46, 296, 38, 48, 94, 1, 2, 54, 25, 1, 1, 22, 162, 69, 34, 1, 1, 1, 1, 2, 1, 22, 28, 1, 1, 1, 1, 1, 1, 22, 2, 1, 18, 1, 2, 152, 98, 1, 2, 150, 47, 55, 52, 156, 30, 68, 328, 278, 258, 179, 542, 54, 161, 438, 305, 256, 41, 160, 285, 214, 331, 344, 232, 194, 66, 201, 476, 39, 35, 23, 2, 1, 2, 1, 2, 1, 27, 1, 2, 1, 1, 1, 1, 104, 2, 1, 4, 1, 2, 3, 1, 16, 1, 1, 1, 3, 1340, 166, 605, 36, 274, 67, 145, 70, 174, 140, 103, 27, 65, 17, 10, 4, 16, 22, 206, 425, 174, 284, 26, 7, 1, 1, 2, 1, 1, 1, 10, 1, 2, 1, 1, 2, 1, 54, 9, 1, 1, 19, 5, 1, 1, 1, 49, 14, 38, 2, 1, 14, 16, 15, 17, 40, 211, 137, 20, 362, 53, 84, 66, 44, 99, 1124, 254, 94, 245, 785, 45, 140, 113, 1, 1, 1, 1, 5, 1, 3, 1, 1, 1, 1, 1, 2, 1, 1, 1, 1, 2, 2, 2, 2, 2, 1, 1, 1, 1, 2, 1, 1, 1, 1, 1, 1, 1, 1, 2, 9, 1, 2, 161, 90, 225, 70, 115, 310, 53, 86, 302, 14, 13, 1, 3, 82, 1, 6, 2, 2, 1, 1, 3, 2, 64, 1, 2, 2, 1, 16, 1, 2, 1, 1, 13, 1, 4, 1, 8, 1, 6, 1, 37, 1, 2, 22, 3, 1, 1, 8, 1, 2, 5, 1, 1, 1, 26, 2, 1, 23, 3, 1, 29, 1, 3, 13, 1, 1, 3, 1, 27, 2, 2, 24, 1, 1, 1, 1, 7, 1, 2, 1, 1, 2, 1, 39, 1, 354, 815, 335, 363, 10, 1, 3, 1, 3, 1, 1, 4, 1, 28, 33, 158, 296, 406, 77, 824, 52, 86, 75, 145, 699, 96, 357, 78, 62, 728, 341, 322, 131, 55, 46, 321, 352, 131, 27, 1, 1, 30, 1, 1, 14, 1, 1, 18, 1, 1, 1, 1, 5, 2, 4, 1, 1, 1, 80, 2, 3, 29, 5, 2, 3, 7, 1, 2, 1, 1, 18, 1, 1, 1, 1, 14, 22, 9, 13, 2, 1, 12, 21, 847, 325, 38, 335, 443, 179, 156, 53, 384, 45, 47, 97, 288, 152, 536, 330, 324, 45, 491, 248, 76, 238, 80, 217, 45, 83, 432, 127, 379, 96, 282, 461, 72, 41, 230, 49, 138, 154, 267, 495, 1, 698, 268, 128, 353, 50, 48, 271, 296, 289, 87, 1, 99, 349, 690, 43, 50, 261, 43, 121, 80, 45, 143, 253, 1, 1, 1, 1, 1, 3, 5, 1, 1, 1, 33, 1, 1, 1, 1, 3, 1, 4, 1, 2, 2, 2, 4, 1, 1, 1, 2, 60, 2, 1, 1, 2, 4, 7, 2, 3, 1, 2, 43, 160, 276, 919, 42, 116, 44, 99, 53, 72, 20, 2, 267, 72, 347, 272, 168, 303, 45, 72, 299, 75, 623, 95, 294, 32, 35, 131, 80, 166, 7, 1, 1, 2, 1, 69, 1, 1, 1, 2, 1, 2, 2, 2, 2, 1, 31, 2, 1, 1, 1, 2, 2, 1, 68, 2, 1, 12, 1, 2, 1, 1, 7, 2, 1, 2, 1, 4, 1, 2, 23, 1, 2, 1, 27, 1, 1, 1, 1, 41, 2, 2, 9, 1, 1, 1, 1, 1, 1, 2, 1, 8, 39, 452, 66, 77, 192, 63, 251, 193, 119, 12, 2, 1, 1, 1, 21, 2, 1, 1, 1, 51, 2, 2, 20, 1, 2, 1, 1, 3, 1, 13, 2, 1, 153, 122, 240]\n"
          ],
          "name": "stdout"
        }
      ]
    },
    {
      "metadata": {
        "id": "NTF2KZDEnMBe",
        "colab_type": "code",
        "colab": {}
      },
      "cell_type": "code",
      "source": [
        "sensor_events , number_of_events = get_set_of_sensor_events(list_of_data)"
      ],
      "execution_count": 0,
      "outputs": []
    },
    {
      "metadata": {
        "id": "8gyUu8donRLc",
        "colab_type": "code",
        "colab": {
          "base_uri": "https://localhost:8080/",
          "height": 54
        },
        "outputId": "78c07d07-fa64-4505-9935-ad8cfed276cc"
      },
      "cell_type": "code",
      "source": [
        "print(sorted(sensor_events))"
      ],
      "execution_count": 29,
      "outputs": [
        {
          "output_type": "stream",
          "text": [
            "['D03_off', 'D03_on', 'D05_on', 'D07_off', 'D07_on', 'D08_off', 'D08_on', 'D09_off', 'D09_on', 'D10_off', 'D10_on', 'D12_off', 'D12_on', 'D14_off', 'D14_on', 'D15_off', 'D15_on', 'I03_off', 'I03_on', 'M01_off', 'M01_on', 'M02_off', 'M02_on', 'M03_off', 'M03_on', 'M04_off', 'M04_on', 'M05_off', 'M05_on', 'M06_off', 'M06_on', 'M07_off', 'M07_on', 'M08_off', 'M08_on', 'M09_off', 'M09_on', 'M10_off', 'M10_on', 'M11_off', 'M11_on', 'M12_off', 'M12_on', 'M13_off', 'M13_on', 'M14_off', 'M14_on', 'M15_off', 'M15_on', 'M16_off', 'M16_on', 'M17_off', 'M17_on', 'M18_off', 'M18_on', 'M19_off', 'M19_on', 'M20_off', 'M20_on', 'M21_off', 'M21_on', 'M22_off', 'M22_on', 'M23_off', 'M23_on', 'M24_off', 'M24_on', 'M25_off', 'M25_on', 'M26_off', 'M26_on', 'M27_off', 'M27_on', 'M28_off', 'M28_on', 'M29_off', 'M29_on', 'M30_off', 'M30_on', 'M31_off', 'M31_on', 'M32_off', 'M32_on', 'M33_off', 'M33_on', 'M34_off', 'M34_on', 'M35_off', 'M35_on', 'M36_off', 'M36_on', 'M37_off', 'M37_on', 'M38_off', 'M38_on', 'M39_off', 'M39_on', 'M40_off', 'M40_on', 'M41_off', 'M41_on', 'M42_off', 'M42_on', 'M43_off', 'M43_on', 'M44_off', 'M44_on', 'M45_off', 'M45_on', 'M46_off', 'M46_on', 'M47_off', 'M47_on', 'M48_off', 'M48_on', 'M49_off', 'M49_on', 'M50_off', 'M50_on', 'M51_off', 'M51_on']\n"
          ],
          "name": "stdout"
        }
      ]
    },
    {
      "metadata": {
        "id": "q73LOuzQhUHR",
        "colab_type": "code",
        "colab": {
          "base_uri": "https://localhost:8080/",
          "height": 34
        },
        "outputId": "af6c689b-6ac8-4536-8e4a-55f86c1c85a8"
      },
      "cell_type": "code",
      "source": [
        "print(type(list_of_data[0][0]))"
      ],
      "execution_count": 54,
      "outputs": [
        {
          "output_type": "stream",
          "text": [
            "<class 'str'>\n"
          ],
          "name": "stdout"
        }
      ]
    },
    {
      "metadata": {
        "id": "uLKUwGxKwHPy",
        "colab_type": "code",
        "colab": {
          "base_uri": "https://localhost:8080/",
          "height": 34
        },
        "outputId": "1d3d8c27-53b4-4736-efa8-10b7a1eb71cf"
      },
      "cell_type": "code",
      "source": [
        "from keras.preprocessing.text import Tokenizer\n",
        "tokenizer = Tokenizer(num_words = number_of_events, filters='!\"#$%&()*+,-./:;<=>?@[\\]^`{|}~')\n",
        "list_of_data = [r'salam man', r\"'M38_off' , 'M38_on'\"]\n",
        "tokenizer.fit_on_texts(list_of_data)\n",
        "seqs = tokenizer.texts_to_sequences(list_of_data)\n",
        "print(seqs)\n"
      ],
      "execution_count": 53,
      "outputs": [
        {
          "output_type": "stream",
          "text": [
            "[[1, 2], [3, 4]]\n"
          ],
          "name": "stdout"
        }
      ]
    },
    {
      "metadata": {
        "id": "8AscGUTnfMzp",
        "colab_type": "code",
        "colab": {
          "base_uri": "https://localhost:8080/",
          "height": 34
        },
        "outputId": "0cb9181d-4b49-49e1-9b53-f3a162ee8a98"
      },
      "cell_type": "code",
      "source": [
        ""
      ],
      "execution_count": 34,
      "outputs": [
        {
          "output_type": "stream",
          "text": [
            "None\n"
          ],
          "name": "stdout"
        }
      ]
    },
    {
      "metadata": {
        "id": "bUbyz1O5TtEV",
        "colab_type": "code",
        "outputId": "705d075b-3c90-4796-f4c1-2155605112b0",
        "colab": {
          "base_uri": "https://localhost:8080/",
          "height": 156
        }
      },
      "cell_type": "code",
      "source": [
        "max_features = 20000\n",
        "# cut texts after this number of words (among top max_features most common words)\n",
        "maxlen = 80\n",
        "batch_size = 32\n",
        "\n",
        "print('Loading data...')\n",
        "(x_train, y_train), (x_test, y_test) = imdb.load_data(num_words=max_features)\n",
        "print(len(x_train), 'train sequences')\n",
        "print(len(x_test), 'test sequences')\n",
        "\n",
        "print('before apply pad_sequence, x_train[0]:' , x_train[0])\n",
        "\n",
        "print('Pad sequences (samples x time)')\n",
        "x_train = sequence.pad_sequences(x_train, maxlen=maxlen)\n",
        "x_test = sequence.pad_sequences(x_test, maxlen=maxlen)\n",
        "print('x_train shape:', x_train.shape)\n",
        "print('x_test shape:', x_test.shape)"
      ],
      "execution_count": 0,
      "outputs": [
        {
          "output_type": "stream",
          "text": [
            "Loading data...\n",
            "25000 train sequences\n",
            "25000 test sequences\n",
            "before apply pad_sequence, x_train[0]: [1, 14, 22, 16, 43, 530, 973, 1622, 1385, 65, 458, 4468, 66, 3941, 4, 173, 36, 256, 5, 25, 100, 43, 838, 112, 50, 670, 2, 9, 35, 480, 284, 5, 150, 4, 172, 112, 167, 2, 336, 385, 39, 4, 172, 4536, 1111, 17, 546, 38, 13, 447, 4, 192, 50, 16, 6, 147, 2025, 19, 14, 22, 4, 1920, 4613, 469, 4, 22, 71, 87, 12, 16, 43, 530, 38, 76, 15, 13, 1247, 4, 22, 17, 515, 17, 12, 16, 626, 18, 19193, 5, 62, 386, 12, 8, 316, 8, 106, 5, 4, 2223, 5244, 16, 480, 66, 3785, 33, 4, 130, 12, 16, 38, 619, 5, 25, 124, 51, 36, 135, 48, 25, 1415, 33, 6, 22, 12, 215, 28, 77, 52, 5, 14, 407, 16, 82, 10311, 8, 4, 107, 117, 5952, 15, 256, 4, 2, 7, 3766, 5, 723, 36, 71, 43, 530, 476, 26, 400, 317, 46, 7, 4, 12118, 1029, 13, 104, 88, 4, 381, 15, 297, 98, 32, 2071, 56, 26, 141, 6, 194, 7486, 18, 4, 226, 22, 21, 134, 476, 26, 480, 5, 144, 30, 5535, 18, 51, 36, 28, 224, 92, 25, 104, 4, 226, 65, 16, 38, 1334, 88, 12, 16, 283, 5, 16, 4472, 113, 103, 32, 15, 16, 5345, 19, 178, 32]\n",
            "Pad sequences (samples x time)\n",
            "x_train shape: (25000, 80)\n",
            "x_test shape: (25000, 80)\n"
          ],
          "name": "stdout"
        }
      ]
    },
    {
      "metadata": {
        "id": "pOzO_O0GhlGn",
        "colab_type": "code",
        "colab": {}
      },
      "cell_type": "code",
      "source": [
        ""
      ],
      "execution_count": 0,
      "outputs": []
    },
    {
      "metadata": {
        "id": "ZaeKy5XuUss0",
        "colab_type": "code",
        "outputId": "c283e948-f9ce-4322-eb49-f726d8a25cd1",
        "colab": {
          "base_uri": "https://localhost:8080/",
          "height": 136
        }
      },
      "cell_type": "code",
      "source": [
        "print(x_train[0])"
      ],
      "execution_count": 0,
      "outputs": [
        {
          "output_type": "stream",
          "text": [
            "[   15   256     4     2     7  3766     5   723    36    71    43   530\n",
            "   476    26   400   317    46     7     4 12118  1029    13   104    88\n",
            "     4   381    15   297    98    32  2071    56    26   141     6   194\n",
            "  7486    18     4   226    22    21   134   476    26   480     5   144\n",
            "    30  5535    18    51    36    28   224    92    25   104     4   226\n",
            "    65    16    38  1334    88    12    16   283     5    16  4472   113\n",
            "   103    32    15    16  5345    19   178    32]\n"
          ],
          "name": "stdout"
        }
      ]
    },
    {
      "metadata": {
        "id": "BsUaDYDeTx3t",
        "colab_type": "code",
        "outputId": "dbd0ae0f-06a5-4e58-d60b-305575b95f07",
        "colab": {
          "base_uri": "https://localhost:8080/",
          "height": 289
        }
      },
      "cell_type": "code",
      "source": [
        "print('Build model...')\n",
        "model = Sequential()\n",
        "model.add(Embedding(max_features, 128))\n",
        "model.add(LSTM(128, dropout=0.2, recurrent_dropout=0.2))\n",
        "model.add(Dense(1, activation='sigmoid'))\n",
        "\n",
        "# try using different optimizers and different optimizer configs\n",
        "model.compile(loss='binary_crossentropy',\n",
        "              optimizer='adam',\n",
        "              metrics=['accuracy'])\n",
        "\n",
        "print('Train...')\n",
        "history = model.fit(x_train, y_train,\n",
        "          batch_size=batch_size,\n",
        "          epochs=5,\n",
        "          validation_data=(x_test, y_test))\n",
        "score, acc = model.evaluate(x_test, y_test,\n",
        "                            batch_size=batch_size)\n",
        "print('Test score:', score)# i think score is loss value\n",
        "print('Test accuracy:', acc)"
      ],
      "execution_count": 0,
      "outputs": [
        {
          "output_type": "stream",
          "text": [
            "Build model...\n",
            "Train...\n",
            "Train on 25000 samples, validate on 25000 samples\n",
            "Epoch 1/5\n",
            "25000/25000 [==============================] - 160s 6ms/step - loss: 0.4603 - acc: 0.7816 - val_loss: 0.4377 - val_acc: 0.8022\n",
            "Epoch 2/5\n",
            "25000/25000 [==============================] - 159s 6ms/step - loss: 0.3028 - acc: 0.8764 - val_loss: 0.3759 - val_acc: 0.8344\n",
            "Epoch 3/5\n",
            "25000/25000 [==============================] - 159s 6ms/step - loss: 0.2229 - acc: 0.9121 - val_loss: 0.4648 - val_acc: 0.8110\n",
            "Epoch 4/5\n",
            "25000/25000 [==============================] - 161s 6ms/step - loss: 0.1566 - acc: 0.9412 - val_loss: 0.4598 - val_acc: 0.8304\n",
            "Epoch 5/5\n",
            "25000/25000 [==============================] - 159s 6ms/step - loss: 0.1099 - acc: 0.9592 - val_loss: 0.6908 - val_acc: 0.8174\n",
            "25000/25000 [==============================] - 26s 1ms/step\n",
            "Test score: 0.6907526717042923\n",
            "Test accuracy: 0.8174\n"
          ],
          "name": "stdout"
        }
      ]
    },
    {
      "metadata": {
        "id": "yhQ1x75KbI19",
        "colab_type": "code",
        "colab": {}
      },
      "cell_type": "code",
      "source": [
        "print(type(score) , type(acc))"
      ],
      "execution_count": 0,
      "outputs": []
    },
    {
      "metadata": {
        "id": "au02di-ubMqE",
        "colab_type": "code",
        "outputId": "dcb92358-3e14-4100-8d38-001ed94a6ed8",
        "colab": {
          "base_uri": "https://localhost:8080/",
          "height": 379
        }
      },
      "cell_type": "code",
      "source": [
        "plot_train_val_graph(history)"
      ],
      "execution_count": 0,
      "outputs": [
        {
          "output_type": "stream",
          "text": [
            "epochs: range(1, 6)\n"
          ],
          "name": "stdout"
        },
        {
          "output_type": "display_data",
          "data": {
            "image/png": "[encoded data removed]",
            "text/plain": [
              "<matplotlib.figure.Figure at 0x7f809526b780>"
            ]
          },
          "metadata": {
            "tags": []
          }
        }
      ]
    },
    {
      "metadata": {
        "id": "v6qlruTYcrfl",
        "colab_type": "code",
        "colab": {}
      },
      "cell_type": "code",
      "source": [
        ""
      ],
      "execution_count": 0,
      "outputs": []
    }
  ]
}